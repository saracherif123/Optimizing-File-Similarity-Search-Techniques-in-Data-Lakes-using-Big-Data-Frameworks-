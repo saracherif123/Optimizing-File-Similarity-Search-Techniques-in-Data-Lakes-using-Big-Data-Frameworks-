{
  "nbformat": 4,
  "nbformat_minor": 0,
  "metadata": {
    "colab": {
      "provenance": [],
      "authorship_tag": "ABX9TyOALM/893Q8EQ2XHCH3oLZm",
      "include_colab_link": true
    },
    "kernelspec": {
      "name": "python3",
      "display_name": "Python 3"
    },
    "language_info": {
      "name": "python"
    }
  },
  "cells": [
    {
      "cell_type": "markdown",
      "metadata": {
        "id": "view-in-github",
        "colab_type": "text"
      },
      "source": [
        "<a href=\"https://colab.research.google.com/github/saracherif123/Optimizing-File-Similarity-Search-Techniques-in-Data-Lakes-using-Big-Data-Frameworks-/blob/main/Random_Forest_datesets_subject_main_match_.ipynb\" target=\"_parent\"><img src=\"https://colab.research.google.com/assets/colab-badge.svg\" alt=\"Open In Colab\"/></a>"
      ]
    },
    {
      "cell_type": "markdown",
      "source": [
        "# **Random Forest datesets_subject_main_match (Rel Model)**\n"
      ],
      "metadata": {
        "id": "krB_c7vNDcj_"
      }
    },
    {
      "cell_type": "markdown",
      "source": [
        "## Spark Confirguration in Google Colab\n",
        "\n",
        "\n",
        "\n",
        "\n"
      ],
      "metadata": {
        "id": "8HQlebY9FiU2"
      }
    },
    {
      "cell_type": "code",
      "source": [
        "!ls"
      ],
      "metadata": {
        "colab": {
          "base_uri": "https://localhost:8080/"
        },
        "id": "doOZN7ER_xgJ",
        "outputId": "60855e47-ac4d-4e12-9018-5a401a6228ca"
      },
      "execution_count": 2,
      "outputs": [
        {
          "output_type": "stream",
          "name": "stdout",
          "text": [
            "all_topics_datasets_matching.csv  sample_data\n"
          ]
        }
      ]
    },
    {
      "cell_type": "code",
      "source": [
        "!pwd"
      ],
      "metadata": {
        "colab": {
          "base_uri": "https://localhost:8080/"
        },
        "id": "OWpkUIgZ_yBS",
        "outputId": "8deacef8-123d-47d1-84e6-0368b85602ef"
      },
      "execution_count": 3,
      "outputs": [
        {
          "output_type": "stream",
          "name": "stdout",
          "text": [
            "/content\n"
          ]
        }
      ]
    },
    {
      "cell_type": "code",
      "source": [
        "!apt-get install openjdk-8-jdk-headless -qq > /dev/null\n",
        "!wget -q http://archive.apache.org/dist/spark/spark-3.1.1/spark-3.1.1-bin-hadoop3.2.tgz\n",
        "!tar xf spark-3.1.1-bin-hadoop3.2.tgz\n",
        "!pip install -q findspark"
      ],
      "metadata": {
        "id": "u3mL6zXB_yOG"
      },
      "execution_count": 4,
      "outputs": []
    },
    {
      "cell_type": "code",
      "source": [
        "import os\n",
        "os.environ[\"JAVA_HOME\"] = \"/usr/lib/jvm/java-8-openjdk-amd64\"\n",
        "os.environ[\"SPARK_HOME\"] = \"/content/spark-3.1.1-bin-hadoop3.2\""
      ],
      "metadata": {
        "id": "OVFJCkSD_yVU"
      },
      "execution_count": 5,
      "outputs": []
    },
    {
      "cell_type": "code",
      "source": [
        "import findspark\n",
        "findspark.init()\n",
        "from pyspark.sql import SparkSession\n",
        "spark = SparkSession.builder.master(\"local[*]\").getOrCreate()\n",
        "spark.conf.set(\"spark.sql.repl.eagerEval.enabled\", True) # Property used to format output tables better\n",
        "spark\n"
      ],
      "metadata": {
        "colab": {
          "base_uri": "https://localhost:8080/",
          "height": 219
        },
        "id": "58rRLDco_yfu",
        "outputId": "d2db1f8a-921b-4834-fa27-6a36292f13b8"
      },
      "execution_count": 6,
      "outputs": [
        {
          "output_type": "execute_result",
          "data": {
            "text/plain": [
              "<pyspark.sql.session.SparkSession at 0x7e631419f520>"
            ],
            "text/html": [
              "\n",
              "            <div>\n",
              "                <p><b>SparkSession - in-memory</b></p>\n",
              "                \n",
              "        <div>\n",
              "            <p><b>SparkContext</b></p>\n",
              "\n",
              "            <p><a href=\"http://75c600f2996f:4040\">Spark UI</a></p>\n",
              "\n",
              "            <dl>\n",
              "              <dt>Version</dt>\n",
              "                <dd><code>v3.1.1</code></dd>\n",
              "              <dt>Master</dt>\n",
              "                <dd><code>local[*]</code></dd>\n",
              "              <dt>AppName</dt>\n",
              "                <dd><code>pyspark-shell</code></dd>\n",
              "            </dl>\n",
              "        </div>\n",
              "        \n",
              "            </div>\n",
              "        "
            ]
          },
          "metadata": {},
          "execution_count": 6
        }
      ]
    },
    {
      "cell_type": "markdown",
      "source": [
        "### Import necessary libraries"
      ],
      "metadata": {
        "id": "K_VK0dbUHWs0"
      }
    },
    {
      "cell_type": "code",
      "source": [
        "from pyspark import SparkContext\n",
        "from pyspark.sql import SparkSession\n",
        "from pyspark.ml.feature import VectorAssembler\n",
        "from pyspark.ml.evaluation import MulticlassClassificationEvaluator\n",
        "import matplotlib.pyplot as plt\n",
        "from pyspark.sql.functions import col\n",
        "import matplotlib.pyplot as plt\n",
        "import seaborn as sns\n",
        "from pyspark.ml.clustering import KMeans\n",
        "from pyspark.ml.evaluation import ClusteringEvaluator\n",
        "from pyspark.sql.functions import col\n",
        "from pyspark.ml import Pipeline\n",
        "from pyspark.ml.classification import RandomForestClassifier\n",
        "from pyspark.ml.feature import StringIndexer, VectorAssembler\n",
        "from pyspark.ml.tuning import CrossValidator, ParamGridBuilder\n",
        "from pyspark.ml.feature import StandardScaler\n",
        "\n"
      ],
      "metadata": {
        "id": "wRetbqddAW30"
      },
      "execution_count": 7,
      "outputs": []
    },
    {
      "cell_type": "markdown",
      "source": [
        "### Load Dataset"
      ],
      "metadata": {
        "id": "veWS4kmCHj6T"
      }
    },
    {
      "cell_type": "code",
      "source": [
        "from pyspark.sql import SparkSession\n",
        "spark = SparkSession.builder.appName(\"Clustering using K-Means\").getOrCreate()\n",
        "data = spark.read.csv(\"all_topics_datasets_matching.csv\", header=True, inferSchema=True)\n",
        "data.show(10)\n"
      ],
      "metadata": {
        "colab": {
          "base_uri": "https://localhost:8080/"
        },
        "id": "49tPSxBRAXIp",
        "outputId": "a42d2ad7-e894-41ae-a812-242f9320c844"
      },
      "execution_count": 8,
      "outputs": [
        {
          "output_type": "stream",
          "name": "stdout",
          "text": [
            "+----+----+-------------+--------------------+-------------+--------------+--------------+----------------+----------------+----------------+----------------+------------------+-----------------+------------------+------------------+----------------+---------------+----------------+----------------+----------------+----------------+-------------------------+-------------------------+-------------------------+-------------------------+----------------------+--------------------------+---------------------------+-------------------------+\n",
            "|did1|did2|dataset_name1|       dataset_name2|num_instances|num_attributes|dimensionality|num_numeric_attr|pct_numeric_attr|num_nominal_attr|pct_nominal_attr|avg_nominal_values|sd_nominal_values|min_nominal_values|max_nominal_values|avg_numeric_mean|sd_numeric_mean|min_numeric_mean|max_numeric_mean|missing_attr_cnt|missing_attr_pct|missing_instances_max_cnt|missing_instances_max_pct|missing_instances_min_cnt|missing_instances_min_pct|missing_instances_mean|missing_instances_mean_pct|datesets_subject_main_match|datesets_duplicates_match|\n",
            "+----+----+-------------+--------------------+-------------+--------------+--------------+----------------+----------------+----------------+----------------+------------------+-----------------+------------------+------------------+----------------+---------------+----------------+----------------+----------------+----------------+-------------------------+-------------------------+-------------------------+-------------------------+----------------------+--------------------------+---------------------------+-------------------------+\n",
            "| 171| 185|primary-tumor|            baseball|     0.747015|           0.0|      0.747015|             1.0|             1.0|        0.833333|        0.833333|          0.992834|         0.993118|          0.333333|          0.984317|             1.0|            1.0|             0.0|             1.0|             0.8|             0.8|                 0.870968|                 0.967357|                     0.95|                  0.80236|              0.911111|                  0.977512|                          0|                        0|\n",
            "| 171|6331|primary-tumor|LoanDefaultPredic...|     0.996786|      0.976654|      0.862327|             1.0|             1.0|        0.666667|        0.992218|          0.870246|         0.838809|               0.0|          0.671875|             1.0|            1.0|             1.0|             1.0|        0.990476|        0.592063|                  0.99177|                  0.60947|                      0.0|                 0.996786|              0.987738|                   0.73788|                          0|                        0|\n",
            "| 171|1090|primary-tumor|       MercuryinBass|     0.843658|      0.333333|      0.765487|             1.0|             1.0|        0.944444|        0.916667|          0.939203|              1.0|          0.962264|          0.603774|             1.0|            1.0|             0.0|             1.0|             1.0|             1.0|                      1.0|                      1.0|                      1.0|                      1.0|                   1.0|                       1.0|                          0|                        0|\n",
            "| 171| 575|primary-tumor|          kdd_coil_4|    0.0678466|      0.333333|       0.28481|             1.0|             1.0|        0.833333|            0.75|         0.0333333|         0.891071|          0.333333|          0.809524|             1.0|            1.0|             1.0|             1.0|           0.375|        0.583333|                 0.851613|                 0.840813|                      0.5|                 0.533923|              0.626667|                  0.599494|                          0|                        0|\n",
            "| 171|1051|primary-tumor|      cocomo_numeric|     0.823009|     0.0555556|      0.812598|             1.0|             1.0|        0.166667|        0.117647|          0.121212|         0.838432|          0.333333|          0.761905|             1.0|            1.0|             1.0|             1.0|             1.0|             1.0|                      1.0|                      1.0|                      1.0|                      1.0|                   1.0|                       1.0|                          0|                        0|\n",
            "| 171|1481|primary-tumor|             kr-vs-k|     0.987917|      0.611111|      0.995301|             1.0|             1.0|        0.777778|        0.428571|          0.660819|         0.163264|               0.5|          0.142857|             1.0|            1.0|             1.0|             1.0|             1.0|             1.0|                      1.0|                      1.0|                      1.0|                      1.0|                   1.0|                       1.0|                          0|                        0|\n",
            "| 171| 382|primary-tumor|   ipums_la_97-small|     0.951703|      0.704918|      0.836325|             0.0|             0.0|        0.704918|             0.0|          0.934284|         0.954003|               0.5|          0.956967|             0.0|            0.0|             0.0|             0.0|        0.722222|       0.0586419|                 0.975303|                 0.488643|                 0.992593|                  0.84663|              0.984144|                  0.671701|                          0|                        0|\n",
            "| 171| 576|primary-tumor|          kdd_coil_5|    0.0678466|      0.333333|       0.28481|             1.0|             1.0|        0.833333|            0.75|         0.0333333|         0.891071|          0.333333|          0.809524|             1.0|            1.0|             1.0|             1.0|           0.375|        0.583333|                 0.851613|                 0.840813|                      0.5|                 0.533923|              0.626667|                  0.599494|                          0|                        0|\n",
            "| 171|1465|primary-tumor|       breast-tissue|     0.687316|      0.444444|      0.437168|             1.0|             1.0|        0.944444|             0.9|          0.462963|              1.0|          0.666667|          0.714286|             1.0|            1.0|             1.0|             1.0|             1.0|             1.0|                      1.0|                      1.0|                      1.0|                      1.0|                   1.0|                       1.0|                          0|                        0|\n",
            "| 171|1567|primary-tumor|          poker-hand|     0.999669|      0.388889|      0.999798|             1.0|             1.0|        0.944444|        0.909091|          0.677778|              1.0|               0.8|           0.52381|             1.0|            1.0|             1.0|             1.0|             1.0|             1.0|                      1.0|                      1.0|                      1.0|                      1.0|                   1.0|                       1.0|                          0|                        0|\n",
            "+----+----+-------------+--------------------+-------------+--------------+--------------+----------------+----------------+----------------+----------------+------------------+-----------------+------------------+------------------+----------------+---------------+----------------+----------------+----------------+----------------+-------------------------+-------------------------+-------------------------+-------------------------+----------------------+--------------------------+---------------------------+-------------------------+\n",
            "only showing top 10 rows\n",
            "\n"
          ]
        }
      ]
    },
    {
      "cell_type": "code",
      "source": [
        "data.printSchema()"
      ],
      "metadata": {
        "id": "qzdv3GxvCA1t",
        "colab": {
          "base_uri": "https://localhost:8080/"
        },
        "outputId": "493354ce-f846-46db-8f3d-68419cb8ba8f"
      },
      "execution_count": 9,
      "outputs": [
        {
          "output_type": "stream",
          "name": "stdout",
          "text": [
            "root\n",
            " |-- did1: integer (nullable = true)\n",
            " |-- did2: integer (nullable = true)\n",
            " |-- dataset_name1: string (nullable = true)\n",
            " |-- dataset_name2: string (nullable = true)\n",
            " |-- num_instances: double (nullable = true)\n",
            " |-- num_attributes: double (nullable = true)\n",
            " |-- dimensionality: double (nullable = true)\n",
            " |-- num_numeric_attr: double (nullable = true)\n",
            " |-- pct_numeric_attr: double (nullable = true)\n",
            " |-- num_nominal_attr: double (nullable = true)\n",
            " |-- pct_nominal_attr: double (nullable = true)\n",
            " |-- avg_nominal_values: double (nullable = true)\n",
            " |-- sd_nominal_values: double (nullable = true)\n",
            " |-- min_nominal_values: double (nullable = true)\n",
            " |-- max_nominal_values: double (nullable = true)\n",
            " |-- avg_numeric_mean: double (nullable = true)\n",
            " |-- sd_numeric_mean: double (nullable = true)\n",
            " |-- min_numeric_mean: double (nullable = true)\n",
            " |-- max_numeric_mean: double (nullable = true)\n",
            " |-- missing_attr_cnt: double (nullable = true)\n",
            " |-- missing_attr_pct: double (nullable = true)\n",
            " |-- missing_instances_max_cnt: double (nullable = true)\n",
            " |-- missing_instances_max_pct: double (nullable = true)\n",
            " |-- missing_instances_min_cnt: double (nullable = true)\n",
            " |-- missing_instances_min_pct: double (nullable = true)\n",
            " |-- missing_instances_mean: double (nullable = true)\n",
            " |-- missing_instances_mean_pct: double (nullable = true)\n",
            " |-- datesets_subject_main_match: integer (nullable = true)\n",
            " |-- datesets_duplicates_match: integer (nullable = true)\n",
            "\n"
          ]
        }
      ]
    },
    {
      "cell_type": "markdown",
      "source": [
        "## Data Preprocessing"
      ],
      "metadata": {
        "id": "hyp5ECwgH65g"
      }
    },
    {
      "cell_type": "code",
      "source": [
        "data=data.drop(\"did1\",\"did2\",\"dataset_name1\",\"dataset_name2\", )\n",
        "data"
      ],
      "metadata": {
        "colab": {
          "base_uri": "https://localhost:8080/",
          "height": 545
        },
        "id": "t660_UpeCIj0",
        "outputId": "7e3cf442-de1d-4035-8cec-b1b701533c8a"
      },
      "execution_count": 10,
      "outputs": [
        {
          "output_type": "execute_result",
          "data": {
            "text/plain": [
              "+-------------+--------------+--------------+----------------+----------------+----------------+----------------+------------------+-----------------+------------------+------------------+----------------+---------------+----------------+----------------+----------------+----------------+-------------------------+-------------------------+-------------------------+-------------------------+----------------------+--------------------------+---------------------------+-------------------------+\n",
              "|num_instances|num_attributes|dimensionality|num_numeric_attr|pct_numeric_attr|num_nominal_attr|pct_nominal_attr|avg_nominal_values|sd_nominal_values|min_nominal_values|max_nominal_values|avg_numeric_mean|sd_numeric_mean|min_numeric_mean|max_numeric_mean|missing_attr_cnt|missing_attr_pct|missing_instances_max_cnt|missing_instances_max_pct|missing_instances_min_cnt|missing_instances_min_pct|missing_instances_mean|missing_instances_mean_pct|datesets_subject_main_match|datesets_duplicates_match|\n",
              "+-------------+--------------+--------------+----------------+----------------+----------------+----------------+------------------+-----------------+------------------+------------------+----------------+---------------+----------------+----------------+----------------+----------------+-------------------------+-------------------------+-------------------------+-------------------------+----------------------+--------------------------+---------------------------+-------------------------+\n",
              "|     0.747015|           0.0|      0.747015|             1.0|             1.0|        0.833333|        0.833333|          0.992834|         0.993118|          0.333333|          0.984317|             1.0|            1.0|             0.0|             1.0|             0.8|             0.8|                 0.870968|                 0.967357|                     0.95|                  0.80236|              0.911111|                  0.977512|                          0|                        0|\n",
              "|     0.996786|      0.976654|      0.862327|             1.0|             1.0|        0.666667|        0.992218|          0.870246|         0.838809|               0.0|          0.671875|             1.0|            1.0|             1.0|             1.0|        0.990476|        0.592063|                  0.99177|                  0.60947|                      0.0|                 0.996786|              0.987738|                   0.73788|                          0|                        0|\n",
              "|     0.843658|      0.333333|      0.765487|             1.0|             1.0|        0.944444|        0.916667|          0.939203|              1.0|          0.962264|          0.603774|             1.0|            1.0|             0.0|             1.0|             1.0|             1.0|                      1.0|                      1.0|                      1.0|                      1.0|                   1.0|                       1.0|                          0|                        0|\n",
              "|    0.0678466|      0.333333|       0.28481|             1.0|             1.0|        0.833333|            0.75|         0.0333333|         0.891071|          0.333333|          0.809524|             1.0|            1.0|             1.0|             1.0|           0.375|        0.583333|                 0.851613|                 0.840813|                      0.5|                 0.533923|              0.626667|                  0.599494|                          0|                        0|\n",
              "|     0.823009|     0.0555556|      0.812598|             1.0|             1.0|        0.166667|        0.117647|          0.121212|         0.838432|          0.333333|          0.761905|             1.0|            1.0|             1.0|             1.0|             1.0|             1.0|                      1.0|                      1.0|                      1.0|                      1.0|                   1.0|                       1.0|                          0|                        0|\n",
              "|     0.987917|      0.611111|      0.995301|             1.0|             1.0|        0.777778|        0.428571|          0.660819|         0.163264|               0.5|          0.142857|             1.0|            1.0|             1.0|             1.0|             1.0|             1.0|                      1.0|                      1.0|                      1.0|                      1.0|                   1.0|                       1.0|                          0|                        0|\n",
              "|     0.951703|      0.704918|      0.836325|             0.0|             0.0|        0.704918|             0.0|          0.934284|         0.954003|               0.5|          0.956967|             0.0|            0.0|             0.0|             0.0|        0.722222|       0.0586419|                 0.975303|                 0.488643|                 0.992593|                  0.84663|              0.984144|                  0.671701|                          0|                        0|\n",
              "|    0.0678466|      0.333333|       0.28481|             1.0|             1.0|        0.833333|            0.75|         0.0333333|         0.891071|          0.333333|          0.809524|             1.0|            1.0|             1.0|             1.0|           0.375|        0.583333|                 0.851613|                 0.840813|                      0.5|                 0.533923|              0.626667|                  0.599494|                          0|                        0|\n",
              "|     0.687316|      0.444444|      0.437168|             1.0|             1.0|        0.944444|             0.9|          0.462963|              1.0|          0.666667|          0.714286|             1.0|            1.0|             1.0|             1.0|             1.0|             1.0|                      1.0|                      1.0|                      1.0|                      1.0|                   1.0|                       1.0|                          0|                        0|\n",
              "|     0.999669|      0.388889|      0.999798|             1.0|             1.0|        0.944444|        0.909091|          0.677778|              1.0|               0.8|           0.52381|             1.0|            1.0|             1.0|             1.0|             1.0|             1.0|                      1.0|                      1.0|                      1.0|                      1.0|                   1.0|                       1.0|                          0|                        0|\n",
              "|     0.997546|           0.5|      0.998773|             1.0|             1.0|        0.944444|        0.888889|          0.892593|              1.0|          0.933333|               0.3|             1.0|            1.0|             1.0|             1.0|             1.0|             1.0|                      1.0|                      1.0|                      1.0|                      1.0|                   1.0|                       1.0|                          0|                        0|\n",
              "|      0.92569|      0.166667|      0.938075|             1.0|             1.0|             0.5|             0.4|          0.704082|         0.603636|               0.0|          0.461538|             1.0|            1.0|             1.0|             1.0|             0.8|            0.76|                 0.432258|                 0.957811|                 0.988636|                 0.847077|              0.530667|                  0.965124|                          0|                        0|\n",
              "|     0.918841|           0.5|      0.959421|             1.0|             1.0|        0.888889|        0.777778|          0.792115|          0.65379|          0.333333|              0.25|             1.0|            1.0|             0.0|             1.0|             1.0|             1.0|                      1.0|                      1.0|                      1.0|                      1.0|                   1.0|                       1.0|                          0|                        0|\n",
              "|    0.0855457|      0.611111|      0.574731|             1.0|             1.0|        0.944444|        0.857143|           0.37931|              1.0|               0.0|          0.904762|             1.0|            1.0|             1.0|             1.0|             1.0|             1.0|                      1.0|                      1.0|                      1.0|                      1.0|                   1.0|                       1.0|                          1|                        0|\n",
              "|     0.961652|      0.222222|      0.950695|             1.0|             1.0|             1.0|             1.0|               1.0|              1.0|               1.0|               1.0|             1.0|            1.0|             1.0|             1.0|             1.0|             1.0|                      1.0|                      1.0|                      1.0|                      1.0|                   1.0|                       1.0|                          0|                        0|\n",
              "|     0.858407|      0.555556|      0.681416|             1.0|             1.0|        0.944444|           0.875|           0.93287|              1.0|          0.958333|            0.5625|             1.0|            1.0|             1.0|             1.0|             1.0|             1.0|                      1.0|                      1.0|                      1.0|                      1.0|                   1.0|                       1.0|                          0|                        0|\n",
              "|     0.383481|      0.555556|      0.279107|             1.0|             1.0|        0.944444|           0.875|          0.892593|              1.0|          0.933333|               0.3|             1.0|            1.0|             1.0|             1.0|             1.0|             1.0|                      1.0|                      1.0|                      1.0|                      1.0|                   1.0|                       1.0|                          0|                        0|\n",
              "|     0.705015|      0.666667|      0.115044|             0.0|             0.0|        0.666667|             0.0|           0.12069|         0.753402|               0.0|          0.761905|             0.0|            0.0|             0.0|             0.0|             1.0|             1.0|                      1.0|                      1.0|                      1.0|                      1.0|                   1.0|                       1.0|                          0|                        0|\n",
              "|    0.0678466|      0.333333|       0.28481|             1.0|             1.0|        0.833333|            0.75|         0.0333333|         0.891071|          0.333333|          0.809524|             1.0|            1.0|             1.0|             1.0|           0.375|        0.583333|                 0.851613|                 0.840813|                      0.5|                 0.533923|              0.626667|                  0.599494|                          0|                        0|\n",
              "|     0.772861|      0.111111|      0.744469|             1.0|             1.0|        0.833333|          0.8125|          0.887597|         0.873601|               0.0|          0.727273|             1.0|            1.0|             1.0|             1.0|             1.0|             1.0|                      1.0|                      1.0|                      1.0|                      1.0|                   1.0|                       1.0|                          0|                        0|\n",
              "+-------------+--------------+--------------+----------------+----------------+----------------+----------------+------------------+-----------------+------------------+------------------+----------------+---------------+----------------+----------------+----------------+----------------+-------------------------+-------------------------+-------------------------+-------------------------+----------------------+--------------------------+---------------------------+-------------------------+\n",
              "only showing top 20 rows"
            ],
            "text/html": [
              "<table border='1'>\n",
              "<tr><th>num_instances</th><th>num_attributes</th><th>dimensionality</th><th>num_numeric_attr</th><th>pct_numeric_attr</th><th>num_nominal_attr</th><th>pct_nominal_attr</th><th>avg_nominal_values</th><th>sd_nominal_values</th><th>min_nominal_values</th><th>max_nominal_values</th><th>avg_numeric_mean</th><th>sd_numeric_mean</th><th>min_numeric_mean</th><th>max_numeric_mean</th><th>missing_attr_cnt</th><th>missing_attr_pct</th><th>missing_instances_max_cnt</th><th>missing_instances_max_pct</th><th>missing_instances_min_cnt</th><th>missing_instances_min_pct</th><th>missing_instances_mean</th><th>missing_instances_mean_pct</th><th>datesets_subject_main_match</th><th>datesets_duplicates_match</th></tr>\n",
              "<tr><td>0.747015</td><td>0.0</td><td>0.747015</td><td>1.0</td><td>1.0</td><td>0.833333</td><td>0.833333</td><td>0.992834</td><td>0.993118</td><td>0.333333</td><td>0.984317</td><td>1.0</td><td>1.0</td><td>0.0</td><td>1.0</td><td>0.8</td><td>0.8</td><td>0.870968</td><td>0.967357</td><td>0.95</td><td>0.80236</td><td>0.911111</td><td>0.977512</td><td>0</td><td>0</td></tr>\n",
              "<tr><td>0.996786</td><td>0.976654</td><td>0.862327</td><td>1.0</td><td>1.0</td><td>0.666667</td><td>0.992218</td><td>0.870246</td><td>0.838809</td><td>0.0</td><td>0.671875</td><td>1.0</td><td>1.0</td><td>1.0</td><td>1.0</td><td>0.990476</td><td>0.592063</td><td>0.99177</td><td>0.60947</td><td>0.0</td><td>0.996786</td><td>0.987738</td><td>0.73788</td><td>0</td><td>0</td></tr>\n",
              "<tr><td>0.843658</td><td>0.333333</td><td>0.765487</td><td>1.0</td><td>1.0</td><td>0.944444</td><td>0.916667</td><td>0.939203</td><td>1.0</td><td>0.962264</td><td>0.603774</td><td>1.0</td><td>1.0</td><td>0.0</td><td>1.0</td><td>1.0</td><td>1.0</td><td>1.0</td><td>1.0</td><td>1.0</td><td>1.0</td><td>1.0</td><td>1.0</td><td>0</td><td>0</td></tr>\n",
              "<tr><td>0.0678466</td><td>0.333333</td><td>0.28481</td><td>1.0</td><td>1.0</td><td>0.833333</td><td>0.75</td><td>0.0333333</td><td>0.891071</td><td>0.333333</td><td>0.809524</td><td>1.0</td><td>1.0</td><td>1.0</td><td>1.0</td><td>0.375</td><td>0.583333</td><td>0.851613</td><td>0.840813</td><td>0.5</td><td>0.533923</td><td>0.626667</td><td>0.599494</td><td>0</td><td>0</td></tr>\n",
              "<tr><td>0.823009</td><td>0.0555556</td><td>0.812598</td><td>1.0</td><td>1.0</td><td>0.166667</td><td>0.117647</td><td>0.121212</td><td>0.838432</td><td>0.333333</td><td>0.761905</td><td>1.0</td><td>1.0</td><td>1.0</td><td>1.0</td><td>1.0</td><td>1.0</td><td>1.0</td><td>1.0</td><td>1.0</td><td>1.0</td><td>1.0</td><td>1.0</td><td>0</td><td>0</td></tr>\n",
              "<tr><td>0.987917</td><td>0.611111</td><td>0.995301</td><td>1.0</td><td>1.0</td><td>0.777778</td><td>0.428571</td><td>0.660819</td><td>0.163264</td><td>0.5</td><td>0.142857</td><td>1.0</td><td>1.0</td><td>1.0</td><td>1.0</td><td>1.0</td><td>1.0</td><td>1.0</td><td>1.0</td><td>1.0</td><td>1.0</td><td>1.0</td><td>1.0</td><td>0</td><td>0</td></tr>\n",
              "<tr><td>0.951703</td><td>0.704918</td><td>0.836325</td><td>0.0</td><td>0.0</td><td>0.704918</td><td>0.0</td><td>0.934284</td><td>0.954003</td><td>0.5</td><td>0.956967</td><td>0.0</td><td>0.0</td><td>0.0</td><td>0.0</td><td>0.722222</td><td>0.0586419</td><td>0.975303</td><td>0.488643</td><td>0.992593</td><td>0.84663</td><td>0.984144</td><td>0.671701</td><td>0</td><td>0</td></tr>\n",
              "<tr><td>0.0678466</td><td>0.333333</td><td>0.28481</td><td>1.0</td><td>1.0</td><td>0.833333</td><td>0.75</td><td>0.0333333</td><td>0.891071</td><td>0.333333</td><td>0.809524</td><td>1.0</td><td>1.0</td><td>1.0</td><td>1.0</td><td>0.375</td><td>0.583333</td><td>0.851613</td><td>0.840813</td><td>0.5</td><td>0.533923</td><td>0.626667</td><td>0.599494</td><td>0</td><td>0</td></tr>\n",
              "<tr><td>0.687316</td><td>0.444444</td><td>0.437168</td><td>1.0</td><td>1.0</td><td>0.944444</td><td>0.9</td><td>0.462963</td><td>1.0</td><td>0.666667</td><td>0.714286</td><td>1.0</td><td>1.0</td><td>1.0</td><td>1.0</td><td>1.0</td><td>1.0</td><td>1.0</td><td>1.0</td><td>1.0</td><td>1.0</td><td>1.0</td><td>1.0</td><td>0</td><td>0</td></tr>\n",
              "<tr><td>0.999669</td><td>0.388889</td><td>0.999798</td><td>1.0</td><td>1.0</td><td>0.944444</td><td>0.909091</td><td>0.677778</td><td>1.0</td><td>0.8</td><td>0.52381</td><td>1.0</td><td>1.0</td><td>1.0</td><td>1.0</td><td>1.0</td><td>1.0</td><td>1.0</td><td>1.0</td><td>1.0</td><td>1.0</td><td>1.0</td><td>1.0</td><td>0</td><td>0</td></tr>\n",
              "<tr><td>0.997546</td><td>0.5</td><td>0.998773</td><td>1.0</td><td>1.0</td><td>0.944444</td><td>0.888889</td><td>0.892593</td><td>1.0</td><td>0.933333</td><td>0.3</td><td>1.0</td><td>1.0</td><td>1.0</td><td>1.0</td><td>1.0</td><td>1.0</td><td>1.0</td><td>1.0</td><td>1.0</td><td>1.0</td><td>1.0</td><td>1.0</td><td>0</td><td>0</td></tr>\n",
              "<tr><td>0.92569</td><td>0.166667</td><td>0.938075</td><td>1.0</td><td>1.0</td><td>0.5</td><td>0.4</td><td>0.704082</td><td>0.603636</td><td>0.0</td><td>0.461538</td><td>1.0</td><td>1.0</td><td>1.0</td><td>1.0</td><td>0.8</td><td>0.76</td><td>0.432258</td><td>0.957811</td><td>0.988636</td><td>0.847077</td><td>0.530667</td><td>0.965124</td><td>0</td><td>0</td></tr>\n",
              "<tr><td>0.918841</td><td>0.5</td><td>0.959421</td><td>1.0</td><td>1.0</td><td>0.888889</td><td>0.777778</td><td>0.792115</td><td>0.65379</td><td>0.333333</td><td>0.25</td><td>1.0</td><td>1.0</td><td>0.0</td><td>1.0</td><td>1.0</td><td>1.0</td><td>1.0</td><td>1.0</td><td>1.0</td><td>1.0</td><td>1.0</td><td>1.0</td><td>0</td><td>0</td></tr>\n",
              "<tr><td>0.0855457</td><td>0.611111</td><td>0.574731</td><td>1.0</td><td>1.0</td><td>0.944444</td><td>0.857143</td><td>0.37931</td><td>1.0</td><td>0.0</td><td>0.904762</td><td>1.0</td><td>1.0</td><td>1.0</td><td>1.0</td><td>1.0</td><td>1.0</td><td>1.0</td><td>1.0</td><td>1.0</td><td>1.0</td><td>1.0</td><td>1.0</td><td>1</td><td>0</td></tr>\n",
              "<tr><td>0.961652</td><td>0.222222</td><td>0.950695</td><td>1.0</td><td>1.0</td><td>1.0</td><td>1.0</td><td>1.0</td><td>1.0</td><td>1.0</td><td>1.0</td><td>1.0</td><td>1.0</td><td>1.0</td><td>1.0</td><td>1.0</td><td>1.0</td><td>1.0</td><td>1.0</td><td>1.0</td><td>1.0</td><td>1.0</td><td>1.0</td><td>0</td><td>0</td></tr>\n",
              "<tr><td>0.858407</td><td>0.555556</td><td>0.681416</td><td>1.0</td><td>1.0</td><td>0.944444</td><td>0.875</td><td>0.93287</td><td>1.0</td><td>0.958333</td><td>0.5625</td><td>1.0</td><td>1.0</td><td>1.0</td><td>1.0</td><td>1.0</td><td>1.0</td><td>1.0</td><td>1.0</td><td>1.0</td><td>1.0</td><td>1.0</td><td>1.0</td><td>0</td><td>0</td></tr>\n",
              "<tr><td>0.383481</td><td>0.555556</td><td>0.279107</td><td>1.0</td><td>1.0</td><td>0.944444</td><td>0.875</td><td>0.892593</td><td>1.0</td><td>0.933333</td><td>0.3</td><td>1.0</td><td>1.0</td><td>1.0</td><td>1.0</td><td>1.0</td><td>1.0</td><td>1.0</td><td>1.0</td><td>1.0</td><td>1.0</td><td>1.0</td><td>1.0</td><td>0</td><td>0</td></tr>\n",
              "<tr><td>0.705015</td><td>0.666667</td><td>0.115044</td><td>0.0</td><td>0.0</td><td>0.666667</td><td>0.0</td><td>0.12069</td><td>0.753402</td><td>0.0</td><td>0.761905</td><td>0.0</td><td>0.0</td><td>0.0</td><td>0.0</td><td>1.0</td><td>1.0</td><td>1.0</td><td>1.0</td><td>1.0</td><td>1.0</td><td>1.0</td><td>1.0</td><td>0</td><td>0</td></tr>\n",
              "<tr><td>0.0678466</td><td>0.333333</td><td>0.28481</td><td>1.0</td><td>1.0</td><td>0.833333</td><td>0.75</td><td>0.0333333</td><td>0.891071</td><td>0.333333</td><td>0.809524</td><td>1.0</td><td>1.0</td><td>1.0</td><td>1.0</td><td>0.375</td><td>0.583333</td><td>0.851613</td><td>0.840813</td><td>0.5</td><td>0.533923</td><td>0.626667</td><td>0.599494</td><td>0</td><td>0</td></tr>\n",
              "<tr><td>0.772861</td><td>0.111111</td><td>0.744469</td><td>1.0</td><td>1.0</td><td>0.833333</td><td>0.8125</td><td>0.887597</td><td>0.873601</td><td>0.0</td><td>0.727273</td><td>1.0</td><td>1.0</td><td>1.0</td><td>1.0</td><td>1.0</td><td>1.0</td><td>1.0</td><td>1.0</td><td>1.0</td><td>1.0</td><td>1.0</td><td>1.0</td><td>0</td><td>0</td></tr>\n",
              "</table>\n",
              "only showing top 20 rows\n"
            ]
          },
          "metadata": {},
          "execution_count": 10
        }
      ]
    },
    {
      "cell_type": "code",
      "source": [
        "# Create vector assembler\n",
        "labelCol = 'datesets_subject_main_match'\n",
        "numericCols = ['num_instances','num_attributes',\n",
        " 'dimensionality','num_numeric_attr','pct_numeric_attr','num_nominal_attr', 'pct_nominal_attr',\n",
        " 'avg_nominal_values','sd_nominal_values','min_nominal_values','max_nominal_values','avg_numeric_mean',\n",
        " 'sd_numeric_mean','min_numeric_mean','max_numeric_mean','missing_attr_cnt','missing_attr_pct',\n",
        " 'missing_instances_max_cnt','missing_instances_max_pct','missing_instances_min_cnt','missing_instances_min_pct',\n",
        " 'missing_instances_mean','missing_instances_mean_pct']\n",
        "assembler = VectorAssembler(inputCols=numericCols, outputCol=\"features\")\n",
        "\n",
        "# Transform the  data\n",
        "data = assembler.transform(data)\n",
        "\n"
      ],
      "metadata": {
        "id": "gv9fIE5mC5lc"
      },
      "execution_count": 11,
      "outputs": []
    },
    {
      "cell_type": "markdown",
      "source": [
        "### Cluster-based undersampling\n"
      ],
      "metadata": {
        "id": "v4bXYSDEXvGM"
      }
    },
    {
      "cell_type": "code",
      "source": [
        "# Filter the data where `datesets_subject_main_match` is equal to zero\n",
        "filtered_data_0 = data.filter(col(\"datesets_subject_main_match\") == 0)\n",
        "\n",
        "# Show the filtered data\n",
        "filtered_data_0.show()\n",
        "\n"
      ],
      "metadata": {
        "colab": {
          "base_uri": "https://localhost:8080/"
        },
        "id": "S1VDzTTWWpQg",
        "outputId": "eb888912-6e5e-4a12-8d65-11c82d3a05d6"
      },
      "execution_count": 12,
      "outputs": [
        {
          "output_type": "stream",
          "name": "stdout",
          "text": [
            "+-------------+--------------+--------------+----------------+----------------+----------------+----------------+------------------+-----------------+------------------+------------------+----------------+---------------+----------------+----------------+----------------+----------------+-------------------------+-------------------------+-------------------------+-------------------------+----------------------+--------------------------+---------------------------+-------------------------+--------------------+\n",
            "|num_instances|num_attributes|dimensionality|num_numeric_attr|pct_numeric_attr|num_nominal_attr|pct_nominal_attr|avg_nominal_values|sd_nominal_values|min_nominal_values|max_nominal_values|avg_numeric_mean|sd_numeric_mean|min_numeric_mean|max_numeric_mean|missing_attr_cnt|missing_attr_pct|missing_instances_max_cnt|missing_instances_max_pct|missing_instances_min_cnt|missing_instances_min_pct|missing_instances_mean|missing_instances_mean_pct|datesets_subject_main_match|datesets_duplicates_match|            features|\n",
            "+-------------+--------------+--------------+----------------+----------------+----------------+----------------+------------------+-----------------+------------------+------------------+----------------+---------------+----------------+----------------+----------------+----------------+-------------------------+-------------------------+-------------------------+-------------------------+----------------------+--------------------------+---------------------------+-------------------------+--------------------+\n",
            "|     0.747015|           0.0|      0.747015|             1.0|             1.0|        0.833333|        0.833333|          0.992834|         0.993118|          0.333333|          0.984317|             1.0|            1.0|             0.0|             1.0|             0.8|             0.8|                 0.870968|                 0.967357|                     0.95|                  0.80236|              0.911111|                  0.977512|                          0|                        0|[0.747015,0.0,0.7...|\n",
            "|     0.996786|      0.976654|      0.862327|             1.0|             1.0|        0.666667|        0.992218|          0.870246|         0.838809|               0.0|          0.671875|             1.0|            1.0|             1.0|             1.0|        0.990476|        0.592063|                  0.99177|                  0.60947|                      0.0|                 0.996786|              0.987738|                   0.73788|                          0|                        0|[0.996786,0.97665...|\n",
            "|     0.843658|      0.333333|      0.765487|             1.0|             1.0|        0.944444|        0.916667|          0.939203|              1.0|          0.962264|          0.603774|             1.0|            1.0|             0.0|             1.0|             1.0|             1.0|                      1.0|                      1.0|                      1.0|                      1.0|                   1.0|                       1.0|                          0|                        0|[0.843658,0.33333...|\n",
            "|    0.0678466|      0.333333|       0.28481|             1.0|             1.0|        0.833333|            0.75|         0.0333333|         0.891071|          0.333333|          0.809524|             1.0|            1.0|             1.0|             1.0|           0.375|        0.583333|                 0.851613|                 0.840813|                      0.5|                 0.533923|              0.626667|                  0.599494|                          0|                        0|[0.0678466,0.3333...|\n",
            "|     0.823009|     0.0555556|      0.812598|             1.0|             1.0|        0.166667|        0.117647|          0.121212|         0.838432|          0.333333|          0.761905|             1.0|            1.0|             1.0|             1.0|             1.0|             1.0|                      1.0|                      1.0|                      1.0|                      1.0|                   1.0|                       1.0|                          0|                        0|[0.823009,0.05555...|\n",
            "|     0.987917|      0.611111|      0.995301|             1.0|             1.0|        0.777778|        0.428571|          0.660819|         0.163264|               0.5|          0.142857|             1.0|            1.0|             1.0|             1.0|             1.0|             1.0|                      1.0|                      1.0|                      1.0|                      1.0|                   1.0|                       1.0|                          0|                        0|[0.987917,0.61111...|\n",
            "|     0.951703|      0.704918|      0.836325|             0.0|             0.0|        0.704918|             0.0|          0.934284|         0.954003|               0.5|          0.956967|             0.0|            0.0|             0.0|             0.0|        0.722222|       0.0586419|                 0.975303|                 0.488643|                 0.992593|                  0.84663|              0.984144|                  0.671701|                          0|                        0|[0.951703,0.70491...|\n",
            "|    0.0678466|      0.333333|       0.28481|             1.0|             1.0|        0.833333|            0.75|         0.0333333|         0.891071|          0.333333|          0.809524|             1.0|            1.0|             1.0|             1.0|           0.375|        0.583333|                 0.851613|                 0.840813|                      0.5|                 0.533923|              0.626667|                  0.599494|                          0|                        0|[0.0678466,0.3333...|\n",
            "|     0.687316|      0.444444|      0.437168|             1.0|             1.0|        0.944444|             0.9|          0.462963|              1.0|          0.666667|          0.714286|             1.0|            1.0|             1.0|             1.0|             1.0|             1.0|                      1.0|                      1.0|                      1.0|                      1.0|                   1.0|                       1.0|                          0|                        0|[0.687316,0.44444...|\n",
            "|     0.999669|      0.388889|      0.999798|             1.0|             1.0|        0.944444|        0.909091|          0.677778|              1.0|               0.8|           0.52381|             1.0|            1.0|             1.0|             1.0|             1.0|             1.0|                      1.0|                      1.0|                      1.0|                      1.0|                   1.0|                       1.0|                          0|                        0|[0.999669,0.38888...|\n",
            "|     0.997546|           0.5|      0.998773|             1.0|             1.0|        0.944444|        0.888889|          0.892593|              1.0|          0.933333|               0.3|             1.0|            1.0|             1.0|             1.0|             1.0|             1.0|                      1.0|                      1.0|                      1.0|                      1.0|                   1.0|                       1.0|                          0|                        0|[0.997546,0.5,0.9...|\n",
            "|      0.92569|      0.166667|      0.938075|             1.0|             1.0|             0.5|             0.4|          0.704082|         0.603636|               0.0|          0.461538|             1.0|            1.0|             1.0|             1.0|             0.8|            0.76|                 0.432258|                 0.957811|                 0.988636|                 0.847077|              0.530667|                  0.965124|                          0|                        0|[0.92569,0.166667...|\n",
            "|     0.918841|           0.5|      0.959421|             1.0|             1.0|        0.888889|        0.777778|          0.792115|          0.65379|          0.333333|              0.25|             1.0|            1.0|             0.0|             1.0|             1.0|             1.0|                      1.0|                      1.0|                      1.0|                      1.0|                   1.0|                       1.0|                          0|                        0|[0.918841,0.5,0.9...|\n",
            "|     0.961652|      0.222222|      0.950695|             1.0|             1.0|             1.0|             1.0|               1.0|              1.0|               1.0|               1.0|             1.0|            1.0|             1.0|             1.0|             1.0|             1.0|                      1.0|                      1.0|                      1.0|                      1.0|                   1.0|                       1.0|                          0|                        0|[0.961652,0.22222...|\n",
            "|     0.858407|      0.555556|      0.681416|             1.0|             1.0|        0.944444|           0.875|           0.93287|              1.0|          0.958333|            0.5625|             1.0|            1.0|             1.0|             1.0|             1.0|             1.0|                      1.0|                      1.0|                      1.0|                      1.0|                   1.0|                       1.0|                          0|                        0|[0.858407,0.55555...|\n",
            "|     0.383481|      0.555556|      0.279107|             1.0|             1.0|        0.944444|           0.875|          0.892593|              1.0|          0.933333|               0.3|             1.0|            1.0|             1.0|             1.0|             1.0|             1.0|                      1.0|                      1.0|                      1.0|                      1.0|                   1.0|                       1.0|                          0|                        0|[0.383481,0.55555...|\n",
            "|     0.705015|      0.666667|      0.115044|             0.0|             0.0|        0.666667|             0.0|           0.12069|         0.753402|               0.0|          0.761905|             0.0|            0.0|             0.0|             0.0|             1.0|             1.0|                      1.0|                      1.0|                      1.0|                      1.0|                   1.0|                       1.0|                          0|                        0|[0.705015,0.66666...|\n",
            "|    0.0678466|      0.333333|       0.28481|             1.0|             1.0|        0.833333|            0.75|         0.0333333|         0.891071|          0.333333|          0.809524|             1.0|            1.0|             1.0|             1.0|           0.375|        0.583333|                 0.851613|                 0.840813|                      0.5|                 0.533923|              0.626667|                  0.599494|                          0|                        0|[0.0678466,0.3333...|\n",
            "|     0.772861|      0.111111|      0.744469|             1.0|             1.0|        0.833333|          0.8125|          0.887597|         0.873601|               0.0|          0.727273|             1.0|            1.0|             1.0|             1.0|             1.0|             1.0|                      1.0|                      1.0|                      1.0|                      1.0|                   1.0|                       1.0|                          0|                        0|[0.772861,0.11111...|\n",
            "|     0.939345|      0.513514|      0.875321|             1.0|             1.0|        0.944444|        0.972973|           0.37931|              1.0|               0.0|          0.904762|             1.0|            1.0|             0.0|             1.0|             1.0|             1.0|                      1.0|                      1.0|                      1.0|                      1.0|                   1.0|                       1.0|                          0|                        0|[0.939345,0.51351...|\n",
            "+-------------+--------------+--------------+----------------+----------------+----------------+----------------+------------------+-----------------+------------------+------------------+----------------+---------------+----------------+----------------+----------------+----------------+-------------------------+-------------------------+-------------------------+-------------------------+----------------------+--------------------------+---------------------------+-------------------------+--------------------+\n",
            "only showing top 20 rows\n",
            "\n"
          ]
        }
      ]
    },
    {
      "cell_type": "code",
      "source": [
        "\n",
        "# Count the number of records in the filtered DataFrame\n",
        "num_records_0 = filtered_data_0.count()\n",
        "\n",
        "# Print the count\n",
        "print(\"Number of records where 'datesets_subject_main_match' is equal to zero:\", num_records_0)"
      ],
      "metadata": {
        "colab": {
          "base_uri": "https://localhost:8080/"
        },
        "id": "kahaEq5ShlCn",
        "outputId": "8e558422-fd94-4cc9-8b22-97281e06d749"
      },
      "execution_count": 13,
      "outputs": [
        {
          "output_type": "stream",
          "name": "stdout",
          "text": [
            "Number of records where 'datesets_subject_main_match' is equal to zero: 22008\n"
          ]
        }
      ]
    },
    {
      "cell_type": "code",
      "source": [
        "# Filter the data where `datesets_subject_main_match` is equal to one\n",
        "filtered_data_1 = data.filter(col(\"datesets_subject_main_match\") == 1)\n",
        "\n",
        "# Show the filtered data\n",
        "filtered_data_1.show()\n"
      ],
      "metadata": {
        "colab": {
          "base_uri": "https://localhost:8080/"
        },
        "id": "2F2QHpKFWpkb",
        "outputId": "42a4c9d1-3c66-4110-e41c-cf1adb3edf0a"
      },
      "execution_count": 14,
      "outputs": [
        {
          "output_type": "stream",
          "name": "stdout",
          "text": [
            "+-------------+--------------+--------------+----------------+----------------+----------------+----------------+------------------+-----------------+------------------+------------------+----------------+---------------+----------------+----------------+----------------+----------------+-------------------------+-------------------------+-------------------------+-------------------------+----------------------+--------------------------+---------------------------+-------------------------+--------------------+\n",
            "|num_instances|num_attributes|dimensionality|num_numeric_attr|pct_numeric_attr|num_nominal_attr|pct_nominal_attr|avg_nominal_values|sd_nominal_values|min_nominal_values|max_nominal_values|avg_numeric_mean|sd_numeric_mean|min_numeric_mean|max_numeric_mean|missing_attr_cnt|missing_attr_pct|missing_instances_max_cnt|missing_instances_max_pct|missing_instances_min_cnt|missing_instances_min_pct|missing_instances_mean|missing_instances_mean_pct|datesets_subject_main_match|datesets_duplicates_match|            features|\n",
            "+-------------+--------------+--------------+----------------+----------------+----------------+----------------+------------------+-----------------+------------------+------------------+----------------+---------------+----------------+----------------+----------------+----------------+-------------------------+-------------------------+-------------------------+-------------------------+----------------------+--------------------------+---------------------------+-------------------------+--------------------+\n",
            "|    0.0855457|      0.611111|      0.574731|             1.0|             1.0|        0.944444|        0.857143|           0.37931|              1.0|               0.0|          0.904762|             1.0|            1.0|             1.0|             1.0|             1.0|             1.0|                      1.0|                      1.0|                      1.0|                      1.0|                   1.0|                       1.0|                          1|                        0|[0.0855457,0.6111...|\n",
            "|     0.404218|      0.419355|     0.0254068|             1.0|             1.0|        0.944444|        0.967742|           0.37931|              1.0|               0.0|          0.904762|             1.0|            1.0|             0.0|             1.0|             1.0|             1.0|                      1.0|                      1.0|                      1.0|                      1.0|                   1.0|                       1.0|                          1|                        0|[0.404218,0.41935...|\n",
            "|     0.616519|      0.444444|      0.309735|             1.0|             1.0|        0.833333|             0.7|           0.37931|              1.0|               0.0|          0.904762|             1.0|            1.0|             0.0|             1.0|        0.285714|        0.603175|                 0.632258|                0.0410422|                      0.0|                 0.616519|                 0.224|                  0.505824|                          1|                        0|[0.616519,0.44444...|\n",
            "|     0.156342|      0.444444|      0.341492|             1.0|             1.0|        0.555556|             0.2|          0.303303|         0.159079|               0.0|          0.142857|             1.0|            1.0|             1.0|             1.0|             0.6|            0.28|                 0.948387|                 0.938822|                      0.0|                 0.156342|                 0.928|                  0.914657|                          1|                        0|[0.156342,0.44444...|\n",
            "|    0.0855457|      0.611111|      0.574731|             1.0|             1.0|        0.944444|        0.857143|         0.0689655|              1.0|          0.333333|          0.857143|             1.0|            1.0|             1.0|             1.0|             1.0|             1.0|                      1.0|                      1.0|                      1.0|                      1.0|                   1.0|                       1.0|                          1|                        0|[0.0855457,0.6111...|\n",
            "|     0.832278|           0.0|      0.832278|        0.181818|        0.181818|        0.666667|        0.666667|          0.937107|              1.0|          0.943396|          0.924528|        0.733892|       0.764294|             1.0|          0.7625|             1.0|             1.0|                      1.0|                      1.0|                      1.0|                      1.0|                   1.0|                       1.0|                          1|                        0|[0.832278,0.0,0.8...|\n",
            "|          0.0|           0.0|           0.0|             0.0|             0.0|             0.0|             0.0|               0.0|              0.0|               0.0|               0.0|       0.0119904|     0.00817033|        0.666667|             0.0|             0.0|             0.0|                      0.0|                      0.0|                      0.0|                      0.0|                   0.0|                       0.0|                          1|                        1|(23,[11,12,13],[0...|\n",
            "|          0.0|           0.0|           0.0|             0.0|             0.0|             0.0|             0.0|               0.0|              0.0|               0.0|               0.0|       0.0119904|     0.00817033|        0.666667|             0.0|             0.0|             0.0|                      0.0|                      0.0|                      0.0|                      0.0|                   0.0|                       0.0|                          1|                        1|(23,[11,12,13],[0...|\n",
            "|          0.0|           0.0|           0.0|             0.0|             0.0|             0.0|             0.0|               0.0|              0.0|               0.0|               0.0|       0.0024213|     0.00169685|             0.5|             0.0|             0.0|             0.0|                      0.0|                      0.0|                      0.0|                      0.0|                   0.0|                       0.0|                          1|                        1|(23,[11,12,13],[0...|\n",
            "|      0.35005|      0.754098|      0.621661|             1.0|             1.0|        0.852459|             0.4|          0.777926|         0.883952|               0.5|          0.920082|             1.0|            1.0|             1.0|             1.0|        0.944444|        0.774074|                 0.985978|                 0.978427|                 0.348148|               0.00291742|              0.992558|                   0.98855|                          1|                        0|[0.35005,0.754098...|\n",
            "|     0.784435|      0.737705|      0.943458|             1.0|             1.0|        0.852459|          0.4375|          0.771128|         0.878217|               0.5|          0.915984|             1.0|            1.0|             1.0|             1.0|        0.833333|        0.364583|                 0.706342|                 0.936698|                 0.768439|                0.0690802|              0.662108|                  0.927162|                          1|                        0|[0.784435,0.73770...|\n",
            "|     0.923921|      0.819672|      0.578106|             1.0|             1.0|        0.885246|        0.363636|           0.94173|         0.985595|               0.5|          0.987705|             1.0|            1.0|             1.0|             1.0|             1.0|             1.0|                      1.0|                      1.0|                      1.0|                      1.0|                   1.0|                       1.0|                          1|                        0|[0.923921,0.81967...|\n",
            "|     0.835304|      0.901639|      0.402774|             1.0|             1.0|        0.934426|        0.333333|          0.806252|         0.920284|               0.5|          0.965164|             1.0|            1.0|             1.0|             1.0|             1.0|             1.0|                      1.0|                      1.0|                      1.0|                      1.0|                   1.0|                       1.0|                          1|                        0|[0.835304,0.90163...|\n",
            "|     0.928765|      0.901639|      0.275775|             1.0|             1.0|        0.934426|        0.333333|          0.913323|         0.964449|               0.5|          0.979508|             1.0|            1.0|             1.0|             1.0|        0.888889|        0.114754|                 0.995857|                 0.941844|                 0.955556|                 0.376089|              0.993235|                   0.90503|                          1|                        0|[0.928765,0.90163...|\n",
            "|     0.856292|      0.754098|      0.964662|             1.0|             1.0|        0.852459|             0.4|          0.771128|         0.878217|               0.5|          0.915984|             1.0|            1.0|             1.0|             1.0|        0.833333|        0.322222|                 0.552422|                 0.935679|                 0.842474|                0.0877186|              0.453285|                  0.921432|                          1|                        0|[0.856292,0.75409...|\n",
            "|     0.832278|           0.0|      0.832278|        0.181818|        0.181818|        0.666667|        0.666667|          0.937107|              1.0|          0.943396|          0.924528|        0.737083|       0.762353|             1.0|          0.7625|             1.0|             1.0|                      1.0|                      1.0|                      1.0|                      1.0|                   1.0|                       1.0|                          1|                        0|[0.832278,0.0,0.8...|\n",
            "|          0.0|           0.0|           0.0|             0.0|             0.0|             0.0|             0.0|               0.0|              0.0|               0.0|               0.0|             0.0|            0.0|             0.0|             0.0|             0.0|             0.0|                      0.0|                      0.0|                      0.0|                      0.0|                   0.0|                       0.0|                          1|                        1|          (23,[],[])|\n",
            "|          0.0|           0.0|           0.0|             0.0|             0.0|             0.0|             0.0|               0.0|              0.0|               0.0|               0.0|      0.00959229|     0.00648448|        0.333333|             0.0|             0.0|             0.0|                      0.0|                      0.0|                      0.0|                      0.0|                   0.0|                       0.0|                          1|                        1|(23,[11,12,13],[0...|\n",
            "|     0.859894|        0.0625|      0.850553|        0.142857|       0.0857143|             0.0|          0.0625|         0.0297029|        0.0470935|               0.0|         0.0487805|         0.07677|      0.0771673|             0.0|      0.00679831|        0.666667|        0.644444|                 0.952252|                   0.6592|                 0.849057|                0.0717961|              0.977976|                  0.842804|                          1|                        0|[0.859894,0.0625,...|\n",
            "|     0.906597|           0.0|      0.906597|             0.0|             0.0|             0.0|             0.0|         0.0297029|        0.0470935|               0.0|         0.0487805|      0.00806868|     0.00726245|             0.0|      0.00739492|        0.666667|        0.666667|                 0.968672|                 0.664595|                 0.897316|                0.0903801|              0.986388|                  0.854269|                          1|                        0|[0.906597,0.0,0.9...|\n",
            "+-------------+--------------+--------------+----------------+----------------+----------------+----------------+------------------+-----------------+------------------+------------------+----------------+---------------+----------------+----------------+----------------+----------------+-------------------------+-------------------------+-------------------------+-------------------------+----------------------+--------------------------+---------------------------+-------------------------+--------------------+\n",
            "only showing top 20 rows\n",
            "\n"
          ]
        }
      ]
    },
    {
      "cell_type": "code",
      "source": [
        "\n",
        "# Count the number of records in the filtered DataFrame\n",
        "num_records_1 = filtered_data_1.count()\n",
        "\n",
        "# Print the count\n",
        "print(\"Number of records where 'datesets_subject_main_match' is equal to one:\", num_records_1)"
      ],
      "metadata": {
        "colab": {
          "base_uri": "https://localhost:8080/"
        },
        "id": "gD_AAX3ghm47",
        "outputId": "f20912eb-14eb-4adf-ea3a-62eb5d07a9ab"
      },
      "execution_count": 15,
      "outputs": [
        {
          "output_type": "stream",
          "name": "stdout",
          "text": [
            "Number of records where 'datesets_subject_main_match' is equal to one: 570\n"
          ]
        }
      ]
    },
    {
      "cell_type": "code",
      "source": [
        "#Standard scaling the filtered datasets\n",
        "scale=StandardScaler(inputCol='features',outputCol='standardized')\n",
        "data_scale=scale.fit(filtered_data_0)\n",
        "data_scale_output_0=data_scale.transform(filtered_data_0)\n",
        "data_scale_output_0.show(2)"
      ],
      "metadata": {
        "id": "LAFw05YsC6Io",
        "colab": {
          "base_uri": "https://localhost:8080/"
        },
        "outputId": "b9bcef2e-a62e-4203-de31-0e3eb313abc8"
      },
      "execution_count": 16,
      "outputs": [
        {
          "output_type": "stream",
          "name": "stdout",
          "text": [
            "+-------------+--------------+--------------+----------------+----------------+----------------+----------------+------------------+-----------------+------------------+------------------+----------------+---------------+----------------+----------------+----------------+----------------+-------------------------+-------------------------+-------------------------+-------------------------+----------------------+--------------------------+---------------------------+-------------------------+--------------------+--------------------+\n",
            "|num_instances|num_attributes|dimensionality|num_numeric_attr|pct_numeric_attr|num_nominal_attr|pct_nominal_attr|avg_nominal_values|sd_nominal_values|min_nominal_values|max_nominal_values|avg_numeric_mean|sd_numeric_mean|min_numeric_mean|max_numeric_mean|missing_attr_cnt|missing_attr_pct|missing_instances_max_cnt|missing_instances_max_pct|missing_instances_min_cnt|missing_instances_min_pct|missing_instances_mean|missing_instances_mean_pct|datesets_subject_main_match|datesets_duplicates_match|            features|        standardized|\n",
            "+-------------+--------------+--------------+----------------+----------------+----------------+----------------+------------------+-----------------+------------------+------------------+----------------+---------------+----------------+----------------+----------------+----------------+-------------------------+-------------------------+-------------------------+-------------------------+----------------------+--------------------------+---------------------------+-------------------------+--------------------+--------------------+\n",
            "|     0.747015|           0.0|      0.747015|             1.0|             1.0|        0.833333|        0.833333|          0.992834|         0.993118|          0.333333|          0.984317|             1.0|            1.0|             0.0|             1.0|             0.8|             0.8|                 0.870968|                 0.967357|                     0.95|                  0.80236|              0.911111|                  0.977512|                          0|                        0|[0.747015,0.0,0.7...|[2.87404659892467...|\n",
            "|     0.996786|      0.976654|      0.862327|             1.0|             1.0|        0.666667|        0.992218|          0.870246|         0.838809|               0.0|          0.671875|             1.0|            1.0|             1.0|             1.0|        0.990476|        0.592063|                  0.99177|                  0.60947|                      0.0|                 0.996786|              0.987738|                   0.73788|                          0|                        0|[0.996786,0.97665...|[3.83500922090685...|\n",
            "+-------------+--------------+--------------+----------------+----------------+----------------+----------------+------------------+-----------------+------------------+------------------+----------------+---------------+----------------+----------------+----------------+----------------+-------------------------+-------------------------+-------------------------+-------------------------+----------------------+--------------------------+---------------------------+-------------------------+--------------------+--------------------+\n",
            "only showing top 2 rows\n",
            "\n"
          ]
        }
      ]
    },
    {
      "cell_type": "code",
      "source": [
        "#Standard scaling the filtered datasets\n",
        "scale=StandardScaler(inputCol='features',outputCol='standardized')\n",
        "data_scale=scale.fit(filtered_data_1)\n",
        "data_scale_output_1=data_scale.transform(filtered_data_1)\n",
        "data_scale_output_1.show(2)\n"
      ],
      "metadata": {
        "colab": {
          "base_uri": "https://localhost:8080/"
        },
        "id": "Pk0lLDtrcpx8",
        "outputId": "a7217f3f-ca92-45f7-d808-fe481347c09e"
      },
      "execution_count": 17,
      "outputs": [
        {
          "output_type": "stream",
          "name": "stdout",
          "text": [
            "+-------------+--------------+--------------+----------------+----------------+----------------+----------------+------------------+-----------------+------------------+------------------+----------------+---------------+----------------+----------------+----------------+----------------+-------------------------+-------------------------+-------------------------+-------------------------+----------------------+--------------------------+---------------------------+-------------------------+--------------------+--------------------+\n",
            "|num_instances|num_attributes|dimensionality|num_numeric_attr|pct_numeric_attr|num_nominal_attr|pct_nominal_attr|avg_nominal_values|sd_nominal_values|min_nominal_values|max_nominal_values|avg_numeric_mean|sd_numeric_mean|min_numeric_mean|max_numeric_mean|missing_attr_cnt|missing_attr_pct|missing_instances_max_cnt|missing_instances_max_pct|missing_instances_min_cnt|missing_instances_min_pct|missing_instances_mean|missing_instances_mean_pct|datesets_subject_main_match|datesets_duplicates_match|            features|        standardized|\n",
            "+-------------+--------------+--------------+----------------+----------------+----------------+----------------+------------------+-----------------+------------------+------------------+----------------+---------------+----------------+----------------+----------------+----------------+-------------------------+-------------------------+-------------------------+-------------------------+----------------------+--------------------------+---------------------------+-------------------------+--------------------+--------------------+\n",
            "|    0.0855457|      0.611111|      0.574731|             1.0|             1.0|        0.944444|        0.857143|           0.37931|              1.0|               0.0|          0.904762|             1.0|            1.0|             1.0|             1.0|             1.0|             1.0|                      1.0|                      1.0|                      1.0|                      1.0|                   1.0|                       1.0|                          1|                        0|[0.0855457,0.6111...|[0.23804101607296...|\n",
            "|     0.404218|      0.419355|     0.0254068|             1.0|             1.0|        0.944444|        0.967742|           0.37931|              1.0|               0.0|          0.904762|             1.0|            1.0|             0.0|             1.0|             1.0|             1.0|                      1.0|                      1.0|                      1.0|                      1.0|                   1.0|                       1.0|                          1|                        0|[0.404218,0.41935...|[1.12478433673441...|\n",
            "+-------------+--------------+--------------+----------------+----------------+----------------+----------------+------------------+-----------------+------------------+------------------+----------------+---------------+----------------+----------------+----------------+----------------+-------------------------+-------------------------+-------------------------+-------------------------+----------------------+--------------------------+---------------------------+-------------------------+--------------------+--------------------+\n",
            "only showing top 2 rows\n",
            "\n"
          ]
        }
      ]
    },
    {
      "cell_type": "markdown",
      "source": [
        "## Clustering Dataset Using Kmeans\n",
        "Choice of K based on Elbow Method"
      ],
      "metadata": {
        "id": "UKcz-3nEJeTc"
      }
    },
    {
      "cell_type": "code",
      "source": [
        "# Create an empty list to store the SSE (Sum of Squared Errors) values\n",
        "sse = []\n",
        "\n",
        "# Define the range of cluster numbers to evaluate\n",
        "k_values = range(2, 11)  # Range from 2 to 10 clusters\n",
        "\n",
        "# Iterate over each cluster number\n",
        "for k in k_values:\n",
        "    # Create a KMeans instance with the current cluster number\n",
        "    kmeans = KMeans(featuresCol='standardized', k=k)\n",
        "\n",
        "    # Fit the KMeans model to the data\n",
        "    model = kmeans.fit(data_scale_output_0)\n",
        "\n",
        "    # Make predictions on the data\n",
        "    predictions = model.transform(data_scale_output_0)\n",
        "\n",
        "    # Evaluate the clustering performance using the SSE metric\n",
        "    evaluator = ClusteringEvaluator()\n",
        "    sse_value = evaluator.evaluate(predictions)\n",
        "    sse.append(sse_value)\n",
        "\n",
        "# Plot the SSE values against the number of clusters\n",
        "plt.plot(k_values, sse, 'bo-')\n",
        "plt.xlabel('Number of Clusters (k)')\n",
        "plt.ylabel('Sum of Squared Errors (SSE)')\n",
        "plt.title('Elbow Method')\n",
        "plt.show()\n",
        "\n",
        "\n"
      ],
      "metadata": {
        "colab": {
          "base_uri": "https://localhost:8080/",
          "height": 472
        },
        "id": "GOfaSJBThBew",
        "outputId": "fe5e8f3d-d76b-45f2-8672-d4106b15e91c"
      },
      "execution_count": 18,
      "outputs": [
        {
          "output_type": "display_data",
          "data": {
            "text/plain": [
              "<Figure size 640x480 with 1 Axes>"
            ],
            "image/png": "[encoded data removed]"
          },
          "metadata": {}
        }
      ]
    },
    {
      "cell_type": "code",
      "source": [
        "from pyspark.ml.clustering import KMeans\n",
        "from pyspark.ml.evaluation import ClusteringEvaluator\n",
        "silhouette_score=[]\n",
        "evaluator = ClusteringEvaluator(predictionCol='prediction', featuresCol='standardized', \\\n",
        "                                metricName='silhouette', distanceMeasure='squaredEuclidean')\n",
        "for i in range(2,10):\n",
        "\n",
        "    KMeans_algo=KMeans(featuresCol='standardized', k=i)\n",
        "\n",
        "    KMeans_fit=KMeans_algo.fit(data_scale_output_0)\n",
        "\n",
        "    output=KMeans_fit.transform(data_scale_output_0)\n",
        "\n",
        "    score=evaluator.evaluate(output)\n",
        "\n",
        "    silhouette_score.append(score)\n",
        "\n",
        "    print(\"Silhouette Score:\",score)\n",
        "\n",
        "\n"
      ],
      "metadata": {
        "id": "QKyviiSsAXWS",
        "colab": {
          "base_uri": "https://localhost:8080/"
        },
        "outputId": "2f6faddc-780e-421b-e720-17e2c549d7a9"
      },
      "execution_count": 19,
      "outputs": [
        {
          "output_type": "stream",
          "name": "stdout",
          "text": [
            "Silhouette Score: 0.5310452052177468\n",
            "Silhouette Score: 0.4994092975722764\n",
            "Silhouette Score: 0.3792069799988804\n",
            "Silhouette Score: 0.29478868755342963\n",
            "Silhouette Score: 0.31928565890795757\n",
            "Silhouette Score: 0.2664038099669507\n",
            "Silhouette Score: 0.2587197655842996\n",
            "Silhouette Score: 0.22386062150241903\n"
          ]
        }
      ]
    },
    {
      "cell_type": "markdown",
      "source": [
        "## Clustering Dataset Using Kmeans\n",
        "Choice of K based on Silhouette Score Cost Function"
      ],
      "metadata": {
        "id": "rAZ7ixOMJ3k_"
      }
    },
    {
      "cell_type": "code",
      "execution_count": 20,
      "metadata": {
        "id": "Xn33j2GN-CXm",
        "colab": {
          "base_uri": "https://localhost:8080/",
          "height": 559
        },
        "outputId": "1e99fa24-44c5-4f52-a976-5dc749f4eec4"
      },
      "outputs": [
        {
          "output_type": "execute_result",
          "data": {
            "text/plain": [
              "Text(0, 0.5, 'cost')"
            ]
          },
          "metadata": {},
          "execution_count": 20
        },
        {
          "output_type": "display_data",
          "data": {
            "text/plain": [
              "<Figure size 800x600 with 1 Axes>"
            ],
            "image/png": "[encoded data removed]"
          },
          "metadata": {}
        }
      ],
      "source": [
        "#Visualizing the silhouette scores in a plot\n",
        "import matplotlib.pyplot as plt\n",
        "fig, ax = plt.subplots(1,1, figsize =(8,6))\n",
        "ax.plot(range(2,10),silhouette_score)\n",
        "ax.set_xlabel(\"k\")\n",
        "ax.set_ylabel(\"cost\")"
      ]
    },
    {
      "cell_type": "code",
      "source": [
        "\n",
        "# Perform clustered sampling from the different clusters\n",
        "sampling_ratio = 0.05  # Define the sampling ratio, e.g., 80% of the data\n",
        "seed = 42  # Set a seed for reproducibility\n",
        "\n",
        "# Get the cluster labels from the output DataFrame\n",
        "cluster_labels = output.select(\"prediction\").distinct().rdd.flatMap(lambda x: x).collect()\n",
        "\n",
        "# Perform sampling from each cluster\n",
        "sampled_data = None\n",
        "\n",
        "for label in cluster_labels:\n",
        "    # Filter the data based on the cluster label\n",
        "    cluster_data = output.filter(col(\"prediction\") == label)\n",
        "\n",
        "    # Perform clustered sampling on the cluster data\n",
        "    cluster_sample = cluster_data.sample(False, sampling_ratio, seed)\n",
        "\n",
        "    # Union the sampled data with the previous clusters' sampled data\n",
        "    if sampled_data is None:\n",
        "        sampled_data = cluster_sample\n",
        "    else:\n",
        "        sampled_data = sampled_data.union(cluster_sample)\n",
        "\n",
        "# Show the sampled data\n",
        "sampled_data.show()\n",
        "\n"
      ],
      "metadata": {
        "id": "fiwKhDA7GvAC",
        "colab": {
          "base_uri": "https://localhost:8080/"
        },
        "outputId": "94b93492-897c-4b0f-ae1c-54b0c7a867b8"
      },
      "execution_count": 21,
      "outputs": [
        {
          "output_type": "stream",
          "name": "stdout",
          "text": [
            "+-------------+--------------+--------------+----------------+----------------+----------------+----------------+------------------+-----------------+------------------+------------------+----------------+---------------+----------------+----------------+----------------+----------------+-------------------------+-------------------------+-------------------------+-------------------------+----------------------+--------------------------+---------------------------+-------------------------+--------------------+--------------------+----------+\n",
            "|num_instances|num_attributes|dimensionality|num_numeric_attr|pct_numeric_attr|num_nominal_attr|pct_nominal_attr|avg_nominal_values|sd_nominal_values|min_nominal_values|max_nominal_values|avg_numeric_mean|sd_numeric_mean|min_numeric_mean|max_numeric_mean|missing_attr_cnt|missing_attr_pct|missing_instances_max_cnt|missing_instances_max_pct|missing_instances_min_cnt|missing_instances_min_pct|missing_instances_mean|missing_instances_mean_pct|datesets_subject_main_match|datesets_duplicates_match|            features|        standardized|prediction|\n",
            "+-------------+--------------+--------------+----------------+----------------+----------------+----------------+------------------+-----------------+------------------+------------------+----------------+---------------+----------------+----------------+----------------+----------------+-------------------------+-------------------------+-------------------------+-------------------------+----------------------+--------------------------+---------------------------+-------------------------+--------------------+--------------------+----------+\n",
            "|     0.999909|      0.781818|      0.999582|       0.0909091|        0.801653|        0.977778|        0.898148|          0.960168|              1.0|          0.962264|          0.867925|        0.985415|        0.98812|             1.0|        0.987158|             0.0|             0.0|                      0.0|                      0.0|                      0.0|                      0.0|                   0.0|                       0.0|                          0|                        0|[0.999909,0.78181...|[3.84702457204229...|         1|\n",
            "|      0.88317|      0.444444|      0.789706|        0.285714|        0.222222|             1.0|             1.0|               1.0|              1.0|               1.0|               1.0|         0.94709|      0.0778611|             1.0|        0.833333|             0.0|             0.0|                      0.0|                      0.0|                      0.0|                      0.0|                   0.0|                       0.0|                          0|                        0|[0.88317,0.444444...|[3.39788589890739...|         1|\n",
            "|     0.982955|      0.555556|      0.992424|        0.571429|       0.0357143|             0.5|        0.111111|          0.870968|              1.0|          0.333333|          0.928571|         0.99775|       0.895439|             1.0|        0.992481|             0.0|             0.0|                      0.0|                      0.0|                      0.0|                      0.0|                   0.0|                       0.0|                          0|                        0|[0.982955,0.55555...|[3.78179618166436...|         1|\n",
            "|     0.949964|      0.222222|      0.935668|             0.0|        0.222222|             1.0|             1.0|               1.0|              1.0|               1.0|               1.0|        0.999867|       0.999889|             1.0|        0.999915|             0.0|             0.0|                      0.0|                      0.0|                      0.0|                      0.0|                   0.0|                       0.0|                          0|                        0|(23,[0,1,2,4,5,6,...|(23,[0,1,2,4,5,6,...|         1|\n",
            "|     0.760594|      0.444444|      0.569069|        0.285714|        0.222222|             1.0|             1.0|               1.0|              1.0|               1.0|               1.0|        0.955357|       0.666963|             1.0|           0.875|             0.0|             0.0|                      0.0|                      0.0|                      0.0|                      0.0|                   0.0|                       0.0|                          0|                        0|[0.760594,0.44444...|[2.92629009974701...|         1|\n",
            "|     0.754717|      0.142857|      0.789757|        0.214286|       0.0833334|             1.0|             1.0|               1.0|              0.0|               1.0|               1.0|        0.999626|       0.999891|             1.0|        0.999916|             0.0|             0.0|                      0.0|                      0.0|                      0.0|                      0.0|                   0.0|                       0.0|                          0|                        0|(23,[0,1,2,3,4,5,...|(23,[0,1,2,3,4,5,...|         1|\n",
            "|     0.779661|      0.176471|      0.732445|           0.125|       0.0588235|             1.0|             1.0|               1.0|              0.0|               1.0|               1.0|        0.647086|       0.664895|            0.25|        0.685329|             0.0|             0.0|                      0.0|                      0.0|                      0.0|                      0.0|                   0.0|                       0.0|                          0|                        0|(23,[0,1,2,3,4,5,...|(23,[0,1,2,3,4,5,...|         1|\n",
            "|     0.978039|         0.125|      0.980784|             0.0|           0.125|             1.0|             1.0|               1.0|              0.0|               1.0|               1.0|             1.0|       0.998965|             1.0|             1.0|             0.0|             0.0|                      0.0|                      0.0|                      0.0|                      0.0|                   0.0|                       0.0|                          0|                        0|(23,[0,1,2,4,5,6,...|(23,[0,1,2,4,5,6,...|         1|\n",
            "|     0.985887|          0.36|      0.977949|        0.458333|        0.153646|        0.666667|        0.786667|          0.860465|              1.0|               0.5|          0.948052|        0.943044|       0.984208|             0.0|         0.98125|             0.0|             0.0|                      0.0|                      0.0|                      0.0|                      0.0|                   0.0|                       0.0|                          0|                        0|(23,[0,1,2,3,4,5,...|(23,[0,1,2,3,4,5,...|         1|\n",
            "|      0.99704|         0.375|      0.995264|             0.0|           0.375|             1.0|             1.0|               1.0|              1.0|               1.0|               1.0|        0.999934|       0.997903|        0.999939|        0.999927|             0.0|             0.0|                      0.0|                      0.0|                      0.0|                      0.0|                   0.0|                       0.0|                          0|                        0|(23,[0,1,2,4,5,6,...|(23,[0,1,2,4,5,6,...|         1|\n",
            "|     0.985699|      0.608247|      0.963494|        0.618557|       0.0263158|             1.0|             1.0|               1.0|              0.0|               1.0|               1.0|        0.193001|       0.248119|             0.0|        0.506199|             0.0|             0.0|                      0.0|                      0.0|                      0.0|                      0.0|                   0.0|                       0.0|                          0|                        0|(23,[0,1,2,3,4,5,...|(23,[0,1,2,3,4,5,...|         1|\n",
            "|     0.712919|           0.5|      0.856459|          0.5625|           0.125|             1.0|             1.0|               1.0|              0.0|               1.0|               1.0|        0.845251|        0.76804|             0.4|        0.671414|             0.0|             0.0|                      0.0|                      0.0|                      0.0|                      0.0|                   0.0|                       0.0|                          0|                        0|(23,[0,1,2,3,4,5,...|(23,[0,1,2,3,4,5,...|         1|\n",
            "|     0.999907|        0.3125|      0.999936|          0.4375|        0.181818|             1.0|             1.0|               1.0|              0.0|               1.0|               1.0|        0.972217|       0.948313|             1.0|        0.963622|             0.0|             0.0|                      0.0|                      0.0|                      0.0|                      0.0|                   0.0|                       0.0|                          0|                        0|(23,[0,1,2,3,4,5,...|(23,[0,1,2,3,4,5,...|         1|\n",
            "|     0.453138|      0.318182|      0.627139|        0.363636|       0.0666666|             1.0|             1.0|               1.0|              0.0|               1.0|               1.0|        0.941592|       0.999325|        0.999751|        0.996503|             0.0|             0.0|                      0.0|                      0.0|                      0.0|                      0.0|                   0.0|                       0.0|                          0|                        0|(23,[0,1,2,3,4,5,...|(23,[0,1,2,3,4,5,...|         1|\n",
            "|     0.999215|      0.487179|      0.998469|             0.5|           0.025|             1.0|             1.0|               1.0|              0.0|               1.0|               1.0|        0.811216|       0.960413|             0.0|        0.982955|             0.0|             0.0|                      0.0|                      0.0|                      0.0|                      0.0|                   0.0|                       0.0|                          0|                        0|(23,[0,1,2,3,4,5,...|(23,[0,1,2,3,4,5,...|         1|\n",
            "|     0.999504|           0.0|      0.999504|       0.0909091|       0.0909091|             1.0|             1.0|               1.0|              0.0|               1.0|               1.0|         0.89962|       0.953578|        0.333333|         0.95858|             0.0|             0.0|                      0.0|                      0.0|                      0.0|                      0.0|                   0.0|                       0.0|                          0|                        0|(23,[0,2,3,4,5,6,...|(23,[0,2,3,4,5,6,...|         1|\n",
            "|     0.133858|      0.181818|     0.0553719|        0.363636|        0.222222|             1.0|             1.0|               1.0|              1.0|               1.0|               1.0|        0.989926|       0.987502|             0.0|        0.985917|             0.0|             0.0|                      0.0|                      0.0|                      0.0|                      0.0|                   0.0|                       0.0|                          0|                        0|(23,[0,1,2,3,4,5,...|(23,[0,1,2,3,4,5,...|         1|\n",
            "|     0.744094|      0.181818|      0.687227|        0.272727|        0.111111|             1.0|             1.0|               1.0|              0.0|               1.0|               1.0|        0.866336|       0.877949|        0.666667|        0.812846|             0.0|             0.0|                      0.0|                      0.0|                      0.0|                      0.0|                   0.0|                       0.0|                          0|                        0|(23,[0,1,2,3,4,5,...|(23,[0,1,2,3,4,5,...|         1|\n",
            "|     0.666667|         0.125|      0.619048|             0.0|           0.125|             1.0|             1.0|               1.0|              0.0|               1.0|               1.0|        0.999158|       0.999287|        0.990196|         0.99926|             0.0|             0.0|                      0.0|                      0.0|                      0.0|                      0.0|                   0.0|                       0.0|                          0|                        0|(23,[0,1,2,4,5,6,...|(23,[0,1,2,4,5,6,...|         1|\n",
            "|     0.997924|      0.285714|      0.998517|        0.333333|       0.0666667|             0.0|        0.285714|          0.909091|              0.0|          0.909091|          0.909091|       0.0820189|        0.59141|             1.0|        0.365591|             0.0|             0.0|                      0.0|                      0.0|                      0.0|                      0.0|                   0.0|                       0.0|                          0|                        0|(23,[0,1,2,3,4,6,...|(23,[0,1,2,3,4,6,...|         1|\n",
            "+-------------+--------------+--------------+----------------+----------------+----------------+----------------+------------------+-----------------+------------------+------------------+----------------+---------------+----------------+----------------+----------------+----------------+-------------------------+-------------------------+-------------------------+-------------------------+----------------------+--------------------------+---------------------------+-------------------------+--------------------+--------------------+----------+\n",
            "only showing top 20 rows\n",
            "\n"
          ]
        }
      ]
    },
    {
      "cell_type": "code",
      "source": [
        "rows = sampled_data.count()\n",
        "print(f\"DataFrame Rows count : {rows}\")\n"
      ],
      "metadata": {
        "id": "E1CRsWCcPej7",
        "colab": {
          "base_uri": "https://localhost:8080/"
        },
        "outputId": "4333e01a-ba38-493e-8477-ae414cdc5a73"
      },
      "execution_count": 22,
      "outputs": [
        {
          "output_type": "stream",
          "name": "stdout",
          "text": [
            "DataFrame Rows count : 1266\n"
          ]
        }
      ]
    },
    {
      "cell_type": "code",
      "source": [
        "filtered_data_1.dtypes"
      ],
      "metadata": {
        "id": "OBJtj03Hl-AZ",
        "colab": {
          "base_uri": "https://localhost:8080/"
        },
        "outputId": "94cbf1c8-541e-467f-b68e-d1b34ca3b0f4"
      },
      "execution_count": 23,
      "outputs": [
        {
          "output_type": "execute_result",
          "data": {
            "text/plain": [
              "[('num_instances', 'double'),\n",
              " ('num_attributes', 'double'),\n",
              " ('dimensionality', 'double'),\n",
              " ('num_numeric_attr', 'double'),\n",
              " ('pct_numeric_attr', 'double'),\n",
              " ('num_nominal_attr', 'double'),\n",
              " ('pct_nominal_attr', 'double'),\n",
              " ('avg_nominal_values', 'double'),\n",
              " ('sd_nominal_values', 'double'),\n",
              " ('min_nominal_values', 'double'),\n",
              " ('max_nominal_values', 'double'),\n",
              " ('avg_numeric_mean', 'double'),\n",
              " ('sd_numeric_mean', 'double'),\n",
              " ('min_numeric_mean', 'double'),\n",
              " ('max_numeric_mean', 'double'),\n",
              " ('missing_attr_cnt', 'double'),\n",
              " ('missing_attr_pct', 'double'),\n",
              " ('missing_instances_max_cnt', 'double'),\n",
              " ('missing_instances_max_pct', 'double'),\n",
              " ('missing_instances_min_cnt', 'double'),\n",
              " ('missing_instances_min_pct', 'double'),\n",
              " ('missing_instances_mean', 'double'),\n",
              " ('missing_instances_mean_pct', 'double'),\n",
              " ('datesets_subject_main_match', 'int'),\n",
              " ('datesets_duplicates_match', 'int'),\n",
              " ('features', 'vector')]"
            ]
          },
          "metadata": {},
          "execution_count": 23
        }
      ]
    },
    {
      "cell_type": "code",
      "source": [
        "sampled_data.dtypes"
      ],
      "metadata": {
        "id": "Qi6opUlAlpWX",
        "colab": {
          "base_uri": "https://localhost:8080/"
        },
        "outputId": "74e9918d-2c9b-4009-fc56-4a799f3cdbd7"
      },
      "execution_count": 24,
      "outputs": [
        {
          "output_type": "execute_result",
          "data": {
            "text/plain": [
              "[('num_instances', 'double'),\n",
              " ('num_attributes', 'double'),\n",
              " ('dimensionality', 'double'),\n",
              " ('num_numeric_attr', 'double'),\n",
              " ('pct_numeric_attr', 'double'),\n",
              " ('num_nominal_attr', 'double'),\n",
              " ('pct_nominal_attr', 'double'),\n",
              " ('avg_nominal_values', 'double'),\n",
              " ('sd_nominal_values', 'double'),\n",
              " ('min_nominal_values', 'double'),\n",
              " ('max_nominal_values', 'double'),\n",
              " ('avg_numeric_mean', 'double'),\n",
              " ('sd_numeric_mean', 'double'),\n",
              " ('min_numeric_mean', 'double'),\n",
              " ('max_numeric_mean', 'double'),\n",
              " ('missing_attr_cnt', 'double'),\n",
              " ('missing_attr_pct', 'double'),\n",
              " ('missing_instances_max_cnt', 'double'),\n",
              " ('missing_instances_max_pct', 'double'),\n",
              " ('missing_instances_min_cnt', 'double'),\n",
              " ('missing_instances_min_pct', 'double'),\n",
              " ('missing_instances_mean', 'double'),\n",
              " ('missing_instances_mean_pct', 'double'),\n",
              " ('datesets_subject_main_match', 'int'),\n",
              " ('datesets_duplicates_match', 'int'),\n",
              " ('features', 'vector'),\n",
              " ('standardized', 'vector'),\n",
              " ('prediction', 'int')]"
            ]
          },
          "metadata": {},
          "execution_count": 24
        }
      ]
    },
    {
      "cell_type": "code",
      "source": [
        "sampled_data=sampled_data.drop(\"standardized\",\"prediction\")\n",
        "sampled_data\n"
      ],
      "metadata": {
        "id": "MAj_DtBEmIHY",
        "colab": {
          "base_uri": "https://localhost:8080/",
          "height": 545
        },
        "outputId": "d3fd000f-5d3f-48b0-9785-6858c059a965"
      },
      "execution_count": 25,
      "outputs": [
        {
          "output_type": "execute_result",
          "data": {
            "text/plain": [
              "+-------------+--------------+--------------+----------------+----------------+----------------+----------------+------------------+-----------------+------------------+------------------+----------------+---------------+----------------+----------------+----------------+----------------+-------------------------+-------------------------+-------------------------+-------------------------+----------------------+--------------------------+---------------------------+-------------------------+--------------------+\n",
              "|num_instances|num_attributes|dimensionality|num_numeric_attr|pct_numeric_attr|num_nominal_attr|pct_nominal_attr|avg_nominal_values|sd_nominal_values|min_nominal_values|max_nominal_values|avg_numeric_mean|sd_numeric_mean|min_numeric_mean|max_numeric_mean|missing_attr_cnt|missing_attr_pct|missing_instances_max_cnt|missing_instances_max_pct|missing_instances_min_cnt|missing_instances_min_pct|missing_instances_mean|missing_instances_mean_pct|datesets_subject_main_match|datesets_duplicates_match|            features|\n",
              "+-------------+--------------+--------------+----------------+----------------+----------------+----------------+------------------+-----------------+------------------+------------------+----------------+---------------+----------------+----------------+----------------+----------------+-------------------------+-------------------------+-------------------------+-------------------------+----------------------+--------------------------+---------------------------+-------------------------+--------------------+\n",
              "|     0.999909|      0.781818|      0.999582|       0.0909091|        0.801653|        0.977778|        0.898148|          0.960168|              1.0|          0.962264|          0.867925|        0.985415|        0.98812|             1.0|        0.987158|             0.0|             0.0|                      0.0|                      0.0|                      0.0|                      0.0|                   0.0|                       0.0|                          0|                        0|[0.999909,0.78181...|\n",
              "|      0.88317|      0.444444|      0.789706|        0.285714|        0.222222|             1.0|             1.0|               1.0|              1.0|               1.0|               1.0|         0.94709|      0.0778611|             1.0|        0.833333|             0.0|             0.0|                      0.0|                      0.0|                      0.0|                      0.0|                   0.0|                       0.0|                          0|                        0|[0.88317,0.444444...|\n",
              "|     0.982955|      0.555556|      0.992424|        0.571429|       0.0357143|             0.5|        0.111111|          0.870968|              1.0|          0.333333|          0.928571|         0.99775|       0.895439|             1.0|        0.992481|             0.0|             0.0|                      0.0|                      0.0|                      0.0|                      0.0|                   0.0|                       0.0|                          0|                        0|[0.982955,0.55555...|\n",
              "|     0.949964|      0.222222|      0.935668|             0.0|        0.222222|             1.0|             1.0|               1.0|              1.0|               1.0|               1.0|        0.999867|       0.999889|             1.0|        0.999915|             0.0|             0.0|                      0.0|                      0.0|                      0.0|                      0.0|                   0.0|                       0.0|                          0|                        0|(23,[0,1,2,4,5,6,...|\n",
              "|     0.760594|      0.444444|      0.569069|        0.285714|        0.222222|             1.0|             1.0|               1.0|              1.0|               1.0|               1.0|        0.955357|       0.666963|             1.0|           0.875|             0.0|             0.0|                      0.0|                      0.0|                      0.0|                      0.0|                   0.0|                       0.0|                          0|                        0|[0.760594,0.44444...|\n",
              "|     0.754717|      0.142857|      0.789757|        0.214286|       0.0833334|             1.0|             1.0|               1.0|              0.0|               1.0|               1.0|        0.999626|       0.999891|             1.0|        0.999916|             0.0|             0.0|                      0.0|                      0.0|                      0.0|                      0.0|                   0.0|                       0.0|                          0|                        0|(23,[0,1,2,3,4,5,...|\n",
              "|     0.779661|      0.176471|      0.732445|           0.125|       0.0588235|             1.0|             1.0|               1.0|              0.0|               1.0|               1.0|        0.647086|       0.664895|            0.25|        0.685329|             0.0|             0.0|                      0.0|                      0.0|                      0.0|                      0.0|                   0.0|                       0.0|                          0|                        0|(23,[0,1,2,3,4,5,...|\n",
              "|     0.978039|         0.125|      0.980784|             0.0|           0.125|             1.0|             1.0|               1.0|              0.0|               1.0|               1.0|             1.0|       0.998965|             1.0|             1.0|             0.0|             0.0|                      0.0|                      0.0|                      0.0|                      0.0|                   0.0|                       0.0|                          0|                        0|(23,[0,1,2,4,5,6,...|\n",
              "|     0.985887|          0.36|      0.977949|        0.458333|        0.153646|        0.666667|        0.786667|          0.860465|              1.0|               0.5|          0.948052|        0.943044|       0.984208|             0.0|         0.98125|             0.0|             0.0|                      0.0|                      0.0|                      0.0|                      0.0|                   0.0|                       0.0|                          0|                        0|(23,[0,1,2,3,4,5,...|\n",
              "|      0.99704|         0.375|      0.995264|             0.0|           0.375|             1.0|             1.0|               1.0|              1.0|               1.0|               1.0|        0.999934|       0.997903|        0.999939|        0.999927|             0.0|             0.0|                      0.0|                      0.0|                      0.0|                      0.0|                   0.0|                       0.0|                          0|                        0|(23,[0,1,2,4,5,6,...|\n",
              "|     0.985699|      0.608247|      0.963494|        0.618557|       0.0263158|             1.0|             1.0|               1.0|              0.0|               1.0|               1.0|        0.193001|       0.248119|             0.0|        0.506199|             0.0|             0.0|                      0.0|                      0.0|                      0.0|                      0.0|                   0.0|                       0.0|                          0|                        0|(23,[0,1,2,3,4,5,...|\n",
              "|     0.712919|           0.5|      0.856459|          0.5625|           0.125|             1.0|             1.0|               1.0|              0.0|               1.0|               1.0|        0.845251|        0.76804|             0.4|        0.671414|             0.0|             0.0|                      0.0|                      0.0|                      0.0|                      0.0|                   0.0|                       0.0|                          0|                        0|(23,[0,1,2,3,4,5,...|\n",
              "|     0.999907|        0.3125|      0.999936|          0.4375|        0.181818|             1.0|             1.0|               1.0|              0.0|               1.0|               1.0|        0.972217|       0.948313|             1.0|        0.963622|             0.0|             0.0|                      0.0|                      0.0|                      0.0|                      0.0|                   0.0|                       0.0|                          0|                        0|(23,[0,1,2,3,4,5,...|\n",
              "|     0.453138|      0.318182|      0.627139|        0.363636|       0.0666666|             1.0|             1.0|               1.0|              0.0|               1.0|               1.0|        0.941592|       0.999325|        0.999751|        0.996503|             0.0|             0.0|                      0.0|                      0.0|                      0.0|                      0.0|                   0.0|                       0.0|                          0|                        0|(23,[0,1,2,3,4,5,...|\n",
              "|     0.999215|      0.487179|      0.998469|             0.5|           0.025|             1.0|             1.0|               1.0|              0.0|               1.0|               1.0|        0.811216|       0.960413|             0.0|        0.982955|             0.0|             0.0|                      0.0|                      0.0|                      0.0|                      0.0|                   0.0|                       0.0|                          0|                        0|(23,[0,1,2,3,4,5,...|\n",
              "|     0.999504|           0.0|      0.999504|       0.0909091|       0.0909091|             1.0|             1.0|               1.0|              0.0|               1.0|               1.0|         0.89962|       0.953578|        0.333333|         0.95858|             0.0|             0.0|                      0.0|                      0.0|                      0.0|                      0.0|                   0.0|                       0.0|                          0|                        0|(23,[0,2,3,4,5,6,...|\n",
              "|     0.133858|      0.181818|     0.0553719|        0.363636|        0.222222|             1.0|             1.0|               1.0|              1.0|               1.0|               1.0|        0.989926|       0.987502|             0.0|        0.985917|             0.0|             0.0|                      0.0|                      0.0|                      0.0|                      0.0|                   0.0|                       0.0|                          0|                        0|(23,[0,1,2,3,4,5,...|\n",
              "|     0.744094|      0.181818|      0.687227|        0.272727|        0.111111|             1.0|             1.0|               1.0|              0.0|               1.0|               1.0|        0.866336|       0.877949|        0.666667|        0.812846|             0.0|             0.0|                      0.0|                      0.0|                      0.0|                      0.0|                   0.0|                       0.0|                          0|                        0|(23,[0,1,2,3,4,5,...|\n",
              "|     0.666667|         0.125|      0.619048|             0.0|           0.125|             1.0|             1.0|               1.0|              0.0|               1.0|               1.0|        0.999158|       0.999287|        0.990196|         0.99926|             0.0|             0.0|                      0.0|                      0.0|                      0.0|                      0.0|                   0.0|                       0.0|                          0|                        0|(23,[0,1,2,4,5,6,...|\n",
              "|     0.997924|      0.285714|      0.998517|        0.333333|       0.0666667|             0.0|        0.285714|          0.909091|              0.0|          0.909091|          0.909091|       0.0820189|        0.59141|             1.0|        0.365591|             0.0|             0.0|                      0.0|                      0.0|                      0.0|                      0.0|                   0.0|                       0.0|                          0|                        0|(23,[0,1,2,3,4,6,...|\n",
              "+-------------+--------------+--------------+----------------+----------------+----------------+----------------+------------------+-----------------+------------------+------------------+----------------+---------------+----------------+----------------+----------------+----------------+-------------------------+-------------------------+-------------------------+-------------------------+----------------------+--------------------------+---------------------------+-------------------------+--------------------+\n",
              "only showing top 20 rows"
            ],
            "text/html": [
              "<table border='1'>\n",
              "<tr><th>num_instances</th><th>num_attributes</th><th>dimensionality</th><th>num_numeric_attr</th><th>pct_numeric_attr</th><th>num_nominal_attr</th><th>pct_nominal_attr</th><th>avg_nominal_values</th><th>sd_nominal_values</th><th>min_nominal_values</th><th>max_nominal_values</th><th>avg_numeric_mean</th><th>sd_numeric_mean</th><th>min_numeric_mean</th><th>max_numeric_mean</th><th>missing_attr_cnt</th><th>missing_attr_pct</th><th>missing_instances_max_cnt</th><th>missing_instances_max_pct</th><th>missing_instances_min_cnt</th><th>missing_instances_min_pct</th><th>missing_instances_mean</th><th>missing_instances_mean_pct</th><th>datesets_subject_main_match</th><th>datesets_duplicates_match</th><th>features</th></tr>\n",
              "<tr><td>0.999909</td><td>0.781818</td><td>0.999582</td><td>0.0909091</td><td>0.801653</td><td>0.977778</td><td>0.898148</td><td>0.960168</td><td>1.0</td><td>0.962264</td><td>0.867925</td><td>0.985415</td><td>0.98812</td><td>1.0</td><td>0.987158</td><td>0.0</td><td>0.0</td><td>0.0</td><td>0.0</td><td>0.0</td><td>0.0</td><td>0.0</td><td>0.0</td><td>0</td><td>0</td><td>[0.999909,0.78181...</td></tr>\n",
              "<tr><td>0.88317</td><td>0.444444</td><td>0.789706</td><td>0.285714</td><td>0.222222</td><td>1.0</td><td>1.0</td><td>1.0</td><td>1.0</td><td>1.0</td><td>1.0</td><td>0.94709</td><td>0.0778611</td><td>1.0</td><td>0.833333</td><td>0.0</td><td>0.0</td><td>0.0</td><td>0.0</td><td>0.0</td><td>0.0</td><td>0.0</td><td>0.0</td><td>0</td><td>0</td><td>[0.88317,0.444444...</td></tr>\n",
              "<tr><td>0.982955</td><td>0.555556</td><td>0.992424</td><td>0.571429</td><td>0.0357143</td><td>0.5</td><td>0.111111</td><td>0.870968</td><td>1.0</td><td>0.333333</td><td>0.928571</td><td>0.99775</td><td>0.895439</td><td>1.0</td><td>0.992481</td><td>0.0</td><td>0.0</td><td>0.0</td><td>0.0</td><td>0.0</td><td>0.0</td><td>0.0</td><td>0.0</td><td>0</td><td>0</td><td>[0.982955,0.55555...</td></tr>\n",
              "<tr><td>0.949964</td><td>0.222222</td><td>0.935668</td><td>0.0</td><td>0.222222</td><td>1.0</td><td>1.0</td><td>1.0</td><td>1.0</td><td>1.0</td><td>1.0</td><td>0.999867</td><td>0.999889</td><td>1.0</td><td>0.999915</td><td>0.0</td><td>0.0</td><td>0.0</td><td>0.0</td><td>0.0</td><td>0.0</td><td>0.0</td><td>0.0</td><td>0</td><td>0</td><td>(23,[0,1,2,4,5,6,...</td></tr>\n",
              "<tr><td>0.760594</td><td>0.444444</td><td>0.569069</td><td>0.285714</td><td>0.222222</td><td>1.0</td><td>1.0</td><td>1.0</td><td>1.0</td><td>1.0</td><td>1.0</td><td>0.955357</td><td>0.666963</td><td>1.0</td><td>0.875</td><td>0.0</td><td>0.0</td><td>0.0</td><td>0.0</td><td>0.0</td><td>0.0</td><td>0.0</td><td>0.0</td><td>0</td><td>0</td><td>[0.760594,0.44444...</td></tr>\n",
              "<tr><td>0.754717</td><td>0.142857</td><td>0.789757</td><td>0.214286</td><td>0.0833334</td><td>1.0</td><td>1.0</td><td>1.0</td><td>0.0</td><td>1.0</td><td>1.0</td><td>0.999626</td><td>0.999891</td><td>1.0</td><td>0.999916</td><td>0.0</td><td>0.0</td><td>0.0</td><td>0.0</td><td>0.0</td><td>0.0</td><td>0.0</td><td>0.0</td><td>0</td><td>0</td><td>(23,[0,1,2,3,4,5,...</td></tr>\n",
              "<tr><td>0.779661</td><td>0.176471</td><td>0.732445</td><td>0.125</td><td>0.0588235</td><td>1.0</td><td>1.0</td><td>1.0</td><td>0.0</td><td>1.0</td><td>1.0</td><td>0.647086</td><td>0.664895</td><td>0.25</td><td>0.685329</td><td>0.0</td><td>0.0</td><td>0.0</td><td>0.0</td><td>0.0</td><td>0.0</td><td>0.0</td><td>0.0</td><td>0</td><td>0</td><td>(23,[0,1,2,3,4,5,...</td></tr>\n",
              "<tr><td>0.978039</td><td>0.125</td><td>0.980784</td><td>0.0</td><td>0.125</td><td>1.0</td><td>1.0</td><td>1.0</td><td>0.0</td><td>1.0</td><td>1.0</td><td>1.0</td><td>0.998965</td><td>1.0</td><td>1.0</td><td>0.0</td><td>0.0</td><td>0.0</td><td>0.0</td><td>0.0</td><td>0.0</td><td>0.0</td><td>0.0</td><td>0</td><td>0</td><td>(23,[0,1,2,4,5,6,...</td></tr>\n",
              "<tr><td>0.985887</td><td>0.36</td><td>0.977949</td><td>0.458333</td><td>0.153646</td><td>0.666667</td><td>0.786667</td><td>0.860465</td><td>1.0</td><td>0.5</td><td>0.948052</td><td>0.943044</td><td>0.984208</td><td>0.0</td><td>0.98125</td><td>0.0</td><td>0.0</td><td>0.0</td><td>0.0</td><td>0.0</td><td>0.0</td><td>0.0</td><td>0.0</td><td>0</td><td>0</td><td>(23,[0,1,2,3,4,5,...</td></tr>\n",
              "<tr><td>0.99704</td><td>0.375</td><td>0.995264</td><td>0.0</td><td>0.375</td><td>1.0</td><td>1.0</td><td>1.0</td><td>1.0</td><td>1.0</td><td>1.0</td><td>0.999934</td><td>0.997903</td><td>0.999939</td><td>0.999927</td><td>0.0</td><td>0.0</td><td>0.0</td><td>0.0</td><td>0.0</td><td>0.0</td><td>0.0</td><td>0.0</td><td>0</td><td>0</td><td>(23,[0,1,2,4,5,6,...</td></tr>\n",
              "<tr><td>0.985699</td><td>0.608247</td><td>0.963494</td><td>0.618557</td><td>0.0263158</td><td>1.0</td><td>1.0</td><td>1.0</td><td>0.0</td><td>1.0</td><td>1.0</td><td>0.193001</td><td>0.248119</td><td>0.0</td><td>0.506199</td><td>0.0</td><td>0.0</td><td>0.0</td><td>0.0</td><td>0.0</td><td>0.0</td><td>0.0</td><td>0.0</td><td>0</td><td>0</td><td>(23,[0,1,2,3,4,5,...</td></tr>\n",
              "<tr><td>0.712919</td><td>0.5</td><td>0.856459</td><td>0.5625</td><td>0.125</td><td>1.0</td><td>1.0</td><td>1.0</td><td>0.0</td><td>1.0</td><td>1.0</td><td>0.845251</td><td>0.76804</td><td>0.4</td><td>0.671414</td><td>0.0</td><td>0.0</td><td>0.0</td><td>0.0</td><td>0.0</td><td>0.0</td><td>0.0</td><td>0.0</td><td>0</td><td>0</td><td>(23,[0,1,2,3,4,5,...</td></tr>\n",
              "<tr><td>0.999907</td><td>0.3125</td><td>0.999936</td><td>0.4375</td><td>0.181818</td><td>1.0</td><td>1.0</td><td>1.0</td><td>0.0</td><td>1.0</td><td>1.0</td><td>0.972217</td><td>0.948313</td><td>1.0</td><td>0.963622</td><td>0.0</td><td>0.0</td><td>0.0</td><td>0.0</td><td>0.0</td><td>0.0</td><td>0.0</td><td>0.0</td><td>0</td><td>0</td><td>(23,[0,1,2,3,4,5,...</td></tr>\n",
              "<tr><td>0.453138</td><td>0.318182</td><td>0.627139</td><td>0.363636</td><td>0.0666666</td><td>1.0</td><td>1.0</td><td>1.0</td><td>0.0</td><td>1.0</td><td>1.0</td><td>0.941592</td><td>0.999325</td><td>0.999751</td><td>0.996503</td><td>0.0</td><td>0.0</td><td>0.0</td><td>0.0</td><td>0.0</td><td>0.0</td><td>0.0</td><td>0.0</td><td>0</td><td>0</td><td>(23,[0,1,2,3,4,5,...</td></tr>\n",
              "<tr><td>0.999215</td><td>0.487179</td><td>0.998469</td><td>0.5</td><td>0.025</td><td>1.0</td><td>1.0</td><td>1.0</td><td>0.0</td><td>1.0</td><td>1.0</td><td>0.811216</td><td>0.960413</td><td>0.0</td><td>0.982955</td><td>0.0</td><td>0.0</td><td>0.0</td><td>0.0</td><td>0.0</td><td>0.0</td><td>0.0</td><td>0.0</td><td>0</td><td>0</td><td>(23,[0,1,2,3,4,5,...</td></tr>\n",
              "<tr><td>0.999504</td><td>0.0</td><td>0.999504</td><td>0.0909091</td><td>0.0909091</td><td>1.0</td><td>1.0</td><td>1.0</td><td>0.0</td><td>1.0</td><td>1.0</td><td>0.89962</td><td>0.953578</td><td>0.333333</td><td>0.95858</td><td>0.0</td><td>0.0</td><td>0.0</td><td>0.0</td><td>0.0</td><td>0.0</td><td>0.0</td><td>0.0</td><td>0</td><td>0</td><td>(23,[0,2,3,4,5,6,...</td></tr>\n",
              "<tr><td>0.133858</td><td>0.181818</td><td>0.0553719</td><td>0.363636</td><td>0.222222</td><td>1.0</td><td>1.0</td><td>1.0</td><td>1.0</td><td>1.0</td><td>1.0</td><td>0.989926</td><td>0.987502</td><td>0.0</td><td>0.985917</td><td>0.0</td><td>0.0</td><td>0.0</td><td>0.0</td><td>0.0</td><td>0.0</td><td>0.0</td><td>0.0</td><td>0</td><td>0</td><td>(23,[0,1,2,3,4,5,...</td></tr>\n",
              "<tr><td>0.744094</td><td>0.181818</td><td>0.687227</td><td>0.272727</td><td>0.111111</td><td>1.0</td><td>1.0</td><td>1.0</td><td>0.0</td><td>1.0</td><td>1.0</td><td>0.866336</td><td>0.877949</td><td>0.666667</td><td>0.812846</td><td>0.0</td><td>0.0</td><td>0.0</td><td>0.0</td><td>0.0</td><td>0.0</td><td>0.0</td><td>0.0</td><td>0</td><td>0</td><td>(23,[0,1,2,3,4,5,...</td></tr>\n",
              "<tr><td>0.666667</td><td>0.125</td><td>0.619048</td><td>0.0</td><td>0.125</td><td>1.0</td><td>1.0</td><td>1.0</td><td>0.0</td><td>1.0</td><td>1.0</td><td>0.999158</td><td>0.999287</td><td>0.990196</td><td>0.99926</td><td>0.0</td><td>0.0</td><td>0.0</td><td>0.0</td><td>0.0</td><td>0.0</td><td>0.0</td><td>0.0</td><td>0</td><td>0</td><td>(23,[0,1,2,4,5,6,...</td></tr>\n",
              "<tr><td>0.997924</td><td>0.285714</td><td>0.998517</td><td>0.333333</td><td>0.0666667</td><td>0.0</td><td>0.285714</td><td>0.909091</td><td>0.0</td><td>0.909091</td><td>0.909091</td><td>0.0820189</td><td>0.59141</td><td>1.0</td><td>0.365591</td><td>0.0</td><td>0.0</td><td>0.0</td><td>0.0</td><td>0.0</td><td>0.0</td><td>0.0</td><td>0.0</td><td>0</td><td>0</td><td>(23,[0,1,2,3,4,6,...</td></tr>\n",
              "</table>\n",
              "only showing top 20 rows\n"
            ]
          },
          "metadata": {},
          "execution_count": 25
        }
      ]
    },
    {
      "cell_type": "code",
      "source": [
        "result = sampled_data.union(filtered_data_1)"
      ],
      "metadata": {
        "id": "PjgPUiISRvP0"
      },
      "execution_count": 26,
      "outputs": []
    },
    {
      "cell_type": "code",
      "source": [
        "result.count()"
      ],
      "metadata": {
        "id": "Ao5uByVFlghL",
        "colab": {
          "base_uri": "https://localhost:8080/"
        },
        "outputId": "db4f3bdc-5f28-4198-bcf0-b5d3d328523a"
      },
      "execution_count": 27,
      "outputs": [
        {
          "output_type": "execute_result",
          "data": {
            "text/plain": [
              "1836"
            ]
          },
          "metadata": {},
          "execution_count": 27
        }
      ]
    },
    {
      "cell_type": "markdown",
      "source": [
        "## Modeling"
      ],
      "metadata": {
        "id": "jM17wHw4MDRk"
      }
    },
    {
      "cell_type": "code",
      "source": [
        "rf=RandomForestClassifier(labelCol=\"datesets_subject_main_match\", featuresCol=\"features\")\n",
        "\n",
        "# Define the parameter grid for tuning\n",
        "param_grid = ParamGridBuilder() \\\n",
        "    .addGrid(rf.numTrees, [10, 20, 30]) \\\n",
        "    .addGrid(rf.maxDepth, [5, 10]) \\\n",
        "    .build()\n",
        "\n",
        "# Create a Leave-One-Out Cross Validator\n",
        "crossval = CrossValidator(estimator=RandomForestClassifier(labelCol=\"datesets_subject_main_match\", featuresCol=\"features\"),\n",
        "                          estimatorParamMaps=param_grid,\n",
        "                          evaluator=MulticlassClassificationEvaluator(labelCol=\"datesets_subject_main_match\", predictionCol=\"prediction\", metricName=\"accuracy\"))\n",
        "\n",
        "\n",
        "# Fit the model using the cross validator\n",
        "model = crossval.fit(result)\n",
        "\n",
        "# Get the best model from cross validation\n",
        "best_model = model.bestModel\n",
        "\n",
        "# Make predictions on the entire dataset\n",
        "predictions = best_model.transform(result)\n",
        "\n"
      ],
      "metadata": {
        "id": "YXEOT047mmTS"
      },
      "execution_count": 28,
      "outputs": []
    },
    {
      "cell_type": "markdown",
      "source": [
        "## Evaluation"
      ],
      "metadata": {
        "id": "q3tLIutjMLPi"
      }
    },
    {
      "cell_type": "code",
      "source": [
        "# Calculate TP, TN, FP, FN from the predictions\n",
        "TP = predictions.filter(\"datesets_subject_main_match = 1 AND prediction = 1\").count()\n",
        "TN = predictions.filter(\"datesets_subject_main_match = 0 AND prediction = 0\").count()\n",
        "FP = predictions.filter(\"datesets_subject_main_match = 0 AND prediction = 1\").count()\n",
        "FN = predictions.filter(\"datesets_subject_main_match = 1 AND prediction = 0\").count()\n",
        "\n",
        "# Calculate Precision\n",
        "precision = TP / (TP + FP)\n",
        "\n",
        "# Calculate Recall\n",
        "recall = TP / (TP + FN)\n",
        "\n",
        "# Calculate F1 Score\n",
        "f1_score = 2 * (precision * recall) / (precision + recall)\n",
        "\n",
        "# Calculate Accuracy\n",
        "accuracy = (TP + TN) / (TP + TN + FP + FN)\n",
        "\n",
        "\n",
        "\n",
        "# Print the results\n",
        "print(\"Accuracy: {:.2f}\".format(accuracy * 100))\n",
        "print(\"Precision: {:.2f}\".format(precision * 100))\n",
        "print(\"Recall: {:.2f}\".format(recall * 100))\n",
        "print(\"F1 Score: {:.2f}\".format(f1_score * 100))"
      ],
      "metadata": {
        "colab": {
          "base_uri": "https://localhost:8080/"
        },
        "id": "7OjtN4afnbMD",
        "outputId": "d1b478ec-3841-4a80-f97b-7b43a79b59f6"
      },
      "execution_count": 30,
      "outputs": [
        {
          "output_type": "stream",
          "name": "stdout",
          "text": [
            "Accuracy: 81.92\n",
            "Precision: 91.90\n",
            "Recall: 45.79\n",
            "F1 Score: 61.12\n"
          ]
        }
      ]
    }
  ]
}