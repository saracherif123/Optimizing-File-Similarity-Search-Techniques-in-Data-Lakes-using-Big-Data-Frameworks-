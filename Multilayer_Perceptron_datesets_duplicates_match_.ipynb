{
  "nbformat": 4,
  "nbformat_minor": 0,
  "metadata": {
    "colab": {
      "provenance": [],
      "authorship_tag": "ABX9TyOpng3xWOtOG3xSa44k2oHh",
      "include_colab_link": true
    },
    "kernelspec": {
      "name": "python3",
      "display_name": "Python 3"
    },
    "language_info": {
      "name": "python"
    }
  },
  "cells": [
    {
      "cell_type": "markdown",
      "metadata": {
        "id": "view-in-github",
        "colab_type": "text"
      },
      "source": [
        "<a href=\"https://colab.research.google.com/github/saracherif123/Optimizing-File-Similarity-Search-Techniques-in-Data-Lakes-using-Big-Data-Frameworks-/blob/main/Multilayer_Perceptron_datesets_duplicates_match_.ipynb\" target=\"_parent\"><img src=\"https://colab.research.google.com/assets/colab-badge.svg\" alt=\"Open In Colab\"/></a>"
      ]
    },
    {
      "cell_type": "markdown",
      "source": [
        "# **MultilayerPerceptron datesets_duplicates_match (Dup Model)**\n"
      ],
      "metadata": {
        "id": "NVfVauHzUpvB"
      }
    },
    {
      "cell_type": "markdown",
      "source": [
        "## Spark Confirguration in Google Colab\n",
        "\n",
        "\n",
        "\n",
        "\n"
      ],
      "metadata": {
        "id": "WG1AO4miUxf-"
      }
    },
    {
      "cell_type": "code",
      "source": [
        "!ls"
      ],
      "metadata": {
        "colab": {
          "base_uri": "https://localhost:8080/"
        },
        "id": "doOZN7ER_xgJ",
        "outputId": "82200bb3-b683-43c8-9757-458217005bef"
      },
      "execution_count": 1,
      "outputs": [
        {
          "output_type": "stream",
          "name": "stdout",
          "text": [
            "sample_data\n"
          ]
        }
      ]
    },
    {
      "cell_type": "code",
      "source": [
        "!pwd"
      ],
      "metadata": {
        "colab": {
          "base_uri": "https://localhost:8080/"
        },
        "id": "OWpkUIgZ_yBS",
        "outputId": "950cd172-7b10-49bb-c7e4-15cc9e40d301"
      },
      "execution_count": 2,
      "outputs": [
        {
          "output_type": "stream",
          "name": "stdout",
          "text": [
            "/content\n"
          ]
        }
      ]
    },
    {
      "cell_type": "code",
      "source": [
        "!apt-get install openjdk-8-jdk-headless -qq > /dev/null\n",
        "!wget -q http://archive.apache.org/dist/spark/spark-3.1.1/spark-3.1.1-bin-hadoop3.2.tgz\n",
        "!tar xf spark-3.1.1-bin-hadoop3.2.tgz\n",
        "!pip install -q findspark"
      ],
      "metadata": {
        "id": "u3mL6zXB_yOG"
      },
      "execution_count": 3,
      "outputs": []
    },
    {
      "cell_type": "code",
      "source": [
        "import os\n",
        "os.environ[\"JAVA_HOME\"] = \"/usr/lib/jvm/java-8-openjdk-amd64\"\n",
        "os.environ[\"SPARK_HOME\"] = \"/content/spark-3.1.1-bin-hadoop3.2\""
      ],
      "metadata": {
        "id": "OVFJCkSD_yVU"
      },
      "execution_count": 4,
      "outputs": []
    },
    {
      "cell_type": "code",
      "source": [
        "import findspark\n",
        "findspark.init()\n",
        "from pyspark.sql import SparkSession\n",
        "spark = SparkSession.builder.master(\"local[*]\").getOrCreate()\n",
        "spark.conf.set(\"spark.sql.repl.eagerEval.enabled\", True) # Property used to format output tables better\n",
        "spark"
      ],
      "metadata": {
        "colab": {
          "base_uri": "https://localhost:8080/",
          "height": 219
        },
        "id": "58rRLDco_yfu",
        "outputId": "797d9976-b64d-4630-90c0-5a60822bec08"
      },
      "execution_count": 5,
      "outputs": [
        {
          "output_type": "execute_result",
          "data": {
            "text/plain": [
              "<pyspark.sql.session.SparkSession at 0x784bd052c940>"
            ],
            "text/html": [
              "\n",
              "            <div>\n",
              "                <p><b>SparkSession - in-memory</b></p>\n",
              "                \n",
              "        <div>\n",
              "            <p><b>SparkContext</b></p>\n",
              "\n",
              "            <p><a href=\"http://9f3adea8a135:4040\">Spark UI</a></p>\n",
              "\n",
              "            <dl>\n",
              "              <dt>Version</dt>\n",
              "                <dd><code>v3.1.1</code></dd>\n",
              "              <dt>Master</dt>\n",
              "                <dd><code>local[*]</code></dd>\n",
              "              <dt>AppName</dt>\n",
              "                <dd><code>pyspark-shell</code></dd>\n",
              "            </dl>\n",
              "        </div>\n",
              "        \n",
              "            </div>\n",
              "        "
            ]
          },
          "metadata": {},
          "execution_count": 5
        }
      ]
    },
    {
      "cell_type": "markdown",
      "source": [
        "### Import necessary libraries"
      ],
      "metadata": {
        "id": "MwEgdhasWZIU"
      }
    },
    {
      "cell_type": "code",
      "source": [
        "from pyspark import SparkContext\n",
        "from pyspark.sql import SparkSession\n",
        "from pyspark.ml.feature import VectorAssembler\n",
        "from pyspark.ml.evaluation import MulticlassClassificationEvaluator\n",
        "import matplotlib.pyplot as plt\n",
        "from pyspark.sql.functions import col\n",
        "import seaborn as sns\n",
        "from pyspark.ml.clustering import KMeans\n",
        "from pyspark.ml.evaluation import ClusteringEvaluator\n",
        "from pyspark.sql.functions import col\n",
        "from pyspark.ml import Pipeline\n",
        "from pyspark.ml.classification import MultilayerPerceptronClassifier\n",
        "from pyspark.ml.feature import StringIndexer, VectorAssembler\n",
        "from pyspark.ml.tuning import CrossValidator, ParamGridBuilder\n",
        "from pyspark.ml.feature import StandardScaler\n"
      ],
      "metadata": {
        "id": "wRetbqddAW30"
      },
      "execution_count": 6,
      "outputs": []
    },
    {
      "cell_type": "markdown",
      "source": [
        "### Load Dataset"
      ],
      "metadata": {
        "id": "LM3G-y8PXduw"
      }
    },
    {
      "cell_type": "code",
      "source": [
        "from pyspark.sql import SparkSession\n",
        "spark = SparkSession.builder.appName(\"Clustering using K-Means\").getOrCreate()\n",
        "data = spark.read.csv(\"all_topics_datasets_matching.csv\", header=True, inferSchema=True)\n",
        "data.show(10)\n",
        "\n"
      ],
      "metadata": {
        "colab": {
          "base_uri": "https://localhost:8080/"
        },
        "id": "49tPSxBRAXIp",
        "outputId": "db6d4ce1-280e-40ae-ea31-ab0fc41f50a7"
      },
      "execution_count": 7,
      "outputs": [
        {
          "output_type": "stream",
          "name": "stdout",
          "text": [
            "+----+----+-------------+--------------------+-------------+--------------+--------------+----------------+----------------+----------------+----------------+------------------+-----------------+------------------+------------------+----------------+---------------+----------------+----------------+----------------+----------------+-------------------------+-------------------------+-------------------------+-------------------------+----------------------+--------------------------+---------------------------+-------------------------+\n",
            "|did1|did2|dataset_name1|       dataset_name2|num_instances|num_attributes|dimensionality|num_numeric_attr|pct_numeric_attr|num_nominal_attr|pct_nominal_attr|avg_nominal_values|sd_nominal_values|min_nominal_values|max_nominal_values|avg_numeric_mean|sd_numeric_mean|min_numeric_mean|max_numeric_mean|missing_attr_cnt|missing_attr_pct|missing_instances_max_cnt|missing_instances_max_pct|missing_instances_min_cnt|missing_instances_min_pct|missing_instances_mean|missing_instances_mean_pct|datesets_subject_main_match|datesets_duplicates_match|\n",
            "+----+----+-------------+--------------------+-------------+--------------+--------------+----------------+----------------+----------------+----------------+------------------+-----------------+------------------+------------------+----------------+---------------+----------------+----------------+----------------+----------------+-------------------------+-------------------------+-------------------------+-------------------------+----------------------+--------------------------+---------------------------+-------------------------+\n",
            "| 171| 185|primary-tumor|            baseball|     0.747015|           0.0|      0.747015|             1.0|             1.0|        0.833333|        0.833333|          0.992834|         0.993118|          0.333333|          0.984317|             1.0|            1.0|             0.0|             1.0|             0.8|             0.8|                 0.870968|                 0.967357|                     0.95|                  0.80236|              0.911111|                  0.977512|                          0|                        0|\n",
            "| 171|6331|primary-tumor|LoanDefaultPredic...|     0.996786|      0.976654|      0.862327|             1.0|             1.0|        0.666667|        0.992218|          0.870246|         0.838809|               0.0|          0.671875|             1.0|            1.0|             1.0|             1.0|        0.990476|        0.592063|                  0.99177|                  0.60947|                      0.0|                 0.996786|              0.987738|                   0.73788|                          0|                        0|\n",
            "| 171|1090|primary-tumor|       MercuryinBass|     0.843658|      0.333333|      0.765487|             1.0|             1.0|        0.944444|        0.916667|          0.939203|              1.0|          0.962264|          0.603774|             1.0|            1.0|             0.0|             1.0|             1.0|             1.0|                      1.0|                      1.0|                      1.0|                      1.0|                   1.0|                       1.0|                          0|                        0|\n",
            "| 171| 575|primary-tumor|          kdd_coil_4|    0.0678466|      0.333333|       0.28481|             1.0|             1.0|        0.833333|            0.75|         0.0333333|         0.891071|          0.333333|          0.809524|             1.0|            1.0|             1.0|             1.0|           0.375|        0.583333|                 0.851613|                 0.840813|                      0.5|                 0.533923|              0.626667|                  0.599494|                          0|                        0|\n",
            "| 171|1051|primary-tumor|      cocomo_numeric|     0.823009|     0.0555556|      0.812598|             1.0|             1.0|        0.166667|        0.117647|          0.121212|         0.838432|          0.333333|          0.761905|             1.0|            1.0|             1.0|             1.0|             1.0|             1.0|                      1.0|                      1.0|                      1.0|                      1.0|                   1.0|                       1.0|                          0|                        0|\n",
            "| 171|1481|primary-tumor|             kr-vs-k|     0.987917|      0.611111|      0.995301|             1.0|             1.0|        0.777778|        0.428571|          0.660819|         0.163264|               0.5|          0.142857|             1.0|            1.0|             1.0|             1.0|             1.0|             1.0|                      1.0|                      1.0|                      1.0|                      1.0|                   1.0|                       1.0|                          0|                        0|\n",
            "| 171| 382|primary-tumor|   ipums_la_97-small|     0.951703|      0.704918|      0.836325|             0.0|             0.0|        0.704918|             0.0|          0.934284|         0.954003|               0.5|          0.956967|             0.0|            0.0|             0.0|             0.0|        0.722222|       0.0586419|                 0.975303|                 0.488643|                 0.992593|                  0.84663|              0.984144|                  0.671701|                          0|                        0|\n",
            "| 171| 576|primary-tumor|          kdd_coil_5|    0.0678466|      0.333333|       0.28481|             1.0|             1.0|        0.833333|            0.75|         0.0333333|         0.891071|          0.333333|          0.809524|             1.0|            1.0|             1.0|             1.0|           0.375|        0.583333|                 0.851613|                 0.840813|                      0.5|                 0.533923|              0.626667|                  0.599494|                          0|                        0|\n",
            "| 171|1465|primary-tumor|       breast-tissue|     0.687316|      0.444444|      0.437168|             1.0|             1.0|        0.944444|             0.9|          0.462963|              1.0|          0.666667|          0.714286|             1.0|            1.0|             1.0|             1.0|             1.0|             1.0|                      1.0|                      1.0|                      1.0|                      1.0|                   1.0|                       1.0|                          0|                        0|\n",
            "| 171|1567|primary-tumor|          poker-hand|     0.999669|      0.388889|      0.999798|             1.0|             1.0|        0.944444|        0.909091|          0.677778|              1.0|               0.8|           0.52381|             1.0|            1.0|             1.0|             1.0|             1.0|             1.0|                      1.0|                      1.0|                      1.0|                      1.0|                   1.0|                       1.0|                          0|                        0|\n",
            "+----+----+-------------+--------------------+-------------+--------------+--------------+----------------+----------------+----------------+----------------+------------------+-----------------+------------------+------------------+----------------+---------------+----------------+----------------+----------------+----------------+-------------------------+-------------------------+-------------------------+-------------------------+----------------------+--------------------------+---------------------------+-------------------------+\n",
            "only showing top 10 rows\n",
            "\n"
          ]
        }
      ]
    },
    {
      "cell_type": "code",
      "source": [
        "data.printSchema()"
      ],
      "metadata": {
        "id": "qzdv3GxvCA1t",
        "colab": {
          "base_uri": "https://localhost:8080/"
        },
        "outputId": "569905c0-8428-48af-fef0-1e7e9f20e7f7"
      },
      "execution_count": 8,
      "outputs": [
        {
          "output_type": "stream",
          "name": "stdout",
          "text": [
            "root\n",
            " |-- did1: integer (nullable = true)\n",
            " |-- did2: integer (nullable = true)\n",
            " |-- dataset_name1: string (nullable = true)\n",
            " |-- dataset_name2: string (nullable = true)\n",
            " |-- num_instances: double (nullable = true)\n",
            " |-- num_attributes: double (nullable = true)\n",
            " |-- dimensionality: double (nullable = true)\n",
            " |-- num_numeric_attr: double (nullable = true)\n",
            " |-- pct_numeric_attr: double (nullable = true)\n",
            " |-- num_nominal_attr: double (nullable = true)\n",
            " |-- pct_nominal_attr: double (nullable = true)\n",
            " |-- avg_nominal_values: double (nullable = true)\n",
            " |-- sd_nominal_values: double (nullable = true)\n",
            " |-- min_nominal_values: double (nullable = true)\n",
            " |-- max_nominal_values: double (nullable = true)\n",
            " |-- avg_numeric_mean: double (nullable = true)\n",
            " |-- sd_numeric_mean: double (nullable = true)\n",
            " |-- min_numeric_mean: double (nullable = true)\n",
            " |-- max_numeric_mean: double (nullable = true)\n",
            " |-- missing_attr_cnt: double (nullable = true)\n",
            " |-- missing_attr_pct: double (nullable = true)\n",
            " |-- missing_instances_max_cnt: double (nullable = true)\n",
            " |-- missing_instances_max_pct: double (nullable = true)\n",
            " |-- missing_instances_min_cnt: double (nullable = true)\n",
            " |-- missing_instances_min_pct: double (nullable = true)\n",
            " |-- missing_instances_mean: double (nullable = true)\n",
            " |-- missing_instances_mean_pct: double (nullable = true)\n",
            " |-- datesets_subject_main_match: integer (nullable = true)\n",
            " |-- datesets_duplicates_match: integer (nullable = true)\n",
            "\n"
          ]
        }
      ]
    },
    {
      "cell_type": "code",
      "source": [
        "data=data.drop(\"did1\",\"did2\",\"dataset_name1\",\"dataset_name2\")\n",
        "data"
      ],
      "metadata": {
        "colab": {
          "base_uri": "https://localhost:8080/",
          "height": 545
        },
        "id": "t660_UpeCIj0",
        "outputId": "83ef3ed0-cbbd-40aa-ce76-07f987ef89bb"
      },
      "execution_count": 9,
      "outputs": [
        {
          "output_type": "execute_result",
          "data": {
            "text/plain": [
              "+-------------+--------------+--------------+----------------+----------------+----------------+----------------+------------------+-----------------+------------------+------------------+----------------+---------------+----------------+----------------+----------------+----------------+-------------------------+-------------------------+-------------------------+-------------------------+----------------------+--------------------------+---------------------------+-------------------------+\n",
              "|num_instances|num_attributes|dimensionality|num_numeric_attr|pct_numeric_attr|num_nominal_attr|pct_nominal_attr|avg_nominal_values|sd_nominal_values|min_nominal_values|max_nominal_values|avg_numeric_mean|sd_numeric_mean|min_numeric_mean|max_numeric_mean|missing_attr_cnt|missing_attr_pct|missing_instances_max_cnt|missing_instances_max_pct|missing_instances_min_cnt|missing_instances_min_pct|missing_instances_mean|missing_instances_mean_pct|datesets_subject_main_match|datesets_duplicates_match|\n",
              "+-------------+--------------+--------------+----------------+----------------+----------------+----------------+------------------+-----------------+------------------+------------------+----------------+---------------+----------------+----------------+----------------+----------------+-------------------------+-------------------------+-------------------------+-------------------------+----------------------+--------------------------+---------------------------+-------------------------+\n",
              "|     0.747015|           0.0|      0.747015|             1.0|             1.0|        0.833333|        0.833333|          0.992834|         0.993118|          0.333333|          0.984317|             1.0|            1.0|             0.0|             1.0|             0.8|             0.8|                 0.870968|                 0.967357|                     0.95|                  0.80236|              0.911111|                  0.977512|                          0|                        0|\n",
              "|     0.996786|      0.976654|      0.862327|             1.0|             1.0|        0.666667|        0.992218|          0.870246|         0.838809|               0.0|          0.671875|             1.0|            1.0|             1.0|             1.0|        0.990476|        0.592063|                  0.99177|                  0.60947|                      0.0|                 0.996786|              0.987738|                   0.73788|                          0|                        0|\n",
              "|     0.843658|      0.333333|      0.765487|             1.0|             1.0|        0.944444|        0.916667|          0.939203|              1.0|          0.962264|          0.603774|             1.0|            1.0|             0.0|             1.0|             1.0|             1.0|                      1.0|                      1.0|                      1.0|                      1.0|                   1.0|                       1.0|                          0|                        0|\n",
              "|    0.0678466|      0.333333|       0.28481|             1.0|             1.0|        0.833333|            0.75|         0.0333333|         0.891071|          0.333333|          0.809524|             1.0|            1.0|             1.0|             1.0|           0.375|        0.583333|                 0.851613|                 0.840813|                      0.5|                 0.533923|              0.626667|                  0.599494|                          0|                        0|\n",
              "|     0.823009|     0.0555556|      0.812598|             1.0|             1.0|        0.166667|        0.117647|          0.121212|         0.838432|          0.333333|          0.761905|             1.0|            1.0|             1.0|             1.0|             1.0|             1.0|                      1.0|                      1.0|                      1.0|                      1.0|                   1.0|                       1.0|                          0|                        0|\n",
              "|     0.987917|      0.611111|      0.995301|             1.0|             1.0|        0.777778|        0.428571|          0.660819|         0.163264|               0.5|          0.142857|             1.0|            1.0|             1.0|             1.0|             1.0|             1.0|                      1.0|                      1.0|                      1.0|                      1.0|                   1.0|                       1.0|                          0|                        0|\n",
              "|     0.951703|      0.704918|      0.836325|             0.0|             0.0|        0.704918|             0.0|          0.934284|         0.954003|               0.5|          0.956967|             0.0|            0.0|             0.0|             0.0|        0.722222|       0.0586419|                 0.975303|                 0.488643|                 0.992593|                  0.84663|              0.984144|                  0.671701|                          0|                        0|\n",
              "|    0.0678466|      0.333333|       0.28481|             1.0|             1.0|        0.833333|            0.75|         0.0333333|         0.891071|          0.333333|          0.809524|             1.0|            1.0|             1.0|             1.0|           0.375|        0.583333|                 0.851613|                 0.840813|                      0.5|                 0.533923|              0.626667|                  0.599494|                          0|                        0|\n",
              "|     0.687316|      0.444444|      0.437168|             1.0|             1.0|        0.944444|             0.9|          0.462963|              1.0|          0.666667|          0.714286|             1.0|            1.0|             1.0|             1.0|             1.0|             1.0|                      1.0|                      1.0|                      1.0|                      1.0|                   1.0|                       1.0|                          0|                        0|\n",
              "|     0.999669|      0.388889|      0.999798|             1.0|             1.0|        0.944444|        0.909091|          0.677778|              1.0|               0.8|           0.52381|             1.0|            1.0|             1.0|             1.0|             1.0|             1.0|                      1.0|                      1.0|                      1.0|                      1.0|                   1.0|                       1.0|                          0|                        0|\n",
              "|     0.997546|           0.5|      0.998773|             1.0|             1.0|        0.944444|        0.888889|          0.892593|              1.0|          0.933333|               0.3|             1.0|            1.0|             1.0|             1.0|             1.0|             1.0|                      1.0|                      1.0|                      1.0|                      1.0|                   1.0|                       1.0|                          0|                        0|\n",
              "|      0.92569|      0.166667|      0.938075|             1.0|             1.0|             0.5|             0.4|          0.704082|         0.603636|               0.0|          0.461538|             1.0|            1.0|             1.0|             1.0|             0.8|            0.76|                 0.432258|                 0.957811|                 0.988636|                 0.847077|              0.530667|                  0.965124|                          0|                        0|\n",
              "|     0.918841|           0.5|      0.959421|             1.0|             1.0|        0.888889|        0.777778|          0.792115|          0.65379|          0.333333|              0.25|             1.0|            1.0|             0.0|             1.0|             1.0|             1.0|                      1.0|                      1.0|                      1.0|                      1.0|                   1.0|                       1.0|                          0|                        0|\n",
              "|    0.0855457|      0.611111|      0.574731|             1.0|             1.0|        0.944444|        0.857143|           0.37931|              1.0|               0.0|          0.904762|             1.0|            1.0|             1.0|             1.0|             1.0|             1.0|                      1.0|                      1.0|                      1.0|                      1.0|                   1.0|                       1.0|                          1|                        0|\n",
              "|     0.961652|      0.222222|      0.950695|             1.0|             1.0|             1.0|             1.0|               1.0|              1.0|               1.0|               1.0|             1.0|            1.0|             1.0|             1.0|             1.0|             1.0|                      1.0|                      1.0|                      1.0|                      1.0|                   1.0|                       1.0|                          0|                        0|\n",
              "|     0.858407|      0.555556|      0.681416|             1.0|             1.0|        0.944444|           0.875|           0.93287|              1.0|          0.958333|            0.5625|             1.0|            1.0|             1.0|             1.0|             1.0|             1.0|                      1.0|                      1.0|                      1.0|                      1.0|                   1.0|                       1.0|                          0|                        0|\n",
              "|     0.383481|      0.555556|      0.279107|             1.0|             1.0|        0.944444|           0.875|          0.892593|              1.0|          0.933333|               0.3|             1.0|            1.0|             1.0|             1.0|             1.0|             1.0|                      1.0|                      1.0|                      1.0|                      1.0|                   1.0|                       1.0|                          0|                        0|\n",
              "|     0.705015|      0.666667|      0.115044|             0.0|             0.0|        0.666667|             0.0|           0.12069|         0.753402|               0.0|          0.761905|             0.0|            0.0|             0.0|             0.0|             1.0|             1.0|                      1.0|                      1.0|                      1.0|                      1.0|                   1.0|                       1.0|                          0|                        0|\n",
              "|    0.0678466|      0.333333|       0.28481|             1.0|             1.0|        0.833333|            0.75|         0.0333333|         0.891071|          0.333333|          0.809524|             1.0|            1.0|             1.0|             1.0|           0.375|        0.583333|                 0.851613|                 0.840813|                      0.5|                 0.533923|              0.626667|                  0.599494|                          0|                        0|\n",
              "|     0.772861|      0.111111|      0.744469|             1.0|             1.0|        0.833333|          0.8125|          0.887597|         0.873601|               0.0|          0.727273|             1.0|            1.0|             1.0|             1.0|             1.0|             1.0|                      1.0|                      1.0|                      1.0|                      1.0|                   1.0|                       1.0|                          0|                        0|\n",
              "+-------------+--------------+--------------+----------------+----------------+----------------+----------------+------------------+-----------------+------------------+------------------+----------------+---------------+----------------+----------------+----------------+----------------+-------------------------+-------------------------+-------------------------+-------------------------+----------------------+--------------------------+---------------------------+-------------------------+\n",
              "only showing top 20 rows"
            ],
            "text/html": [
              "<table border='1'>\n",
              "<tr><th>num_instances</th><th>num_attributes</th><th>dimensionality</th><th>num_numeric_attr</th><th>pct_numeric_attr</th><th>num_nominal_attr</th><th>pct_nominal_attr</th><th>avg_nominal_values</th><th>sd_nominal_values</th><th>min_nominal_values</th><th>max_nominal_values</th><th>avg_numeric_mean</th><th>sd_numeric_mean</th><th>min_numeric_mean</th><th>max_numeric_mean</th><th>missing_attr_cnt</th><th>missing_attr_pct</th><th>missing_instances_max_cnt</th><th>missing_instances_max_pct</th><th>missing_instances_min_cnt</th><th>missing_instances_min_pct</th><th>missing_instances_mean</th><th>missing_instances_mean_pct</th><th>datesets_subject_main_match</th><th>datesets_duplicates_match</th></tr>\n",
              "<tr><td>0.747015</td><td>0.0</td><td>0.747015</td><td>1.0</td><td>1.0</td><td>0.833333</td><td>0.833333</td><td>0.992834</td><td>0.993118</td><td>0.333333</td><td>0.984317</td><td>1.0</td><td>1.0</td><td>0.0</td><td>1.0</td><td>0.8</td><td>0.8</td><td>0.870968</td><td>0.967357</td><td>0.95</td><td>0.80236</td><td>0.911111</td><td>0.977512</td><td>0</td><td>0</td></tr>\n",
              "<tr><td>0.996786</td><td>0.976654</td><td>0.862327</td><td>1.0</td><td>1.0</td><td>0.666667</td><td>0.992218</td><td>0.870246</td><td>0.838809</td><td>0.0</td><td>0.671875</td><td>1.0</td><td>1.0</td><td>1.0</td><td>1.0</td><td>0.990476</td><td>0.592063</td><td>0.99177</td><td>0.60947</td><td>0.0</td><td>0.996786</td><td>0.987738</td><td>0.73788</td><td>0</td><td>0</td></tr>\n",
              "<tr><td>0.843658</td><td>0.333333</td><td>0.765487</td><td>1.0</td><td>1.0</td><td>0.944444</td><td>0.916667</td><td>0.939203</td><td>1.0</td><td>0.962264</td><td>0.603774</td><td>1.0</td><td>1.0</td><td>0.0</td><td>1.0</td><td>1.0</td><td>1.0</td><td>1.0</td><td>1.0</td><td>1.0</td><td>1.0</td><td>1.0</td><td>1.0</td><td>0</td><td>0</td></tr>\n",
              "<tr><td>0.0678466</td><td>0.333333</td><td>0.28481</td><td>1.0</td><td>1.0</td><td>0.833333</td><td>0.75</td><td>0.0333333</td><td>0.891071</td><td>0.333333</td><td>0.809524</td><td>1.0</td><td>1.0</td><td>1.0</td><td>1.0</td><td>0.375</td><td>0.583333</td><td>0.851613</td><td>0.840813</td><td>0.5</td><td>0.533923</td><td>0.626667</td><td>0.599494</td><td>0</td><td>0</td></tr>\n",
              "<tr><td>0.823009</td><td>0.0555556</td><td>0.812598</td><td>1.0</td><td>1.0</td><td>0.166667</td><td>0.117647</td><td>0.121212</td><td>0.838432</td><td>0.333333</td><td>0.761905</td><td>1.0</td><td>1.0</td><td>1.0</td><td>1.0</td><td>1.0</td><td>1.0</td><td>1.0</td><td>1.0</td><td>1.0</td><td>1.0</td><td>1.0</td><td>1.0</td><td>0</td><td>0</td></tr>\n",
              "<tr><td>0.987917</td><td>0.611111</td><td>0.995301</td><td>1.0</td><td>1.0</td><td>0.777778</td><td>0.428571</td><td>0.660819</td><td>0.163264</td><td>0.5</td><td>0.142857</td><td>1.0</td><td>1.0</td><td>1.0</td><td>1.0</td><td>1.0</td><td>1.0</td><td>1.0</td><td>1.0</td><td>1.0</td><td>1.0</td><td>1.0</td><td>1.0</td><td>0</td><td>0</td></tr>\n",
              "<tr><td>0.951703</td><td>0.704918</td><td>0.836325</td><td>0.0</td><td>0.0</td><td>0.704918</td><td>0.0</td><td>0.934284</td><td>0.954003</td><td>0.5</td><td>0.956967</td><td>0.0</td><td>0.0</td><td>0.0</td><td>0.0</td><td>0.722222</td><td>0.0586419</td><td>0.975303</td><td>0.488643</td><td>0.992593</td><td>0.84663</td><td>0.984144</td><td>0.671701</td><td>0</td><td>0</td></tr>\n",
              "<tr><td>0.0678466</td><td>0.333333</td><td>0.28481</td><td>1.0</td><td>1.0</td><td>0.833333</td><td>0.75</td><td>0.0333333</td><td>0.891071</td><td>0.333333</td><td>0.809524</td><td>1.0</td><td>1.0</td><td>1.0</td><td>1.0</td><td>0.375</td><td>0.583333</td><td>0.851613</td><td>0.840813</td><td>0.5</td><td>0.533923</td><td>0.626667</td><td>0.599494</td><td>0</td><td>0</td></tr>\n",
              "<tr><td>0.687316</td><td>0.444444</td><td>0.437168</td><td>1.0</td><td>1.0</td><td>0.944444</td><td>0.9</td><td>0.462963</td><td>1.0</td><td>0.666667</td><td>0.714286</td><td>1.0</td><td>1.0</td><td>1.0</td><td>1.0</td><td>1.0</td><td>1.0</td><td>1.0</td><td>1.0</td><td>1.0</td><td>1.0</td><td>1.0</td><td>1.0</td><td>0</td><td>0</td></tr>\n",
              "<tr><td>0.999669</td><td>0.388889</td><td>0.999798</td><td>1.0</td><td>1.0</td><td>0.944444</td><td>0.909091</td><td>0.677778</td><td>1.0</td><td>0.8</td><td>0.52381</td><td>1.0</td><td>1.0</td><td>1.0</td><td>1.0</td><td>1.0</td><td>1.0</td><td>1.0</td><td>1.0</td><td>1.0</td><td>1.0</td><td>1.0</td><td>1.0</td><td>0</td><td>0</td></tr>\n",
              "<tr><td>0.997546</td><td>0.5</td><td>0.998773</td><td>1.0</td><td>1.0</td><td>0.944444</td><td>0.888889</td><td>0.892593</td><td>1.0</td><td>0.933333</td><td>0.3</td><td>1.0</td><td>1.0</td><td>1.0</td><td>1.0</td><td>1.0</td><td>1.0</td><td>1.0</td><td>1.0</td><td>1.0</td><td>1.0</td><td>1.0</td><td>1.0</td><td>0</td><td>0</td></tr>\n",
              "<tr><td>0.92569</td><td>0.166667</td><td>0.938075</td><td>1.0</td><td>1.0</td><td>0.5</td><td>0.4</td><td>0.704082</td><td>0.603636</td><td>0.0</td><td>0.461538</td><td>1.0</td><td>1.0</td><td>1.0</td><td>1.0</td><td>0.8</td><td>0.76</td><td>0.432258</td><td>0.957811</td><td>0.988636</td><td>0.847077</td><td>0.530667</td><td>0.965124</td><td>0</td><td>0</td></tr>\n",
              "<tr><td>0.918841</td><td>0.5</td><td>0.959421</td><td>1.0</td><td>1.0</td><td>0.888889</td><td>0.777778</td><td>0.792115</td><td>0.65379</td><td>0.333333</td><td>0.25</td><td>1.0</td><td>1.0</td><td>0.0</td><td>1.0</td><td>1.0</td><td>1.0</td><td>1.0</td><td>1.0</td><td>1.0</td><td>1.0</td><td>1.0</td><td>1.0</td><td>0</td><td>0</td></tr>\n",
              "<tr><td>0.0855457</td><td>0.611111</td><td>0.574731</td><td>1.0</td><td>1.0</td><td>0.944444</td><td>0.857143</td><td>0.37931</td><td>1.0</td><td>0.0</td><td>0.904762</td><td>1.0</td><td>1.0</td><td>1.0</td><td>1.0</td><td>1.0</td><td>1.0</td><td>1.0</td><td>1.0</td><td>1.0</td><td>1.0</td><td>1.0</td><td>1.0</td><td>1</td><td>0</td></tr>\n",
              "<tr><td>0.961652</td><td>0.222222</td><td>0.950695</td><td>1.0</td><td>1.0</td><td>1.0</td><td>1.0</td><td>1.0</td><td>1.0</td><td>1.0</td><td>1.0</td><td>1.0</td><td>1.0</td><td>1.0</td><td>1.0</td><td>1.0</td><td>1.0</td><td>1.0</td><td>1.0</td><td>1.0</td><td>1.0</td><td>1.0</td><td>1.0</td><td>0</td><td>0</td></tr>\n",
              "<tr><td>0.858407</td><td>0.555556</td><td>0.681416</td><td>1.0</td><td>1.0</td><td>0.944444</td><td>0.875</td><td>0.93287</td><td>1.0</td><td>0.958333</td><td>0.5625</td><td>1.0</td><td>1.0</td><td>1.0</td><td>1.0</td><td>1.0</td><td>1.0</td><td>1.0</td><td>1.0</td><td>1.0</td><td>1.0</td><td>1.0</td><td>1.0</td><td>0</td><td>0</td></tr>\n",
              "<tr><td>0.383481</td><td>0.555556</td><td>0.279107</td><td>1.0</td><td>1.0</td><td>0.944444</td><td>0.875</td><td>0.892593</td><td>1.0</td><td>0.933333</td><td>0.3</td><td>1.0</td><td>1.0</td><td>1.0</td><td>1.0</td><td>1.0</td><td>1.0</td><td>1.0</td><td>1.0</td><td>1.0</td><td>1.0</td><td>1.0</td><td>1.0</td><td>0</td><td>0</td></tr>\n",
              "<tr><td>0.705015</td><td>0.666667</td><td>0.115044</td><td>0.0</td><td>0.0</td><td>0.666667</td><td>0.0</td><td>0.12069</td><td>0.753402</td><td>0.0</td><td>0.761905</td><td>0.0</td><td>0.0</td><td>0.0</td><td>0.0</td><td>1.0</td><td>1.0</td><td>1.0</td><td>1.0</td><td>1.0</td><td>1.0</td><td>1.0</td><td>1.0</td><td>0</td><td>0</td></tr>\n",
              "<tr><td>0.0678466</td><td>0.333333</td><td>0.28481</td><td>1.0</td><td>1.0</td><td>0.833333</td><td>0.75</td><td>0.0333333</td><td>0.891071</td><td>0.333333</td><td>0.809524</td><td>1.0</td><td>1.0</td><td>1.0</td><td>1.0</td><td>0.375</td><td>0.583333</td><td>0.851613</td><td>0.840813</td><td>0.5</td><td>0.533923</td><td>0.626667</td><td>0.599494</td><td>0</td><td>0</td></tr>\n",
              "<tr><td>0.772861</td><td>0.111111</td><td>0.744469</td><td>1.0</td><td>1.0</td><td>0.833333</td><td>0.8125</td><td>0.887597</td><td>0.873601</td><td>0.0</td><td>0.727273</td><td>1.0</td><td>1.0</td><td>1.0</td><td>1.0</td><td>1.0</td><td>1.0</td><td>1.0</td><td>1.0</td><td>1.0</td><td>1.0</td><td>1.0</td><td>1.0</td><td>0</td><td>0</td></tr>\n",
              "</table>\n",
              "only showing top 20 rows\n"
            ]
          },
          "metadata": {},
          "execution_count": 9
        }
      ]
    },
    {
      "cell_type": "markdown",
      "source": [
        "## Data Preprocessing"
      ],
      "metadata": {
        "id": "ucS53IbzXznE"
      }
    },
    {
      "cell_type": "code",
      "source": [
        "# Create vector assembler\n",
        "from pyspark.ml.feature import VectorAssembler\n",
        "labelCol = 'datesets_duplicates_match'\n",
        "numericCols = ['num_instances','num_attributes',\n",
        " 'dimensionality','num_numeric_attr','pct_numeric_attr','num_nominal_attr', 'pct_nominal_attr',\n",
        " 'avg_nominal_values','sd_nominal_values','min_nominal_values','max_nominal_values','avg_numeric_mean',\n",
        " 'sd_numeric_mean','min_numeric_mean','max_numeric_mean','missing_attr_cnt','missing_attr_pct',\n",
        " 'missing_instances_max_cnt','missing_instances_max_pct','missing_instances_min_cnt','missing_instances_min_pct',\n",
        " 'missing_instances_mean','missing_instances_mean_pct']\n",
        "assembler = VectorAssembler(inputCols=numericCols, outputCol=\"features\")\n",
        "\n",
        "\n",
        "# Transform the training data\n",
        "data = assembler.transform(data)\n",
        "\n",
        "\n",
        "\n",
        "\n"
      ],
      "metadata": {
        "id": "gv9fIE5mC5lc"
      },
      "execution_count": 10,
      "outputs": []
    },
    {
      "cell_type": "markdown",
      "source": [
        "### Cluster-based undersampling\n",
        "\n"
      ],
      "metadata": {
        "id": "v4bXYSDEXvGM"
      }
    },
    {
      "cell_type": "code",
      "source": [
        "# Filter the data where `datesets_subject_main_match` is equal to zero\n",
        "filtered_data_0 = data.filter(col(\"datesets_duplicates_match\") == 0)\n",
        "\n",
        "# Show the filtered data\n",
        "filtered_data_0.show()\n",
        "\n"
      ],
      "metadata": {
        "colab": {
          "base_uri": "https://localhost:8080/"
        },
        "id": "S1VDzTTWWpQg",
        "outputId": "a054dcf0-2399-400d-a12c-8d155d65603c"
      },
      "execution_count": 11,
      "outputs": [
        {
          "output_type": "stream",
          "name": "stdout",
          "text": [
            "+-------------+--------------+--------------+----------------+----------------+----------------+----------------+------------------+-----------------+------------------+------------------+----------------+---------------+----------------+----------------+----------------+----------------+-------------------------+-------------------------+-------------------------+-------------------------+----------------------+--------------------------+---------------------------+-------------------------+--------------------+\n",
            "|num_instances|num_attributes|dimensionality|num_numeric_attr|pct_numeric_attr|num_nominal_attr|pct_nominal_attr|avg_nominal_values|sd_nominal_values|min_nominal_values|max_nominal_values|avg_numeric_mean|sd_numeric_mean|min_numeric_mean|max_numeric_mean|missing_attr_cnt|missing_attr_pct|missing_instances_max_cnt|missing_instances_max_pct|missing_instances_min_cnt|missing_instances_min_pct|missing_instances_mean|missing_instances_mean_pct|datesets_subject_main_match|datesets_duplicates_match|            features|\n",
            "+-------------+--------------+--------------+----------------+----------------+----------------+----------------+------------------+-----------------+------------------+------------------+----------------+---------------+----------------+----------------+----------------+----------------+-------------------------+-------------------------+-------------------------+-------------------------+----------------------+--------------------------+---------------------------+-------------------------+--------------------+\n",
            "|     0.747015|           0.0|      0.747015|             1.0|             1.0|        0.833333|        0.833333|          0.992834|         0.993118|          0.333333|          0.984317|             1.0|            1.0|             0.0|             1.0|             0.8|             0.8|                 0.870968|                 0.967357|                     0.95|                  0.80236|              0.911111|                  0.977512|                          0|                        0|[0.747015,0.0,0.7...|\n",
            "|     0.996786|      0.976654|      0.862327|             1.0|             1.0|        0.666667|        0.992218|          0.870246|         0.838809|               0.0|          0.671875|             1.0|            1.0|             1.0|             1.0|        0.990476|        0.592063|                  0.99177|                  0.60947|                      0.0|                 0.996786|              0.987738|                   0.73788|                          0|                        0|[0.996786,0.97665...|\n",
            "|     0.843658|      0.333333|      0.765487|             1.0|             1.0|        0.944444|        0.916667|          0.939203|              1.0|          0.962264|          0.603774|             1.0|            1.0|             0.0|             1.0|             1.0|             1.0|                      1.0|                      1.0|                      1.0|                      1.0|                   1.0|                       1.0|                          0|                        0|[0.843658,0.33333...|\n",
            "|    0.0678466|      0.333333|       0.28481|             1.0|             1.0|        0.833333|            0.75|         0.0333333|         0.891071|          0.333333|          0.809524|             1.0|            1.0|             1.0|             1.0|           0.375|        0.583333|                 0.851613|                 0.840813|                      0.5|                 0.533923|              0.626667|                  0.599494|                          0|                        0|[0.0678466,0.3333...|\n",
            "|     0.823009|     0.0555556|      0.812598|             1.0|             1.0|        0.166667|        0.117647|          0.121212|         0.838432|          0.333333|          0.761905|             1.0|            1.0|             1.0|             1.0|             1.0|             1.0|                      1.0|                      1.0|                      1.0|                      1.0|                   1.0|                       1.0|                          0|                        0|[0.823009,0.05555...|\n",
            "|     0.987917|      0.611111|      0.995301|             1.0|             1.0|        0.777778|        0.428571|          0.660819|         0.163264|               0.5|          0.142857|             1.0|            1.0|             1.0|             1.0|             1.0|             1.0|                      1.0|                      1.0|                      1.0|                      1.0|                   1.0|                       1.0|                          0|                        0|[0.987917,0.61111...|\n",
            "|     0.951703|      0.704918|      0.836325|             0.0|             0.0|        0.704918|             0.0|          0.934284|         0.954003|               0.5|          0.956967|             0.0|            0.0|             0.0|             0.0|        0.722222|       0.0586419|                 0.975303|                 0.488643|                 0.992593|                  0.84663|              0.984144|                  0.671701|                          0|                        0|[0.951703,0.70491...|\n",
            "|    0.0678466|      0.333333|       0.28481|             1.0|             1.0|        0.833333|            0.75|         0.0333333|         0.891071|          0.333333|          0.809524|             1.0|            1.0|             1.0|             1.0|           0.375|        0.583333|                 0.851613|                 0.840813|                      0.5|                 0.533923|              0.626667|                  0.599494|                          0|                        0|[0.0678466,0.3333...|\n",
            "|     0.687316|      0.444444|      0.437168|             1.0|             1.0|        0.944444|             0.9|          0.462963|              1.0|          0.666667|          0.714286|             1.0|            1.0|             1.0|             1.0|             1.0|             1.0|                      1.0|                      1.0|                      1.0|                      1.0|                   1.0|                       1.0|                          0|                        0|[0.687316,0.44444...|\n",
            "|     0.999669|      0.388889|      0.999798|             1.0|             1.0|        0.944444|        0.909091|          0.677778|              1.0|               0.8|           0.52381|             1.0|            1.0|             1.0|             1.0|             1.0|             1.0|                      1.0|                      1.0|                      1.0|                      1.0|                   1.0|                       1.0|                          0|                        0|[0.999669,0.38888...|\n",
            "|     0.997546|           0.5|      0.998773|             1.0|             1.0|        0.944444|        0.888889|          0.892593|              1.0|          0.933333|               0.3|             1.0|            1.0|             1.0|             1.0|             1.0|             1.0|                      1.0|                      1.0|                      1.0|                      1.0|                   1.0|                       1.0|                          0|                        0|[0.997546,0.5,0.9...|\n",
            "|      0.92569|      0.166667|      0.938075|             1.0|             1.0|             0.5|             0.4|          0.704082|         0.603636|               0.0|          0.461538|             1.0|            1.0|             1.0|             1.0|             0.8|            0.76|                 0.432258|                 0.957811|                 0.988636|                 0.847077|              0.530667|                  0.965124|                          0|                        0|[0.92569,0.166667...|\n",
            "|     0.918841|           0.5|      0.959421|             1.0|             1.0|        0.888889|        0.777778|          0.792115|          0.65379|          0.333333|              0.25|             1.0|            1.0|             0.0|             1.0|             1.0|             1.0|                      1.0|                      1.0|                      1.0|                      1.0|                   1.0|                       1.0|                          0|                        0|[0.918841,0.5,0.9...|\n",
            "|    0.0855457|      0.611111|      0.574731|             1.0|             1.0|        0.944444|        0.857143|           0.37931|              1.0|               0.0|          0.904762|             1.0|            1.0|             1.0|             1.0|             1.0|             1.0|                      1.0|                      1.0|                      1.0|                      1.0|                   1.0|                       1.0|                          1|                        0|[0.0855457,0.6111...|\n",
            "|     0.961652|      0.222222|      0.950695|             1.0|             1.0|             1.0|             1.0|               1.0|              1.0|               1.0|               1.0|             1.0|            1.0|             1.0|             1.0|             1.0|             1.0|                      1.0|                      1.0|                      1.0|                      1.0|                   1.0|                       1.0|                          0|                        0|[0.961652,0.22222...|\n",
            "|     0.858407|      0.555556|      0.681416|             1.0|             1.0|        0.944444|           0.875|           0.93287|              1.0|          0.958333|            0.5625|             1.0|            1.0|             1.0|             1.0|             1.0|             1.0|                      1.0|                      1.0|                      1.0|                      1.0|                   1.0|                       1.0|                          0|                        0|[0.858407,0.55555...|\n",
            "|     0.383481|      0.555556|      0.279107|             1.0|             1.0|        0.944444|           0.875|          0.892593|              1.0|          0.933333|               0.3|             1.0|            1.0|             1.0|             1.0|             1.0|             1.0|                      1.0|                      1.0|                      1.0|                      1.0|                   1.0|                       1.0|                          0|                        0|[0.383481,0.55555...|\n",
            "|     0.705015|      0.666667|      0.115044|             0.0|             0.0|        0.666667|             0.0|           0.12069|         0.753402|               0.0|          0.761905|             0.0|            0.0|             0.0|             0.0|             1.0|             1.0|                      1.0|                      1.0|                      1.0|                      1.0|                   1.0|                       1.0|                          0|                        0|[0.705015,0.66666...|\n",
            "|    0.0678466|      0.333333|       0.28481|             1.0|             1.0|        0.833333|            0.75|         0.0333333|         0.891071|          0.333333|          0.809524|             1.0|            1.0|             1.0|             1.0|           0.375|        0.583333|                 0.851613|                 0.840813|                      0.5|                 0.533923|              0.626667|                  0.599494|                          0|                        0|[0.0678466,0.3333...|\n",
            "|     0.772861|      0.111111|      0.744469|             1.0|             1.0|        0.833333|          0.8125|          0.887597|         0.873601|               0.0|          0.727273|             1.0|            1.0|             1.0|             1.0|             1.0|             1.0|                      1.0|                      1.0|                      1.0|                      1.0|                   1.0|                       1.0|                          0|                        0|[0.772861,0.11111...|\n",
            "+-------------+--------------+--------------+----------------+----------------+----------------+----------------+------------------+-----------------+------------------+------------------+----------------+---------------+----------------+----------------+----------------+----------------+-------------------------+-------------------------+-------------------------+-------------------------+----------------------+--------------------------+---------------------------+-------------------------+--------------------+\n",
            "only showing top 20 rows\n",
            "\n"
          ]
        }
      ]
    },
    {
      "cell_type": "code",
      "source": [
        "\n",
        "# Count the number of records in the filtered DataFrame\n",
        "num_records_0 = filtered_data_0.count()\n",
        "\n",
        "# Print the count\n",
        "print(\"Number of records where 'datesets_duplicates_match' is equal to zero:\", num_records_0)"
      ],
      "metadata": {
        "id": "k52NAga70LXA",
        "outputId": "28fde755-362a-4fe2-ada0-71b86d9b0d9c",
        "colab": {
          "base_uri": "https://localhost:8080/"
        }
      },
      "execution_count": 12,
      "outputs": [
        {
          "output_type": "stream",
          "name": "stdout",
          "text": [
            "Number of records where 'datesets_duplicates_match' is equal to zero: 22450\n"
          ]
        }
      ]
    },
    {
      "cell_type": "code",
      "source": [
        "# Filter the data where `datesets_subject_main_match` is equal to one\n",
        "filtered_data_1 = data.filter(col(\"datesets_duplicates_match\") == 1)\n",
        "\n",
        "# Show the filtered data\n",
        "filtered_data_1.show()\n"
      ],
      "metadata": {
        "colab": {
          "base_uri": "https://localhost:8080/"
        },
        "id": "2F2QHpKFWpkb",
        "outputId": "2fd28e6f-6bed-48ec-aa8d-292ccc75057e"
      },
      "execution_count": 13,
      "outputs": [
        {
          "output_type": "stream",
          "name": "stdout",
          "text": [
            "+-------------+--------------+--------------+----------------+----------------+----------------+----------------+------------------+-----------------+------------------+------------------+----------------+---------------+----------------+----------------+----------------+----------------+-------------------------+-------------------------+-------------------------+-------------------------+----------------------+--------------------------+---------------------------+-------------------------+--------------------+\n",
            "|num_instances|num_attributes|dimensionality|num_numeric_attr|pct_numeric_attr|num_nominal_attr|pct_nominal_attr|avg_nominal_values|sd_nominal_values|min_nominal_values|max_nominal_values|avg_numeric_mean|sd_numeric_mean|min_numeric_mean|max_numeric_mean|missing_attr_cnt|missing_attr_pct|missing_instances_max_cnt|missing_instances_max_pct|missing_instances_min_cnt|missing_instances_min_pct|missing_instances_mean|missing_instances_mean_pct|datesets_subject_main_match|datesets_duplicates_match|            features|\n",
            "+-------------+--------------+--------------+----------------+----------------+----------------+----------------+------------------+-----------------+------------------+------------------+----------------+---------------+----------------+----------------+----------------+----------------+-------------------------+-------------------------+-------------------------+-------------------------+----------------------+--------------------------+---------------------------+-------------------------+--------------------+\n",
            "|          0.0|           0.0|           0.0|             0.0|             0.0|             0.0|             0.0|               0.0|              0.0|               0.0|               0.0|       0.0119904|     0.00817033|        0.666667|             0.0|             0.0|             0.0|                      0.0|                      0.0|                      0.0|                      0.0|                   0.0|                       0.0|                          1|                        1|(23,[11,12,13],[0...|\n",
            "|          0.0|           0.0|           0.0|             0.0|             0.0|             0.0|             0.0|               0.0|              0.0|               0.0|               0.0|       0.0119904|     0.00817033|        0.666667|             0.0|             0.0|             0.0|                      0.0|                      0.0|                      0.0|                      0.0|                   0.0|                       0.0|                          1|                        1|(23,[11,12,13],[0...|\n",
            "|          0.0|           0.0|           0.0|             0.0|             0.0|             0.0|             0.0|               0.0|              0.0|               0.0|               0.0|       0.0024213|     0.00169685|             0.5|             0.0|             0.0|             0.0|                      0.0|                      0.0|                      0.0|                      0.0|                   0.0|                       0.0|                          1|                        1|(23,[11,12,13],[0...|\n",
            "|          0.0|           0.0|           0.0|             0.0|             0.0|             0.0|             0.0|               0.0|              0.0|               0.0|               0.0|             0.0|            0.0|             0.0|             0.0|             0.0|             0.0|                      0.0|                      0.0|                      0.0|                      0.0|                   0.0|                       0.0|                          1|                        1|          (23,[],[])|\n",
            "|          0.0|           0.0|           0.0|             0.0|             0.0|             0.0|             0.0|               0.0|              0.0|               0.0|               0.0|      0.00959229|     0.00648448|        0.333333|             0.0|             0.0|             0.0|                      0.0|                      0.0|                      0.0|                      0.0|                   0.0|                       0.0|                          1|                        1|(23,[11,12,13],[0...|\n",
            "|          0.0|           0.0|           0.0|             0.0|             0.0|             0.0|             0.0|          0.806452|              1.0|               0.0|          0.892857|             0.0|            0.0|             0.0|             0.0|             0.0|             0.0|                      0.0|                      0.0|                      0.0|                      0.0|                   0.0|                       0.0|                          1|                        1|(23,[7,8,10],[0.8...|\n",
            "|          0.0|           0.0|           0.0|             0.0|             0.0|             0.0|             0.0|               0.0|              0.0|               0.0|               0.0|        0.014354|      0.0097095|        0.666667|             0.0|             0.0|             0.0|                      0.0|                      0.0|                      0.0|                      0.0|                   0.0|                       0.0|                          1|                        1|(23,[11,12,13],[0...|\n",
            "|          0.0|           0.0|           0.0|             0.0|             0.0|             0.0|             0.0|               0.0|              0.0|               0.0|               0.0|      0.00239234|     0.00155186|             0.0|             0.0|             0.0|             0.0|                      0.0|                      0.0|                      0.0|                      0.0|                   0.0|                       0.0|                          1|                        1|(23,[11,12],[0.00...|\n",
            "|          0.0|           0.0|           0.0|             0.0|             0.0|             0.0|             0.0|               0.0|              0.0|               0.0|               0.0|      0.00239234|     0.00155186|             0.0|             0.0|             0.0|             0.0|                      0.0|                      0.0|                      0.0|                      0.0|                   0.0|                       0.0|                          1|                        1|(23,[11,12],[0.00...|\n",
            "|          0.0|           0.0|           0.0|             0.0|             0.0|             0.0|             0.0|               0.0|              0.0|               0.0|               0.0|       0.0119617|     0.00802627|        0.333333|             0.0|             0.0|             0.0|                      0.0|                      0.0|                      0.0|                      0.0|                   0.0|                       0.0|                          1|                        1|(23,[11,12,13],[0...|\n",
            "|          0.0|           0.0|           0.0|             0.0|             0.0|             0.0|             0.0|               0.0|              0.0|               0.0|               0.0|      0.00717701|     0.00473652|             0.0|             0.0|             0.0|             0.0|                      0.0|                      0.0|                      0.0|                      0.0|                   0.0|                       0.0|                          1|                        1|(23,[11,12],[0.00...|\n",
            "|     0.927894|     0.0263158|      0.929792|        0.027027|      7.30512E-4|             0.0|       0.0263158|               0.0|              0.0|               0.0|               0.0|        0.678764|       0.683206|             0.0|        0.687163|             0.0|             0.0|                      0.0|                      0.0|                      0.0|                      0.0|                   0.0|                       0.0|                          1|                        1|(23,[0,1,2,3,4,6,...|\n",
            "|          0.0|           0.0|           0.0|             0.0|             0.0|             0.0|             0.0|               0.0|              0.0|               0.0|               0.0|             0.0|            0.0|             0.0|             0.0|             0.0|             0.0|                      0.0|                      0.0|                      0.0|                      0.0|                   0.0|                       0.0|                          1|                        1|          (23,[],[])|\n",
            "|     0.598291|           0.0|      0.598291|             0.0|             0.0|             0.0|             0.0|               0.4|              0.0|               0.4|               0.4|             1.0|       0.492861|        0.922509|        0.831325|             0.0|             0.0|                      0.0|                      0.0|                      0.0|                      0.0|                   0.0|                       0.0|                          1|                        1|(23,[0,2,7,9,10,1...|\n",
            "|          0.0|           0.0|           0.0|             0.0|             0.0|             0.0|             0.0|               0.2|              0.0|               0.2|               0.2|             0.0|            0.0|             0.0|             0.0|             0.0|             0.0|                      0.0|                      0.0|                      0.0|                      0.0|                   0.0|                       0.0|                          1|                        1|(23,[7,9,10],[0.2...|\n",
            "|     0.713415|           0.0|      0.713415|             0.0|             0.0|             0.0|             0.0|               0.0|              0.0|               0.0|               0.0|             1.0|       0.134328|        0.876471|        0.915663|             0.0|             0.0|                      0.0|                      0.0|                      0.0|                      0.0|                   0.0|                       0.0|                          1|                        1|(23,[0,2,11,12,13...|\n",
            "|    0.0622578|           0.0|     0.0622579|             0.0|             0.0|             0.0|             0.0|          0.680244|          0.82386|               0.0|          0.864218|             0.0|            0.0|             0.0|             0.0|       0.0555556|       0.0555555|                 0.153282|                 0.205997|                0.0222222|                0.0830966|             0.0760644|                 0.0147232|                          1|                        1|(23,[0,2,7,8,10,1...|\n",
            "|    0.0166667|     0.0588235|     0.0745098|             0.0|       0.0588235|             1.0|             1.0|               1.0|              0.0|               1.0|               1.0|        0.996403|       0.997292|             0.0|        0.997305|             0.0|             0.0|                      0.0|                      0.0|                      0.0|                      0.0|                   0.0|                       0.0|                          1|                        1|(23,[0,1,2,4,5,6,...|\n",
            "|     0.720344|     0.0263158|      0.727703|        0.027027|      7.30512E-4|             0.0|       0.0263158|               0.0|              0.0|               0.0|               0.0|        0.919734|       0.925814|             0.0|        0.926687|             0.0|             0.0|                      0.0|                      0.0|                      0.0|                      0.0|                   0.0|                       0.0|                          1|                        1|(23,[0,1,2,3,4,6,...|\n",
            "|     0.742163|           0.0|      0.742163|             0.0|             0.0|             0.0|             0.0|               0.0|              0.0|               0.0|               0.0|        0.750134|       0.765823|             0.0|         0.76565|             0.0|             0.0|                      0.0|                      0.0|                      0.0|                      0.0|                   0.0|                       0.0|                          1|                        1|(23,[0,2,11,12,14...|\n",
            "+-------------+--------------+--------------+----------------+----------------+----------------+----------------+------------------+-----------------+------------------+------------------+----------------+---------------+----------------+----------------+----------------+----------------+-------------------------+-------------------------+-------------------------+-------------------------+----------------------+--------------------------+---------------------------+-------------------------+--------------------+\n",
            "only showing top 20 rows\n",
            "\n"
          ]
        }
      ]
    },
    {
      "cell_type": "code",
      "source": [
        "\n",
        "# Count the number of records in the filtered DataFrame\n",
        "num_records_1 = filtered_data_1.count()\n",
        "\n",
        "# Print the count\n",
        "print(\"Number of records where 'datesets_duplicates_match' is equal to one:\", num_records_1)"
      ],
      "metadata": {
        "id": "sB-UtDAU0RmM",
        "outputId": "f80d58b4-c9df-4f26-b855-a3b7cd76b18d",
        "colab": {
          "base_uri": "https://localhost:8080/"
        }
      },
      "execution_count": 14,
      "outputs": [
        {
          "output_type": "stream",
          "name": "stdout",
          "text": [
            "Number of records where 'datesets_duplicates_match' is equal to one: 128\n"
          ]
        }
      ]
    },
    {
      "cell_type": "code",
      "source": [
        "#Standard scaling the filtered datasets\n",
        "scale=StandardScaler(inputCol='features',outputCol='standardized')\n",
        "data_scale=scale.fit(filtered_data_0)\n",
        "data_scale_output_0=data_scale.transform(filtered_data_0)\n",
        "data_scale_output_0.show(2)"
      ],
      "metadata": {
        "id": "LAFw05YsC6Io",
        "colab": {
          "base_uri": "https://localhost:8080/"
        },
        "outputId": "18ea6523-bec5-4de5-d488-d66537f92ff1"
      },
      "execution_count": 15,
      "outputs": [
        {
          "output_type": "stream",
          "name": "stdout",
          "text": [
            "+-------------+--------------+--------------+----------------+----------------+----------------+----------------+------------------+-----------------+------------------+------------------+----------------+---------------+----------------+----------------+----------------+----------------+-------------------------+-------------------------+-------------------------+-------------------------+----------------------+--------------------------+---------------------------+-------------------------+--------------------+--------------------+\n",
            "|num_instances|num_attributes|dimensionality|num_numeric_attr|pct_numeric_attr|num_nominal_attr|pct_nominal_attr|avg_nominal_values|sd_nominal_values|min_nominal_values|max_nominal_values|avg_numeric_mean|sd_numeric_mean|min_numeric_mean|max_numeric_mean|missing_attr_cnt|missing_attr_pct|missing_instances_max_cnt|missing_instances_max_pct|missing_instances_min_cnt|missing_instances_min_pct|missing_instances_mean|missing_instances_mean_pct|datesets_subject_main_match|datesets_duplicates_match|            features|        standardized|\n",
            "+-------------+--------------+--------------+----------------+----------------+----------------+----------------+------------------+-----------------+------------------+------------------+----------------+---------------+----------------+----------------+----------------+----------------+-------------------------+-------------------------+-------------------------+-------------------------+----------------------+--------------------------+---------------------------+-------------------------+--------------------+--------------------+\n",
            "|     0.747015|           0.0|      0.747015|             1.0|             1.0|        0.833333|        0.833333|          0.992834|         0.993118|          0.333333|          0.984317|             1.0|            1.0|             0.0|             1.0|             0.8|             0.8|                 0.870968|                 0.967357|                     0.95|                  0.80236|              0.911111|                  0.977512|                          0|                        0|[0.747015,0.0,0.7...|[2.86206619500748...|\n",
            "|     0.996786|      0.976654|      0.862327|             1.0|             1.0|        0.666667|        0.992218|          0.870246|         0.838809|               0.0|          0.671875|             1.0|            1.0|             1.0|             1.0|        0.990476|        0.592063|                  0.99177|                  0.60947|                      0.0|                 0.996786|              0.987738|                   0.73788|                          0|                        0|[0.996786,0.97665...|[3.81902306413757...|\n",
            "+-------------+--------------+--------------+----------------+----------------+----------------+----------------+------------------+-----------------+------------------+------------------+----------------+---------------+----------------+----------------+----------------+----------------+-------------------------+-------------------------+-------------------------+-------------------------+----------------------+--------------------------+---------------------------+-------------------------+--------------------+--------------------+\n",
            "only showing top 2 rows\n",
            "\n"
          ]
        }
      ]
    },
    {
      "cell_type": "code",
      "source": [
        "#Standard scaling the filtered datasets\n",
        "scale=StandardScaler(inputCol='features',outputCol='standardized')\n",
        "data_scale=scale.fit(filtered_data_1)\n",
        "data_scale_output_1=data_scale.transform(filtered_data_1)\n",
        "data_scale_output_1.show(2)"
      ],
      "metadata": {
        "colab": {
          "base_uri": "https://localhost:8080/"
        },
        "id": "Pk0lLDtrcpx8",
        "outputId": "12b2413b-5ca3-406e-9af1-4d5244e4984f"
      },
      "execution_count": 16,
      "outputs": [
        {
          "output_type": "stream",
          "name": "stdout",
          "text": [
            "+-------------+--------------+--------------+----------------+----------------+----------------+----------------+------------------+-----------------+------------------+------------------+----------------+---------------+----------------+----------------+----------------+----------------+-------------------------+-------------------------+-------------------------+-------------------------+----------------------+--------------------------+---------------------------+-------------------------+--------------------+--------------------+\n",
            "|num_instances|num_attributes|dimensionality|num_numeric_attr|pct_numeric_attr|num_nominal_attr|pct_nominal_attr|avg_nominal_values|sd_nominal_values|min_nominal_values|max_nominal_values|avg_numeric_mean|sd_numeric_mean|min_numeric_mean|max_numeric_mean|missing_attr_cnt|missing_attr_pct|missing_instances_max_cnt|missing_instances_max_pct|missing_instances_min_cnt|missing_instances_min_pct|missing_instances_mean|missing_instances_mean_pct|datesets_subject_main_match|datesets_duplicates_match|            features|        standardized|\n",
            "+-------------+--------------+--------------+----------------+----------------+----------------+----------------+------------------+-----------------+------------------+------------------+----------------+---------------+----------------+----------------+----------------+----------------+-------------------------+-------------------------+-------------------------+-------------------------+----------------------+--------------------------+---------------------------+-------------------------+--------------------+--------------------+\n",
            "|          0.0|           0.0|           0.0|             0.0|             0.0|             0.0|             0.0|               0.0|              0.0|               0.0|               0.0|       0.0119904|     0.00817033|        0.666667|             0.0|             0.0|             0.0|                      0.0|                      0.0|                      0.0|                      0.0|                   0.0|                       0.0|                          1|                        1|(23,[11,12,13],[0...|(23,[11,12,13],[0...|\n",
            "|          0.0|           0.0|           0.0|             0.0|             0.0|             0.0|             0.0|               0.0|              0.0|               0.0|               0.0|       0.0119904|     0.00817033|        0.666667|             0.0|             0.0|             0.0|                      0.0|                      0.0|                      0.0|                      0.0|                   0.0|                       0.0|                          1|                        1|(23,[11,12,13],[0...|(23,[11,12,13],[0...|\n",
            "+-------------+--------------+--------------+----------------+----------------+----------------+----------------+------------------+-----------------+------------------+------------------+----------------+---------------+----------------+----------------+----------------+----------------+-------------------------+-------------------------+-------------------------+-------------------------+----------------------+--------------------------+---------------------------+-------------------------+--------------------+--------------------+\n",
            "only showing top 2 rows\n",
            "\n"
          ]
        }
      ]
    },
    {
      "cell_type": "markdown",
      "source": [
        "## Clustering Dataset Using Kmeans\n",
        "Choice of K based on Elbow Method"
      ],
      "metadata": {
        "id": "XIDZohY8Ysb5"
      }
    },
    {
      "cell_type": "code",
      "source": [
        "# Create an empty list to store the SSE (Sum of Squared Errors) values\n",
        "sse = []\n",
        "\n",
        "# Define the range of cluster numbers to evaluate\n",
        "k_values = range(2, 11)  # Range from 2 to 10 clusters\n",
        "\n",
        "# Iterate over each cluster number\n",
        "for k in k_values:\n",
        "    # Create a KMeans instance with the current cluster number\n",
        "    kmeans = KMeans(featuresCol='standardized', k=k)\n",
        "\n",
        "    # Fit the KMeans model to the data\n",
        "    model = kmeans.fit(data_scale_output_0)\n",
        "\n",
        "    # Make predictions on the data\n",
        "    predictions = model.transform(data_scale_output_0)\n",
        "\n",
        "    # Evaluate the clustering performance using the SSE metric\n",
        "    evaluator = ClusteringEvaluator()\n",
        "    sse_value = evaluator.evaluate(predictions)\n",
        "    sse.append(sse_value)\n",
        "\n",
        "# Plot the SSE values against the number of clusters\n",
        "plt.plot(k_values, sse, 'bo-')\n",
        "plt.xlabel('Number of Clusters (k)')\n",
        "plt.ylabel('Sum of Squared Errors (SSE)')\n",
        "plt.title('Elbow Method')\n",
        "plt.show()\n",
        "\n",
        "\n"
      ],
      "metadata": {
        "colab": {
          "base_uri": "https://localhost:8080/",
          "height": 472
        },
        "id": "GOfaSJBThBew",
        "outputId": "702ea701-9622-4bd8-efff-39be283beeb5"
      },
      "execution_count": 17,
      "outputs": [
        {
          "output_type": "display_data",
          "data": {
            "text/plain": [
              "<Figure size 640x480 with 1 Axes>"
            ],
            "image/png": "[encoded data removed]"
          },
          "metadata": {}
        }
      ]
    },
    {
      "cell_type": "markdown",
      "source": [
        "## Clustering Dataset Using Kmeans\n",
        "Choice of K based on Silhouette Score Cost Function\n"
      ],
      "metadata": {
        "id": "8LcOTw2yYy_a"
      }
    },
    {
      "cell_type": "code",
      "source": [
        "silhouette_score=[]\n",
        "evaluator = ClusteringEvaluator(predictionCol='prediction', featuresCol='standardized', \\\n",
        "                                metricName='silhouette', distanceMeasure='squaredEuclidean')\n",
        "for i in range(2,10):\n",
        "\n",
        "    KMeans_algo=KMeans(featuresCol='standardized', k=i)\n",
        "\n",
        "    KMeans_fit=KMeans_algo.fit(data_scale_output_0)\n",
        "\n",
        "    output=KMeans_fit.transform(data_scale_output_0)\n",
        "\n",
        "    score=evaluator.evaluate(output)\n",
        "\n",
        "    silhouette_score.append(score)\n",
        "\n",
        "    print(\"Silhouette Score:\",score)\n",
        "\n",
        "\n"
      ],
      "metadata": {
        "id": "QKyviiSsAXWS",
        "colab": {
          "base_uri": "https://localhost:8080/"
        },
        "outputId": "3157a323-1593-4b44-a1aa-5dcb43c0db33"
      },
      "execution_count": 18,
      "outputs": [
        {
          "output_type": "stream",
          "name": "stdout",
          "text": [
            "Silhouette Score: 0.5310447841518048\n",
            "Silhouette Score: 0.46344936409184945\n",
            "Silhouette Score: 0.3495679688390154\n",
            "Silhouette Score: 0.29861738219094414\n",
            "Silhouette Score: 0.23908615830617602\n",
            "Silhouette Score: 0.2590173187121237\n",
            "Silhouette Score: 0.2258713167539847\n",
            "Silhouette Score: 0.22835671628912627\n"
          ]
        }
      ]
    },
    {
      "cell_type": "code",
      "execution_count": 19,
      "metadata": {
        "id": "Xn33j2GN-CXm",
        "colab": {
          "base_uri": "https://localhost:8080/",
          "height": 559
        },
        "outputId": "b5af9f1a-48c6-4ee5-f28e-c13b6f2c86f4"
      },
      "outputs": [
        {
          "output_type": "execute_result",
          "data": {
            "text/plain": [
              "Text(0, 0.5, 'cost')"
            ]
          },
          "metadata": {},
          "execution_count": 19
        },
        {
          "output_type": "display_data",
          "data": {
            "text/plain": [
              "<Figure size 800x600 with 1 Axes>"
            ],
            "image/png": "[encoded data removed]"
          },
          "metadata": {}
        }
      ],
      "source": [
        "#Visualizing the silhouette scores in a plot\n",
        "import matplotlib.pyplot as plt\n",
        "fig, ax = plt.subplots(1,1, figsize =(8,6))\n",
        "ax.plot(range(2,10),silhouette_score)\n",
        "ax.set_xlabel(\"k\")\n",
        "ax.set_ylabel(\"cost\")"
      ]
    },
    {
      "cell_type": "code",
      "source": [
        "# Perform cluster sampling from the different clusters\n",
        "sampling_ratio = 0.018058  # Define the sampling ratio, e.g., 80% of the data\n",
        "seed = 42  # Set a seed for reproducibility\n",
        "\n",
        "# Get the cluster labels from the output DataFrame\n",
        "cluster_labels = output.select(\"prediction\").distinct().rdd.flatMap(lambda x: x).collect()\n",
        "\n",
        "# Perform sampling from each cluster\n",
        "sampled_data = None\n",
        "\n",
        "for label in cluster_labels:\n",
        "    # Filter the data based on the cluster label\n",
        "    cluster_data = output.filter(col(\"prediction\") == label)\n",
        "\n",
        "    # Perform cluster sampling on the cluster data\n",
        "    cluster_sample = cluster_data.sample(False, sampling_ratio, seed)\n",
        "\n",
        "    # Union the sampled data with the previous clusters' sampled data\n",
        "    if sampled_data is None:\n",
        "        sampled_data = cluster_sample\n",
        "    else:\n",
        "        sampled_data = sampled_data.union(cluster_sample)\n",
        "\n",
        "# Show the sampled data\n",
        "sampled_data.show()\n"
      ],
      "metadata": {
        "id": "fiwKhDA7GvAC",
        "colab": {
          "base_uri": "https://localhost:8080/"
        },
        "outputId": "9b439d15-f0bd-4b8f-f805-6dc39b0ace97"
      },
      "execution_count": 20,
      "outputs": [
        {
          "output_type": "stream",
          "name": "stdout",
          "text": [
            "+-------------+--------------+--------------+----------------+----------------+----------------+----------------+------------------+-----------------+------------------+------------------+----------------+---------------+----------------+----------------+----------------+----------------+-------------------------+-------------------------+-------------------------+-------------------------+----------------------+--------------------------+---------------------------+-------------------------+--------------------+--------------------+----------+\n",
            "|num_instances|num_attributes|dimensionality|num_numeric_attr|pct_numeric_attr|num_nominal_attr|pct_nominal_attr|avg_nominal_values|sd_nominal_values|min_nominal_values|max_nominal_values|avg_numeric_mean|sd_numeric_mean|min_numeric_mean|max_numeric_mean|missing_attr_cnt|missing_attr_pct|missing_instances_max_cnt|missing_instances_max_pct|missing_instances_min_cnt|missing_instances_min_pct|missing_instances_mean|missing_instances_mean_pct|datesets_subject_main_match|datesets_duplicates_match|            features|        standardized|prediction|\n",
            "+-------------+--------------+--------------+----------------+----------------+----------------+----------------+------------------+-----------------+------------------+------------------+----------------+---------------+----------------+----------------+----------------+----------------+-------------------------+-------------------------+-------------------------+-------------------------+----------------------+--------------------------+---------------------------+-------------------------+--------------------+--------------------+----------+\n",
            "|     0.997861|      0.588235|      0.999119|        0.333333|         0.72549|        0.733333|        0.352381|          0.614035|          0.86481|              0.25|          0.722222|        0.984754|       0.992464|        0.973333|        0.987685|             0.0|             0.0|                      0.0|                      0.0|                      0.0|                      0.0|                   0.0|                       0.0|                          0|                        0|[0.997861,0.58823...|[3.82314175139236...|         1|\n",
            "|     0.909681|       0.90411|      0.991339|        0.958333|        0.565476|            0.75|        0.976027|          0.789474|              1.0|               0.5|          0.888889|        0.987635|       0.999115|             1.0|        0.999508|             0.0|             0.0|                      0.0|                      0.0|                      0.0|                      0.0|                   0.0|                       0.0|                          0|                        0|[0.909681,0.90411...|[3.48529445639057...|         1|\n",
            "|     0.998325|      0.923077|      0.999871|        0.966667|        0.566667|            0.75|        0.980769|          0.578947|              1.0|               0.0|          0.777778|        0.572539|       0.962258|             1.0|        0.939759|             0.0|             0.0|                      0.0|                      0.0|                      0.0|                      0.0|                   0.0|                       0.0|                          0|                        0|(23,[0,1,2,3,4,5,...|(23,[0,1,2,3,4,5,...|         1|\n",
            "|     0.949725|      0.111111|       0.94344|             0.0|        0.111111|             0.5|          0.4375|          0.806452|              1.0|               0.0|          0.892857|        0.959184|       0.914188|             1.0|        0.933333|             0.0|             0.0|                      0.0|                      0.0|                      0.0|                      0.0|                   0.0|                       0.0|                          0|                        0|(23,[0,1,2,4,5,6,...|(23,[0,1,2,4,5,6,...|         1|\n",
            "|     0.968877|           0.0|      0.968877|           0.125|           0.125|             0.5|             0.5|          0.870968|              1.0|          0.333333|          0.928571|        0.999201|       0.998851|             1.0|        0.998893|             0.0|             0.0|                      0.0|                      0.0|                      0.0|                      0.0|                   0.0|                       0.0|                          0|                        0|(23,[0,2,3,4,5,6,...|(23,[0,2,3,4,5,6,...|         1|\n",
            "|     0.947331|      0.999596|      0.999979|        0.992993|        0.942361|             0.5|        0.999798|          0.806452|              1.0|               0.0|          0.892857|        0.950438|       0.574053|             1.0|             0.9|             0.0|             0.0|                      0.0|                      0.0|                      0.0|                      0.0|                   0.0|                       0.0|                          0|                        0|(23,[0,1,2,3,4,5,...|(23,[0,1,2,3,4,5,...|         1|\n",
            "|         0.52|          0.25|          0.64|             1.0|             1.0|        0.833333|           0.875|          0.940972|              1.0|          0.958333|          0.895833|             1.0|            1.0|             1.0|             1.0|             0.0|             0.0|                      0.0|                      0.0|                      0.0|                      0.0|                   0.0|                       0.0|                          0|                        0|[0.52,0.25,0.64,1...|[1.99229523022147...|         1|\n",
            "|     0.677419|      0.142857|      0.623656|             1.0|             1.0|        0.833333|        0.857143|         0.0555556|              1.0|          0.333333|               0.4|             1.0|            1.0|             1.0|             1.0|             0.0|             0.0|                      0.0|                      0.0|                      0.0|                      0.0|                   0.0|                       0.0|                          0|                        0|[0.677419,0.14285...|[2.59542046646423...|         1|\n",
            "|     0.995576|        0.9983|      0.999992|        0.992993|         0.75741|             0.9|         0.99983|          0.565217|              1.0|               0.0|          0.833333|        0.703475|       0.785689|             1.0|        0.649046|             0.0|             0.0|                      0.0|                      0.0|                      0.0|                      0.0|                   0.0|                       0.0|                          0|                        0|(23,[0,1,2,3,4,5,...|(23,[0,1,2,3,4,5,...|         1|\n",
            "|     0.994573|      0.483871|      0.989484|             1.0|             1.0|             1.0|             1.0|               1.0|              1.0|               1.0|               1.0|             1.0|            1.0|             1.0|             1.0|             0.0|             0.0|                      0.0|                      0.0|                      0.0|                      0.0|                   0.0|                       0.0|                          0|                        0|[0.994573,0.48387...|[3.81054431539819...|         1|\n",
            "|        0.968|      0.461538|      0.940571|        0.857143|        0.923077|             1.0|             1.0|               1.0|              1.0|               1.0|               1.0|        0.999952|            1.0|        0.960784|         0.99999|             0.0|             0.0|                      0.0|                      0.0|                      0.0|                      0.0|                   0.0|                       0.0|                          0|                        0|[0.968,0.461538,0...|[3.70873419779689...|         1|\n",
            "|     0.999642|      0.529412|      0.999832|          0.6875|        0.335938|        0.666667|        0.843137|          0.887006|              1.0|          0.932203|          0.813559|        0.109397|       0.999328|        0.999963|        0.942679|             0.0|             0.0|                      0.0|                      0.0|                      0.0|                      0.0|                   0.0|                       0.0|                          0|                        0|[0.999642,0.52941...|[3.82996536255587...|         1|\n",
            "|     0.912807|      0.930605|      0.204121|        0.989305|         0.84588|        0.969697|        0.997897|          0.580808|              1.0|          0.833333|              0.25|             1.0|       0.998907|             1.0|        0.999208|             0.0|             0.0|                      0.0|                      0.0|                      0.0|                      0.0|                   0.0|                       0.0|                          0|                        0|[0.912807,0.93060...|[3.49727121579379...|         1|\n",
            "|     0.785013|      0.769231|      0.950388|        0.142857|        0.802198|        0.939394|        0.737374|          0.161616|              1.0|          0.666667|             0.625|        0.999181|       0.999089|             1.0|        0.999208|             0.0|             0.0|                      0.0|                      0.0|                      0.0|                      0.0|                   0.0|                       0.0|                          0|                        0|[0.785013,0.76923...|[3.00764933761894...|         1|\n",
            "|     0.982274|      0.902135|      0.998265|        0.982175|        0.817858|        0.977778|        0.997825|          0.648148|              1.0|          0.666667|          0.142857|             1.0|       0.999493|             1.0|        0.999662|             0.0|             0.0|                      0.0|                      0.0|                      0.0|                      0.0|                   0.0|                       0.0|                          0|                        0|[0.982274,0.90213...|[3.76342270186647...|         1|\n",
            "|       0.9805|      0.935065|        0.6997|        0.960526|        0.392105|             0.5|        0.967532|          0.512195|              1.0|               0.8|           0.74359|             1.0|            1.0|             1.0|             1.0|             0.0|             0.0|                      0.0|                      0.0|                      0.0|                      0.0|                   0.0|                       0.0|                          0|                        0|[0.9805,0.935065,...|[3.75662591006183...|         1|\n",
            "|     0.955049|           0.0|      0.955049|             1.0|             1.0|             0.2|             0.2|             0.998|         0.999609|               0.0|          0.999468|             1.0|            1.0|             1.0|             1.0|             0.0|             0.0|                      0.0|                      0.0|                      0.0|                      0.0|                   0.0|                       0.0|                          0|                        0|(23,[0,2,3,4,5,6,...|(23,[0,2,3,4,5,6,...|         1|\n",
            "|     0.987793|      0.333333|      0.981689|             1.0|             1.0|             1.0|             1.0|               1.0|              1.0|               1.0|               1.0|             1.0|            1.0|             0.0|             1.0|             0.0|             0.0|                      0.0|                      0.0|                      0.0|                      0.0|                   0.0|                       0.0|                          0|                        0|(23,[0,1,2,3,4,5,...|(23,[0,1,2,3,4,5,...|         1|\n",
            "|     0.855805|        0.3125|      0.900866|        0.692308|        0.552448|        0.571429|        0.705357|          0.900332|         0.960416|               0.0|          0.922078|        0.462983|       0.785308|        0.888889|         0.76875|             0.0|             0.0|                      0.0|                      0.0|                      0.0|                      0.0|                   0.0|                       0.0|                          0|                        0|(23,[0,1,2,3,4,5,...|(23,[0,1,2,3,4,5,...|         1|\n",
            "|     0.846021|      0.988671|      0.926428|        0.995876|        0.635989|        0.857143|        0.998382|               0.3|              1.0|               0.0|          0.666667|        0.643491|       0.749038|        0.888889|        0.735714|             0.0|             0.0|                      0.0|                      0.0|                      0.0|                      0.0|                   0.0|                       0.0|                          0|                        0|(23,[0,1,2,3,4,5,...|(23,[0,1,2,3,4,5,...|         1|\n",
            "+-------------+--------------+--------------+----------------+----------------+----------------+----------------+------------------+-----------------+------------------+------------------+----------------+---------------+----------------+----------------+----------------+----------------+-------------------------+-------------------------+-------------------------+-------------------------+----------------------+--------------------------+---------------------------+-------------------------+--------------------+--------------------+----------+\n",
            "only showing top 20 rows\n",
            "\n"
          ]
        }
      ]
    },
    {
      "cell_type": "code",
      "source": [
        "rows = sampled_data.count()\n",
        "print(f\"DataFrame Rows count : {rows}\")\n"
      ],
      "metadata": {
        "id": "E1CRsWCcPej7",
        "colab": {
          "base_uri": "https://localhost:8080/"
        },
        "outputId": "bb2ceca4-2b73-469a-82a3-4137de4eb867"
      },
      "execution_count": 21,
      "outputs": [
        {
          "output_type": "stream",
          "name": "stdout",
          "text": [
            "DataFrame Rows count : 425\n"
          ]
        }
      ]
    },
    {
      "cell_type": "code",
      "source": [
        "filtered_data_1.dtypes"
      ],
      "metadata": {
        "id": "OBJtj03Hl-AZ",
        "colab": {
          "base_uri": "https://localhost:8080/"
        },
        "outputId": "64b14de8-87da-40dc-842d-278e95905a81"
      },
      "execution_count": 22,
      "outputs": [
        {
          "output_type": "execute_result",
          "data": {
            "text/plain": [
              "[('num_instances', 'double'),\n",
              " ('num_attributes', 'double'),\n",
              " ('dimensionality', 'double'),\n",
              " ('num_numeric_attr', 'double'),\n",
              " ('pct_numeric_attr', 'double'),\n",
              " ('num_nominal_attr', 'double'),\n",
              " ('pct_nominal_attr', 'double'),\n",
              " ('avg_nominal_values', 'double'),\n",
              " ('sd_nominal_values', 'double'),\n",
              " ('min_nominal_values', 'double'),\n",
              " ('max_nominal_values', 'double'),\n",
              " ('avg_numeric_mean', 'double'),\n",
              " ('sd_numeric_mean', 'double'),\n",
              " ('min_numeric_mean', 'double'),\n",
              " ('max_numeric_mean', 'double'),\n",
              " ('missing_attr_cnt', 'double'),\n",
              " ('missing_attr_pct', 'double'),\n",
              " ('missing_instances_max_cnt', 'double'),\n",
              " ('missing_instances_max_pct', 'double'),\n",
              " ('missing_instances_min_cnt', 'double'),\n",
              " ('missing_instances_min_pct', 'double'),\n",
              " ('missing_instances_mean', 'double'),\n",
              " ('missing_instances_mean_pct', 'double'),\n",
              " ('datesets_subject_main_match', 'int'),\n",
              " ('datesets_duplicates_match', 'int'),\n",
              " ('features', 'vector')]"
            ]
          },
          "metadata": {},
          "execution_count": 22
        }
      ]
    },
    {
      "cell_type": "code",
      "source": [
        "sampled_data.dtypes"
      ],
      "metadata": {
        "id": "Qi6opUlAlpWX",
        "colab": {
          "base_uri": "https://localhost:8080/"
        },
        "outputId": "aa07ec78-5aba-4638-ff53-55c8e4ad715f"
      },
      "execution_count": 23,
      "outputs": [
        {
          "output_type": "execute_result",
          "data": {
            "text/plain": [
              "[('num_instances', 'double'),\n",
              " ('num_attributes', 'double'),\n",
              " ('dimensionality', 'double'),\n",
              " ('num_numeric_attr', 'double'),\n",
              " ('pct_numeric_attr', 'double'),\n",
              " ('num_nominal_attr', 'double'),\n",
              " ('pct_nominal_attr', 'double'),\n",
              " ('avg_nominal_values', 'double'),\n",
              " ('sd_nominal_values', 'double'),\n",
              " ('min_nominal_values', 'double'),\n",
              " ('max_nominal_values', 'double'),\n",
              " ('avg_numeric_mean', 'double'),\n",
              " ('sd_numeric_mean', 'double'),\n",
              " ('min_numeric_mean', 'double'),\n",
              " ('max_numeric_mean', 'double'),\n",
              " ('missing_attr_cnt', 'double'),\n",
              " ('missing_attr_pct', 'double'),\n",
              " ('missing_instances_max_cnt', 'double'),\n",
              " ('missing_instances_max_pct', 'double'),\n",
              " ('missing_instances_min_cnt', 'double'),\n",
              " ('missing_instances_min_pct', 'double'),\n",
              " ('missing_instances_mean', 'double'),\n",
              " ('missing_instances_mean_pct', 'double'),\n",
              " ('datesets_subject_main_match', 'int'),\n",
              " ('datesets_duplicates_match', 'int'),\n",
              " ('features', 'vector'),\n",
              " ('standardized', 'vector'),\n",
              " ('prediction', 'int')]"
            ]
          },
          "metadata": {},
          "execution_count": 23
        }
      ]
    },
    {
      "cell_type": "code",
      "source": [
        "sampled_data=sampled_data.drop(\"standardized\",\"prediction\")\n",
        "sampled_data\n"
      ],
      "metadata": {
        "id": "MAj_DtBEmIHY",
        "colab": {
          "base_uri": "https://localhost:8080/",
          "height": 545
        },
        "outputId": "d44d68d6-26af-4392-ea15-0686cf6f24db"
      },
      "execution_count": 24,
      "outputs": [
        {
          "output_type": "execute_result",
          "data": {
            "text/plain": [
              "+-------------+--------------+--------------+----------------+----------------+----------------+----------------+------------------+-----------------+------------------+------------------+----------------+---------------+----------------+----------------+----------------+----------------+-------------------------+-------------------------+-------------------------+-------------------------+----------------------+--------------------------+---------------------------+-------------------------+--------------------+\n",
              "|num_instances|num_attributes|dimensionality|num_numeric_attr|pct_numeric_attr|num_nominal_attr|pct_nominal_attr|avg_nominal_values|sd_nominal_values|min_nominal_values|max_nominal_values|avg_numeric_mean|sd_numeric_mean|min_numeric_mean|max_numeric_mean|missing_attr_cnt|missing_attr_pct|missing_instances_max_cnt|missing_instances_max_pct|missing_instances_min_cnt|missing_instances_min_pct|missing_instances_mean|missing_instances_mean_pct|datesets_subject_main_match|datesets_duplicates_match|            features|\n",
              "+-------------+--------------+--------------+----------------+----------------+----------------+----------------+------------------+-----------------+------------------+------------------+----------------+---------------+----------------+----------------+----------------+----------------+-------------------------+-------------------------+-------------------------+-------------------------+----------------------+--------------------------+---------------------------+-------------------------+--------------------+\n",
              "|     0.997861|      0.588235|      0.999119|        0.333333|         0.72549|        0.733333|        0.352381|          0.614035|          0.86481|              0.25|          0.722222|        0.984754|       0.992464|        0.973333|        0.987685|             0.0|             0.0|                      0.0|                      0.0|                      0.0|                      0.0|                   0.0|                       0.0|                          0|                        0|[0.997861,0.58823...|\n",
              "|     0.909681|       0.90411|      0.991339|        0.958333|        0.565476|            0.75|        0.976027|          0.789474|              1.0|               0.5|          0.888889|        0.987635|       0.999115|             1.0|        0.999508|             0.0|             0.0|                      0.0|                      0.0|                      0.0|                      0.0|                   0.0|                       0.0|                          0|                        0|[0.909681,0.90411...|\n",
              "|     0.998325|      0.923077|      0.999871|        0.966667|        0.566667|            0.75|        0.980769|          0.578947|              1.0|               0.0|          0.777778|        0.572539|       0.962258|             1.0|        0.939759|             0.0|             0.0|                      0.0|                      0.0|                      0.0|                      0.0|                   0.0|                       0.0|                          0|                        0|(23,[0,1,2,3,4,5,...|\n",
              "|     0.949725|      0.111111|       0.94344|             0.0|        0.111111|             0.5|          0.4375|          0.806452|              1.0|               0.0|          0.892857|        0.959184|       0.914188|             1.0|        0.933333|             0.0|             0.0|                      0.0|                      0.0|                      0.0|                      0.0|                   0.0|                       0.0|                          0|                        0|(23,[0,1,2,4,5,6,...|\n",
              "|     0.968877|           0.0|      0.968877|           0.125|           0.125|             0.5|             0.5|          0.870968|              1.0|          0.333333|          0.928571|        0.999201|       0.998851|             1.0|        0.998893|             0.0|             0.0|                      0.0|                      0.0|                      0.0|                      0.0|                   0.0|                       0.0|                          0|                        0|(23,[0,2,3,4,5,6,...|\n",
              "|     0.947331|      0.999596|      0.999979|        0.992993|        0.942361|             0.5|        0.999798|          0.806452|              1.0|               0.0|          0.892857|        0.950438|       0.574053|             1.0|             0.9|             0.0|             0.0|                      0.0|                      0.0|                      0.0|                      0.0|                   0.0|                       0.0|                          0|                        0|(23,[0,1,2,3,4,5,...|\n",
              "|         0.52|          0.25|          0.64|             1.0|             1.0|        0.833333|           0.875|          0.940972|              1.0|          0.958333|          0.895833|             1.0|            1.0|             1.0|             1.0|             0.0|             0.0|                      0.0|                      0.0|                      0.0|                      0.0|                   0.0|                       0.0|                          0|                        0|[0.52,0.25,0.64,1...|\n",
              "|     0.677419|      0.142857|      0.623656|             1.0|             1.0|        0.833333|        0.857143|         0.0555556|              1.0|          0.333333|               0.4|             1.0|            1.0|             1.0|             1.0|             0.0|             0.0|                      0.0|                      0.0|                      0.0|                      0.0|                   0.0|                       0.0|                          0|                        0|[0.677419,0.14285...|\n",
              "|     0.995576|        0.9983|      0.999992|        0.992993|         0.75741|             0.9|         0.99983|          0.565217|              1.0|               0.0|          0.833333|        0.703475|       0.785689|             1.0|        0.649046|             0.0|             0.0|                      0.0|                      0.0|                      0.0|                      0.0|                   0.0|                       0.0|                          0|                        0|(23,[0,1,2,3,4,5,...|\n",
              "|     0.994573|      0.483871|      0.989484|             1.0|             1.0|             1.0|             1.0|               1.0|              1.0|               1.0|               1.0|             1.0|            1.0|             1.0|             1.0|             0.0|             0.0|                      0.0|                      0.0|                      0.0|                      0.0|                   0.0|                       0.0|                          0|                        0|[0.994573,0.48387...|\n",
              "|        0.968|      0.461538|      0.940571|        0.857143|        0.923077|             1.0|             1.0|               1.0|              1.0|               1.0|               1.0|        0.999952|            1.0|        0.960784|         0.99999|             0.0|             0.0|                      0.0|                      0.0|                      0.0|                      0.0|                   0.0|                       0.0|                          0|                        0|[0.968,0.461538,0...|\n",
              "|     0.999642|      0.529412|      0.999832|          0.6875|        0.335938|        0.666667|        0.843137|          0.887006|              1.0|          0.932203|          0.813559|        0.109397|       0.999328|        0.999963|        0.942679|             0.0|             0.0|                      0.0|                      0.0|                      0.0|                      0.0|                   0.0|                       0.0|                          0|                        0|[0.999642,0.52941...|\n",
              "|     0.912807|      0.930605|      0.204121|        0.989305|         0.84588|        0.969697|        0.997897|          0.580808|              1.0|          0.833333|              0.25|             1.0|       0.998907|             1.0|        0.999208|             0.0|             0.0|                      0.0|                      0.0|                      0.0|                      0.0|                   0.0|                       0.0|                          0|                        0|[0.912807,0.93060...|\n",
              "|     0.785013|      0.769231|      0.950388|        0.142857|        0.802198|        0.939394|        0.737374|          0.161616|              1.0|          0.666667|             0.625|        0.999181|       0.999089|             1.0|        0.999208|             0.0|             0.0|                      0.0|                      0.0|                      0.0|                      0.0|                   0.0|                       0.0|                          0|                        0|[0.785013,0.76923...|\n",
              "|     0.982274|      0.902135|      0.998265|        0.982175|        0.817858|        0.977778|        0.997825|          0.648148|              1.0|          0.666667|          0.142857|             1.0|       0.999493|             1.0|        0.999662|             0.0|             0.0|                      0.0|                      0.0|                      0.0|                      0.0|                   0.0|                       0.0|                          0|                        0|[0.982274,0.90213...|\n",
              "|       0.9805|      0.935065|        0.6997|        0.960526|        0.392105|             0.5|        0.967532|          0.512195|              1.0|               0.8|           0.74359|             1.0|            1.0|             1.0|             1.0|             0.0|             0.0|                      0.0|                      0.0|                      0.0|                      0.0|                   0.0|                       0.0|                          0|                        0|[0.9805,0.935065,...|\n",
              "|     0.955049|           0.0|      0.955049|             1.0|             1.0|             0.2|             0.2|             0.998|         0.999609|               0.0|          0.999468|             1.0|            1.0|             1.0|             1.0|             0.0|             0.0|                      0.0|                      0.0|                      0.0|                      0.0|                   0.0|                       0.0|                          0|                        0|(23,[0,2,3,4,5,6,...|\n",
              "|     0.987793|      0.333333|      0.981689|             1.0|             1.0|             1.0|             1.0|               1.0|              1.0|               1.0|               1.0|             1.0|            1.0|             0.0|             1.0|             0.0|             0.0|                      0.0|                      0.0|                      0.0|                      0.0|                   0.0|                       0.0|                          0|                        0|(23,[0,1,2,3,4,5,...|\n",
              "|     0.855805|        0.3125|      0.900866|        0.692308|        0.552448|        0.571429|        0.705357|          0.900332|         0.960416|               0.0|          0.922078|        0.462983|       0.785308|        0.888889|         0.76875|             0.0|             0.0|                      0.0|                      0.0|                      0.0|                      0.0|                   0.0|                       0.0|                          0|                        0|(23,[0,1,2,3,4,5,...|\n",
              "|     0.846021|      0.988671|      0.926428|        0.995876|        0.635989|        0.857143|        0.998382|               0.3|              1.0|               0.0|          0.666667|        0.643491|       0.749038|        0.888889|        0.735714|             0.0|             0.0|                      0.0|                      0.0|                      0.0|                      0.0|                   0.0|                       0.0|                          0|                        0|(23,[0,1,2,3,4,5,...|\n",
              "+-------------+--------------+--------------+----------------+----------------+----------------+----------------+------------------+-----------------+------------------+------------------+----------------+---------------+----------------+----------------+----------------+----------------+-------------------------+-------------------------+-------------------------+-------------------------+----------------------+--------------------------+---------------------------+-------------------------+--------------------+\n",
              "only showing top 20 rows"
            ],
            "text/html": [
              "<table border='1'>\n",
              "<tr><th>num_instances</th><th>num_attributes</th><th>dimensionality</th><th>num_numeric_attr</th><th>pct_numeric_attr</th><th>num_nominal_attr</th><th>pct_nominal_attr</th><th>avg_nominal_values</th><th>sd_nominal_values</th><th>min_nominal_values</th><th>max_nominal_values</th><th>avg_numeric_mean</th><th>sd_numeric_mean</th><th>min_numeric_mean</th><th>max_numeric_mean</th><th>missing_attr_cnt</th><th>missing_attr_pct</th><th>missing_instances_max_cnt</th><th>missing_instances_max_pct</th><th>missing_instances_min_cnt</th><th>missing_instances_min_pct</th><th>missing_instances_mean</th><th>missing_instances_mean_pct</th><th>datesets_subject_main_match</th><th>datesets_duplicates_match</th><th>features</th></tr>\n",
              "<tr><td>0.997861</td><td>0.588235</td><td>0.999119</td><td>0.333333</td><td>0.72549</td><td>0.733333</td><td>0.352381</td><td>0.614035</td><td>0.86481</td><td>0.25</td><td>0.722222</td><td>0.984754</td><td>0.992464</td><td>0.973333</td><td>0.987685</td><td>0.0</td><td>0.0</td><td>0.0</td><td>0.0</td><td>0.0</td><td>0.0</td><td>0.0</td><td>0.0</td><td>0</td><td>0</td><td>[0.997861,0.58823...</td></tr>\n",
              "<tr><td>0.909681</td><td>0.90411</td><td>0.991339</td><td>0.958333</td><td>0.565476</td><td>0.75</td><td>0.976027</td><td>0.789474</td><td>1.0</td><td>0.5</td><td>0.888889</td><td>0.987635</td><td>0.999115</td><td>1.0</td><td>0.999508</td><td>0.0</td><td>0.0</td><td>0.0</td><td>0.0</td><td>0.0</td><td>0.0</td><td>0.0</td><td>0.0</td><td>0</td><td>0</td><td>[0.909681,0.90411...</td></tr>\n",
              "<tr><td>0.998325</td><td>0.923077</td><td>0.999871</td><td>0.966667</td><td>0.566667</td><td>0.75</td><td>0.980769</td><td>0.578947</td><td>1.0</td><td>0.0</td><td>0.777778</td><td>0.572539</td><td>0.962258</td><td>1.0</td><td>0.939759</td><td>0.0</td><td>0.0</td><td>0.0</td><td>0.0</td><td>0.0</td><td>0.0</td><td>0.0</td><td>0.0</td><td>0</td><td>0</td><td>(23,[0,1,2,3,4,5,...</td></tr>\n",
              "<tr><td>0.949725</td><td>0.111111</td><td>0.94344</td><td>0.0</td><td>0.111111</td><td>0.5</td><td>0.4375</td><td>0.806452</td><td>1.0</td><td>0.0</td><td>0.892857</td><td>0.959184</td><td>0.914188</td><td>1.0</td><td>0.933333</td><td>0.0</td><td>0.0</td><td>0.0</td><td>0.0</td><td>0.0</td><td>0.0</td><td>0.0</td><td>0.0</td><td>0</td><td>0</td><td>(23,[0,1,2,4,5,6,...</td></tr>\n",
              "<tr><td>0.968877</td><td>0.0</td><td>0.968877</td><td>0.125</td><td>0.125</td><td>0.5</td><td>0.5</td><td>0.870968</td><td>1.0</td><td>0.333333</td><td>0.928571</td><td>0.999201</td><td>0.998851</td><td>1.0</td><td>0.998893</td><td>0.0</td><td>0.0</td><td>0.0</td><td>0.0</td><td>0.0</td><td>0.0</td><td>0.0</td><td>0.0</td><td>0</td><td>0</td><td>(23,[0,2,3,4,5,6,...</td></tr>\n",
              "<tr><td>0.947331</td><td>0.999596</td><td>0.999979</td><td>0.992993</td><td>0.942361</td><td>0.5</td><td>0.999798</td><td>0.806452</td><td>1.0</td><td>0.0</td><td>0.892857</td><td>0.950438</td><td>0.574053</td><td>1.0</td><td>0.9</td><td>0.0</td><td>0.0</td><td>0.0</td><td>0.0</td><td>0.0</td><td>0.0</td><td>0.0</td><td>0.0</td><td>0</td><td>0</td><td>(23,[0,1,2,3,4,5,...</td></tr>\n",
              "<tr><td>0.52</td><td>0.25</td><td>0.64</td><td>1.0</td><td>1.0</td><td>0.833333</td><td>0.875</td><td>0.940972</td><td>1.0</td><td>0.958333</td><td>0.895833</td><td>1.0</td><td>1.0</td><td>1.0</td><td>1.0</td><td>0.0</td><td>0.0</td><td>0.0</td><td>0.0</td><td>0.0</td><td>0.0</td><td>0.0</td><td>0.0</td><td>0</td><td>0</td><td>[0.52,0.25,0.64,1...</td></tr>\n",
              "<tr><td>0.677419</td><td>0.142857</td><td>0.623656</td><td>1.0</td><td>1.0</td><td>0.833333</td><td>0.857143</td><td>0.0555556</td><td>1.0</td><td>0.333333</td><td>0.4</td><td>1.0</td><td>1.0</td><td>1.0</td><td>1.0</td><td>0.0</td><td>0.0</td><td>0.0</td><td>0.0</td><td>0.0</td><td>0.0</td><td>0.0</td><td>0.0</td><td>0</td><td>0</td><td>[0.677419,0.14285...</td></tr>\n",
              "<tr><td>0.995576</td><td>0.9983</td><td>0.999992</td><td>0.992993</td><td>0.75741</td><td>0.9</td><td>0.99983</td><td>0.565217</td><td>1.0</td><td>0.0</td><td>0.833333</td><td>0.703475</td><td>0.785689</td><td>1.0</td><td>0.649046</td><td>0.0</td><td>0.0</td><td>0.0</td><td>0.0</td><td>0.0</td><td>0.0</td><td>0.0</td><td>0.0</td><td>0</td><td>0</td><td>(23,[0,1,2,3,4,5,...</td></tr>\n",
              "<tr><td>0.994573</td><td>0.483871</td><td>0.989484</td><td>1.0</td><td>1.0</td><td>1.0</td><td>1.0</td><td>1.0</td><td>1.0</td><td>1.0</td><td>1.0</td><td>1.0</td><td>1.0</td><td>1.0</td><td>1.0</td><td>0.0</td><td>0.0</td><td>0.0</td><td>0.0</td><td>0.0</td><td>0.0</td><td>0.0</td><td>0.0</td><td>0</td><td>0</td><td>[0.994573,0.48387...</td></tr>\n",
              "<tr><td>0.968</td><td>0.461538</td><td>0.940571</td><td>0.857143</td><td>0.923077</td><td>1.0</td><td>1.0</td><td>1.0</td><td>1.0</td><td>1.0</td><td>1.0</td><td>0.999952</td><td>1.0</td><td>0.960784</td><td>0.99999</td><td>0.0</td><td>0.0</td><td>0.0</td><td>0.0</td><td>0.0</td><td>0.0</td><td>0.0</td><td>0.0</td><td>0</td><td>0</td><td>[0.968,0.461538,0...</td></tr>\n",
              "<tr><td>0.999642</td><td>0.529412</td><td>0.999832</td><td>0.6875</td><td>0.335938</td><td>0.666667</td><td>0.843137</td><td>0.887006</td><td>1.0</td><td>0.932203</td><td>0.813559</td><td>0.109397</td><td>0.999328</td><td>0.999963</td><td>0.942679</td><td>0.0</td><td>0.0</td><td>0.0</td><td>0.0</td><td>0.0</td><td>0.0</td><td>0.0</td><td>0.0</td><td>0</td><td>0</td><td>[0.999642,0.52941...</td></tr>\n",
              "<tr><td>0.912807</td><td>0.930605</td><td>0.204121</td><td>0.989305</td><td>0.84588</td><td>0.969697</td><td>0.997897</td><td>0.580808</td><td>1.0</td><td>0.833333</td><td>0.25</td><td>1.0</td><td>0.998907</td><td>1.0</td><td>0.999208</td><td>0.0</td><td>0.0</td><td>0.0</td><td>0.0</td><td>0.0</td><td>0.0</td><td>0.0</td><td>0.0</td><td>0</td><td>0</td><td>[0.912807,0.93060...</td></tr>\n",
              "<tr><td>0.785013</td><td>0.769231</td><td>0.950388</td><td>0.142857</td><td>0.802198</td><td>0.939394</td><td>0.737374</td><td>0.161616</td><td>1.0</td><td>0.666667</td><td>0.625</td><td>0.999181</td><td>0.999089</td><td>1.0</td><td>0.999208</td><td>0.0</td><td>0.0</td><td>0.0</td><td>0.0</td><td>0.0</td><td>0.0</td><td>0.0</td><td>0.0</td><td>0</td><td>0</td><td>[0.785013,0.76923...</td></tr>\n",
              "<tr><td>0.982274</td><td>0.902135</td><td>0.998265</td><td>0.982175</td><td>0.817858</td><td>0.977778</td><td>0.997825</td><td>0.648148</td><td>1.0</td><td>0.666667</td><td>0.142857</td><td>1.0</td><td>0.999493</td><td>1.0</td><td>0.999662</td><td>0.0</td><td>0.0</td><td>0.0</td><td>0.0</td><td>0.0</td><td>0.0</td><td>0.0</td><td>0.0</td><td>0</td><td>0</td><td>[0.982274,0.90213...</td></tr>\n",
              "<tr><td>0.9805</td><td>0.935065</td><td>0.6997</td><td>0.960526</td><td>0.392105</td><td>0.5</td><td>0.967532</td><td>0.512195</td><td>1.0</td><td>0.8</td><td>0.74359</td><td>1.0</td><td>1.0</td><td>1.0</td><td>1.0</td><td>0.0</td><td>0.0</td><td>0.0</td><td>0.0</td><td>0.0</td><td>0.0</td><td>0.0</td><td>0.0</td><td>0</td><td>0</td><td>[0.9805,0.935065,...</td></tr>\n",
              "<tr><td>0.955049</td><td>0.0</td><td>0.955049</td><td>1.0</td><td>1.0</td><td>0.2</td><td>0.2</td><td>0.998</td><td>0.999609</td><td>0.0</td><td>0.999468</td><td>1.0</td><td>1.0</td><td>1.0</td><td>1.0</td><td>0.0</td><td>0.0</td><td>0.0</td><td>0.0</td><td>0.0</td><td>0.0</td><td>0.0</td><td>0.0</td><td>0</td><td>0</td><td>(23,[0,2,3,4,5,6,...</td></tr>\n",
              "<tr><td>0.987793</td><td>0.333333</td><td>0.981689</td><td>1.0</td><td>1.0</td><td>1.0</td><td>1.0</td><td>1.0</td><td>1.0</td><td>1.0</td><td>1.0</td><td>1.0</td><td>1.0</td><td>0.0</td><td>1.0</td><td>0.0</td><td>0.0</td><td>0.0</td><td>0.0</td><td>0.0</td><td>0.0</td><td>0.0</td><td>0.0</td><td>0</td><td>0</td><td>(23,[0,1,2,3,4,5,...</td></tr>\n",
              "<tr><td>0.855805</td><td>0.3125</td><td>0.900866</td><td>0.692308</td><td>0.552448</td><td>0.571429</td><td>0.705357</td><td>0.900332</td><td>0.960416</td><td>0.0</td><td>0.922078</td><td>0.462983</td><td>0.785308</td><td>0.888889</td><td>0.76875</td><td>0.0</td><td>0.0</td><td>0.0</td><td>0.0</td><td>0.0</td><td>0.0</td><td>0.0</td><td>0.0</td><td>0</td><td>0</td><td>(23,[0,1,2,3,4,5,...</td></tr>\n",
              "<tr><td>0.846021</td><td>0.988671</td><td>0.926428</td><td>0.995876</td><td>0.635989</td><td>0.857143</td><td>0.998382</td><td>0.3</td><td>1.0</td><td>0.0</td><td>0.666667</td><td>0.643491</td><td>0.749038</td><td>0.888889</td><td>0.735714</td><td>0.0</td><td>0.0</td><td>0.0</td><td>0.0</td><td>0.0</td><td>0.0</td><td>0.0</td><td>0.0</td><td>0</td><td>0</td><td>(23,[0,1,2,3,4,5,...</td></tr>\n",
              "</table>\n",
              "only showing top 20 rows\n"
            ]
          },
          "metadata": {},
          "execution_count": 24
        }
      ]
    },
    {
      "cell_type": "code",
      "source": [
        "\n",
        "result = sampled_data.union(filtered_data_1)"
      ],
      "metadata": {
        "id": "PjgPUiISRvP0"
      },
      "execution_count": 25,
      "outputs": []
    },
    {
      "cell_type": "code",
      "source": [
        "result.count()"
      ],
      "metadata": {
        "id": "Ao5uByVFlghL",
        "colab": {
          "base_uri": "https://localhost:8080/"
        },
        "outputId": "60f605fb-e6e1-492f-ba7e-9ac609b97de3"
      },
      "execution_count": 26,
      "outputs": [
        {
          "output_type": "execute_result",
          "data": {
            "text/plain": [
              "553"
            ]
          },
          "metadata": {},
          "execution_count": 26
        }
      ]
    },
    {
      "cell_type": "markdown",
      "source": [
        "# Modeling"
      ],
      "metadata": {
        "id": "uX003BuO2GV2"
      }
    },
    {
      "cell_type": "code",
      "source": [
        "\n",
        "# Define the layers for the neural network\n",
        "layers = [len(numericCols), 5, 4, 2]\n",
        "\n",
        "# Define the parameter grid for tuning\n",
        "param_grid = ParamGridBuilder() \\\n",
        "    .addGrid(MultilayerPerceptronClassifier.maxIter, [100, 200]) \\\n",
        "    .addGrid(MultilayerPerceptronClassifier.blockSize, [128, 256]) \\\n",
        "    .build()\n",
        "# Create a CrossValidator\n",
        "crossval = CrossValidator(estimator=MultilayerPerceptronClassifier(maxIter=100, layers=layers, blockSize=128, seed=1234, labelCol=\"datesets_duplicates_match\", featuresCol=\"features\"),\n",
        "                          estimatorParamMaps=param_grid,\n",
        "                          evaluator=MulticlassClassificationEvaluator(labelCol=\"datesets_duplicates_match\", predictionCol=\"prediction\", metricName=\"accuracy\"))\n",
        "\n",
        "# Fit the model using the cross-validator\n",
        "cv_model = crossval.fit(result)\n",
        "\n",
        "# Get the best model from cross-validation\n",
        "best_model = cv_model.bestModel\n",
        "\n",
        "# Make predictions on the test data\n",
        "\n",
        "predictions = best_model.transform(result)"
      ],
      "metadata": {
        "id": "89mDJh_9lYNv"
      },
      "execution_count": 27,
      "outputs": []
    },
    {
      "cell_type": "markdown",
      "source": [
        "# Evaluation"
      ],
      "metadata": {
        "id": "r7AIe78E3Fyf"
      }
    },
    {
      "cell_type": "code",
      "source": [
        "# Calculate TP, TN, FP, FN from the predictions\n",
        "TP = predictions.filter(\"datesets_duplicates_match = 1 AND prediction = 1\").count()\n",
        "TN = predictions.filter(\"datesets_duplicates_match = 0 AND prediction = 0\").count()\n",
        "FP = predictions.filter(\"datesets_duplicates_match = 0 AND prediction = 1\").count()\n",
        "FN = predictions.filter(\"datesets_duplicates_match = 1 AND prediction = 0\").count()\n",
        "\n",
        "# Calculate Accuracy\n",
        "accuracy = (TP + TN) / (TP + TN + FP + FN)\n",
        "\n",
        "# Calculate Precision\n",
        "precision = TP / (TP + FP)\n",
        "\n",
        "# Calculate Recall\n",
        "recall = TP / (TP + FN)\n",
        "\n",
        "# Calculate F1 Score\n",
        "f1_score = 2 * (precision * recall) / (precision + recall)\n",
        "\n",
        "\n",
        "\n",
        "# Print the results\n",
        "print(\"Accuracy: {:.2f}\".format(accuracy * 100))\n",
        "print(\"Precision: {:.2f}\".format(precision * 100))\n",
        "print(\"Recall: {:.2f}\".format(recall * 100))\n",
        "print(\"F1 Score: {:.2f}\".format(f1_score * 100))\n",
        "\n"
      ],
      "metadata": {
        "id": "cpr9rZTRuvG-",
        "outputId": "ee147048-4e37-4ec9-f67f-1bfc6711f7a8",
        "colab": {
          "base_uri": "https://localhost:8080/"
        }
      },
      "execution_count": 30,
      "outputs": [
        {
          "output_type": "stream",
          "name": "stdout",
          "text": [
            "Accuracy: 99.46\n",
            "Precision: 97.71\n",
            "Recall: 100.00\n",
            "F1 Score: 98.84\n"
          ]
        }
      ]
    }
  ]
}